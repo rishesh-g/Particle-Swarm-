{
  "nbformat": 4,
  "nbformat_minor": 0,
  "metadata": {
    "kernelspec": {
      "display_name": "Python 3",
      "language": "python",
      "name": "python3"
    },
    "language_info": {
      "codemirror_mode": {
        "name": "ipython",
        "version": 3
      },
      "file_extension": ".py",
      "mimetype": "text/x-python",
      "name": "python",
      "nbconvert_exporter": "python",
      "pygments_lexer": "ipython3",
      "version": "3.7.4"
    },
    "colab": {
      "name": "_Optimization Project Code.ipynb",
      "provenance": [],
      "collapsed_sections": [],
      "toc_visible": true,
      "include_colab_link": true
    }
  },
  "cells": [
    {
      "cell_type": "markdown",
      "metadata": {
        "id": "view-in-github",
        "colab_type": "text"
      },
      "source": [
        "<a href=\"https://colab.research.google.com/github/rishesh-g/Particle-Swarm-/blob/main/_Optimization_Project_Code.ipynb\" target=\"_parent\"><img src=\"https://colab.research.google.com/assets/colab-badge.svg\" alt=\"Open In Colab\"/></a>"
      ]
    },
    {
      "cell_type": "markdown",
      "metadata": {
        "id": "rS9gFxkYBBza"
      },
      "source": [
        "# Imports"
      ]
    },
    {
      "cell_type": "code",
      "metadata": {
        "id": "C0BvWOhLkhhj"
      },
      "source": [
        ""
      ],
      "execution_count": null,
      "outputs": []
    },
    {
      "cell_type": "code",
      "metadata": {
        "id": "6PYo9Z67kheJ"
      },
      "source": [
        ""
      ],
      "execution_count": null,
      "outputs": []
    },
    {
      "cell_type": "code",
      "metadata": {
        "id": "4QJC9haB9mJN"
      },
      "source": [
        "import numpy as np\n",
        "import pandas as pd\n",
        "import matplotlib.pyplot as plt\n",
        "%matplotlib inline"
      ],
      "execution_count": null,
      "outputs": []
    },
    {
      "cell_type": "code",
      "metadata": {
        "id": "yKeaKExz9mJh"
      },
      "source": [
        "from keras.models import Sequential\n",
        "from keras.layers import Dense\n",
        "from keras.wrappers.scikit_learn import KerasRegressor\n",
        "from sklearn.model_selection import cross_val_score\n",
        "from sklearn.model_selection import KFold\n",
        "from sklearn.preprocessing import StandardScaler\n",
        "from sklearn.pipeline import Pipeline"
      ],
      "execution_count": null,
      "outputs": []
    },
    {
      "cell_type": "code",
      "metadata": {
        "id": "b-HYMJdT9mJ8"
      },
      "source": [
        "import pandas_datareader as pdr\n",
        "import datetime"
      ],
      "execution_count": null,
      "outputs": []
    },
    {
      "cell_type": "code",
      "metadata": {
        "id": "0F_6MjXCC0QQ"
      },
      "source": [
        "from __future__ import division\n",
        "import random\n",
        "import math\n",
        "import time"
      ],
      "execution_count": null,
      "outputs": []
    },
    {
      "cell_type": "code",
      "metadata": {
        "id": "D7QYQFBhI7Ac",
        "colab": {
          "base_uri": "https://localhost:8080/",
          "height": 207
        },
        "outputId": "0397c405-0c07-4d74-e5a0-0703da719453"
      },
      "source": [
        "!pip install pyswarm"
      ],
      "execution_count": null,
      "outputs": [
        {
          "output_type": "stream",
          "text": [
            "Collecting pyswarm\n",
            "  Downloading https://files.pythonhosted.org/packages/79/1e/254c108b5e65c65d57a83a9a448405ea8b6a6c5c10dada8bcab4e9d9a831/pyswarm-0.6.tar.gz\n",
            "Requirement already satisfied: numpy in /usr/local/lib/python3.6/dist-packages (from pyswarm) (1.18.5)\n",
            "Building wheels for collected packages: pyswarm\n",
            "  Building wheel for pyswarm (setup.py) ... \u001b[?25l\u001b[?25hdone\n",
            "  Created wheel for pyswarm: filename=pyswarm-0.6-cp36-none-any.whl size=4481 sha256=367b9591302efcd1275b565d61b50bff708a18f8a84f6cf270c493fc69cb1631\n",
            "  Stored in directory: /root/.cache/pip/wheels/37/c5/f6/b33b9ac00040cb95c1f00af982a4197334a672d6de43f4699f\n",
            "Successfully built pyswarm\n",
            "Installing collected packages: pyswarm\n",
            "Successfully installed pyswarm-0.6\n"
          ],
          "name": "stdout"
        }
      ]
    },
    {
      "cell_type": "code",
      "metadata": {
        "id": "B5OyZsYEDA6-"
      },
      "source": [
        "from pyswarm import pso\n",
        "from sklearn.svm import SVR\n",
        "from sklearn.model_selection import TimeSeriesSplit"
      ],
      "execution_count": null,
      "outputs": []
    },
    {
      "cell_type": "markdown",
      "metadata": {
        "id": "ViUKUiPjBL5B"
      },
      "source": [
        "# Get Data"
      ]
    },
    {
      "cell_type": "code",
      "metadata": {
        "id": "4FXnSn-G7t42"
      },
      "source": [
        "com = 'Apple'\n",
        "share = 'AAPL'\n",
        "start = '2016-01-01'"
      ],
      "execution_count": null,
      "outputs": []
    },
    {
      "cell_type": "code",
      "metadata": {
        "id": "VGu2Xj_39mKJ"
      },
      "source": [
        "dat = pdr.get_data_yahoo(share,start = start)"
      ],
      "execution_count": null,
      "outputs": []
    },
    {
      "cell_type": "code",
      "metadata": {
        "id": "HyQdzCBk9mKX",
        "colab": {
          "base_uri": "https://localhost:8080/",
          "height": 450
        },
        "outputId": "902792f3-c0f2-4095-8058-d4a5f88868f8"
      },
      "source": [
        "dat"
      ],
      "execution_count": null,
      "outputs": [
        {
          "output_type": "execute_result",
          "data": {
            "text/html": [
              "<div>\n",
              "<style scoped>\n",
              "    .dataframe tbody tr th:only-of-type {\n",
              "        vertical-align: middle;\n",
              "    }\n",
              "\n",
              "    .dataframe tbody tr th {\n",
              "        vertical-align: top;\n",
              "    }\n",
              "\n",
              "    .dataframe thead th {\n",
              "        text-align: right;\n",
              "    }\n",
              "</style>\n",
              "<table border=\"1\" class=\"dataframe\">\n",
              "  <thead>\n",
              "    <tr style=\"text-align: right;\">\n",
              "      <th></th>\n",
              "      <th>High</th>\n",
              "      <th>Low</th>\n",
              "      <th>Open</th>\n",
              "      <th>Close</th>\n",
              "      <th>Volume</th>\n",
              "      <th>Adj Close</th>\n",
              "    </tr>\n",
              "    <tr>\n",
              "      <th>Date</th>\n",
              "      <th></th>\n",
              "      <th></th>\n",
              "      <th></th>\n",
              "      <th></th>\n",
              "      <th></th>\n",
              "      <th></th>\n",
              "    </tr>\n",
              "  </thead>\n",
              "  <tbody>\n",
              "    <tr>\n",
              "      <th>2016-01-04</th>\n",
              "      <td>26.342501</td>\n",
              "      <td>25.500000</td>\n",
              "      <td>25.652500</td>\n",
              "      <td>26.337500</td>\n",
              "      <td>270597600.0</td>\n",
              "      <td>24.443037</td>\n",
              "    </tr>\n",
              "    <tr>\n",
              "      <th>2016-01-05</th>\n",
              "      <td>26.462500</td>\n",
              "      <td>25.602501</td>\n",
              "      <td>26.437500</td>\n",
              "      <td>25.677500</td>\n",
              "      <td>223164000.0</td>\n",
              "      <td>23.830513</td>\n",
              "    </tr>\n",
              "    <tr>\n",
              "      <th>2016-01-06</th>\n",
              "      <td>25.592501</td>\n",
              "      <td>24.967501</td>\n",
              "      <td>25.139999</td>\n",
              "      <td>25.174999</td>\n",
              "      <td>273829600.0</td>\n",
              "      <td>23.364161</td>\n",
              "    </tr>\n",
              "    <tr>\n",
              "      <th>2016-01-07</th>\n",
              "      <td>25.032499</td>\n",
              "      <td>24.107500</td>\n",
              "      <td>24.670000</td>\n",
              "      <td>24.112499</td>\n",
              "      <td>324377600.0</td>\n",
              "      <td>22.378082</td>\n",
              "    </tr>\n",
              "    <tr>\n",
              "      <th>2016-01-08</th>\n",
              "      <td>24.777500</td>\n",
              "      <td>24.190001</td>\n",
              "      <td>24.637501</td>\n",
              "      <td>24.240000</td>\n",
              "      <td>283192000.0</td>\n",
              "      <td>22.496408</td>\n",
              "    </tr>\n",
              "    <tr>\n",
              "      <th>...</th>\n",
              "      <td>...</td>\n",
              "      <td>...</td>\n",
              "      <td>...</td>\n",
              "      <td>...</td>\n",
              "      <td>...</td>\n",
              "      <td>...</td>\n",
              "    </tr>\n",
              "    <tr>\n",
              "      <th>2020-10-06</th>\n",
              "      <td>116.120003</td>\n",
              "      <td>112.250000</td>\n",
              "      <td>115.699997</td>\n",
              "      <td>113.160004</td>\n",
              "      <td>161498200.0</td>\n",
              "      <td>113.160004</td>\n",
              "    </tr>\n",
              "    <tr>\n",
              "      <th>2020-10-07</th>\n",
              "      <td>115.550003</td>\n",
              "      <td>114.129997</td>\n",
              "      <td>114.620003</td>\n",
              "      <td>115.080002</td>\n",
              "      <td>96849000.0</td>\n",
              "      <td>115.080002</td>\n",
              "    </tr>\n",
              "    <tr>\n",
              "      <th>2020-10-08</th>\n",
              "      <td>116.400002</td>\n",
              "      <td>114.589996</td>\n",
              "      <td>116.250000</td>\n",
              "      <td>114.970001</td>\n",
              "      <td>83477200.0</td>\n",
              "      <td>114.970001</td>\n",
              "    </tr>\n",
              "    <tr>\n",
              "      <th>2020-10-09</th>\n",
              "      <td>117.000000</td>\n",
              "      <td>114.919998</td>\n",
              "      <td>115.279999</td>\n",
              "      <td>116.970001</td>\n",
              "      <td>100506900.0</td>\n",
              "      <td>116.970001</td>\n",
              "    </tr>\n",
              "    <tr>\n",
              "      <th>2020-10-12</th>\n",
              "      <td>125.180000</td>\n",
              "      <td>119.279999</td>\n",
              "      <td>120.059998</td>\n",
              "      <td>124.400002</td>\n",
              "      <td>239388800.0</td>\n",
              "      <td>124.400002</td>\n",
              "    </tr>\n",
              "  </tbody>\n",
              "</table>\n",
              "<p>1203 rows × 6 columns</p>\n",
              "</div>"
            ],
            "text/plain": [
              "                  High         Low  ...       Volume   Adj Close\n",
              "Date                                ...                         \n",
              "2016-01-04   26.342501   25.500000  ...  270597600.0   24.443037\n",
              "2016-01-05   26.462500   25.602501  ...  223164000.0   23.830513\n",
              "2016-01-06   25.592501   24.967501  ...  273829600.0   23.364161\n",
              "2016-01-07   25.032499   24.107500  ...  324377600.0   22.378082\n",
              "2016-01-08   24.777500   24.190001  ...  283192000.0   22.496408\n",
              "...                ...         ...  ...          ...         ...\n",
              "2020-10-06  116.120003  112.250000  ...  161498200.0  113.160004\n",
              "2020-10-07  115.550003  114.129997  ...   96849000.0  115.080002\n",
              "2020-10-08  116.400002  114.589996  ...   83477200.0  114.970001\n",
              "2020-10-09  117.000000  114.919998  ...  100506900.0  116.970001\n",
              "2020-10-12  125.180000  119.279999  ...  239388800.0  124.400002\n",
              "\n",
              "[1203 rows x 6 columns]"
            ]
          },
          "metadata": {
            "tags": []
          },
          "execution_count": 9
        }
      ]
    },
    {
      "cell_type": "markdown",
      "metadata": {
        "id": "laXnP5x6CXKc"
      },
      "source": [
        "# Features"
      ]
    },
    {
      "cell_type": "code",
      "metadata": {
        "id": "SlkAt_V19mKm"
      },
      "source": [
        "def typical(high,low,close,volume):\n",
        "    mf = ((high + low + close)/3)*volume\n",
        "    return mf     "
      ],
      "execution_count": null,
      "outputs": []
    },
    {
      "cell_type": "code",
      "metadata": {
        "id": "3PX-UFkw9mK0"
      },
      "source": [
        "#EMA\n",
        "def EMA(data):\n",
        "    dats = data.astype(float)\n",
        "    data['EMA'] = dats.ewm(span = 20).mean()\n",
        "    return data['EMA']"
      ],
      "execution_count": null,
      "outputs": []
    },
    {
      "cell_type": "code",
      "metadata": {
        "id": "-0WcFBY79mLH"
      },
      "source": [
        "def MFI(data):\n",
        "    returns = data - data.shift(1)\n",
        "    returns.dropna()\n",
        "    up,down = returns.copy(),returns.copy()\n",
        "    up[up<0] = 0\n",
        "    down[down>0] = 0\n",
        "    upm = up.mean()\n",
        "    downm = down.abs().mean()\n",
        "    \n",
        "    try:\n",
        "      mfi = 100 - (100/(1+float(upm/downm)))\n",
        "      return mfi\n",
        "    except ZeroDivisionError:\n",
        "      return 0"
      ],
      "execution_count": null,
      "outputs": []
    },
    {
      "cell_type": "code",
      "metadata": {
        "id": "n9tAEsd69mLW"
      },
      "source": [
        "#RSI\n",
        "def RSI(data):\n",
        "    returns = data - data.shift(1)\n",
        "    returns.dropna()\n",
        "    up,down = returns.copy(),returns.copy()\n",
        "    up[up<0] = 0\n",
        "    down[down>0] = 0\n",
        "    upm = up.mean()\n",
        "    downm = down.abs().mean()\n",
        "    try:\n",
        "      rsi = 100 - (100/(1+float(upm/downm)))\n",
        "      return rsi\n",
        "    except ZeroDivisionError:\n",
        "      return 0 "
      ],
      "execution_count": null,
      "outputs": []
    },
    {
      "cell_type": "code",
      "metadata": {
        "id": "J2479naC9mLj"
      },
      "source": [
        "def MACD(ema):\n",
        "    high = 0.075 * ema\n",
        "    low = 0.15 * ema\n",
        "    macd = high - low\n",
        "    return macd"
      ],
      "execution_count": null,
      "outputs": []
    },
    {
      "cell_type": "code",
      "metadata": {
        "id": "b6A_ywfT9mLt"
      },
      "source": [
        "def Oscillator(data):\n",
        "    curr = data[-1]\n",
        "    data = list(data)\n",
        "    high = max(data)\n",
        "    low = min(data)\n",
        "    so = ((curr - low)/(high - low))*100 \n",
        "    return so"
      ],
      "execution_count": null,
      "outputs": []
    },
    {
      "cell_type": "code",
      "metadata": {
        "id": "2T_-8yqN9mL8"
      },
      "source": [
        "dat['MF'] = typical(dat['High'],dat['Low'],dat['Close'],dat['Volume'])"
      ],
      "execution_count": null,
      "outputs": []
    },
    {
      "cell_type": "code",
      "metadata": {
        "id": "Bw_1EXsY-atv",
        "colab": {
          "base_uri": "https://localhost:8080/",
          "height": 450
        },
        "outputId": "b3f11257-59e7-4a36-9909-14a7d7a9f066"
      },
      "source": [
        "dat"
      ],
      "execution_count": null,
      "outputs": [
        {
          "output_type": "execute_result",
          "data": {
            "text/html": [
              "<div>\n",
              "<style scoped>\n",
              "    .dataframe tbody tr th:only-of-type {\n",
              "        vertical-align: middle;\n",
              "    }\n",
              "\n",
              "    .dataframe tbody tr th {\n",
              "        vertical-align: top;\n",
              "    }\n",
              "\n",
              "    .dataframe thead th {\n",
              "        text-align: right;\n",
              "    }\n",
              "</style>\n",
              "<table border=\"1\" class=\"dataframe\">\n",
              "  <thead>\n",
              "    <tr style=\"text-align: right;\">\n",
              "      <th></th>\n",
              "      <th>High</th>\n",
              "      <th>Low</th>\n",
              "      <th>Open</th>\n",
              "      <th>Close</th>\n",
              "      <th>Volume</th>\n",
              "      <th>Adj Close</th>\n",
              "      <th>MF</th>\n",
              "    </tr>\n",
              "    <tr>\n",
              "      <th>Date</th>\n",
              "      <th></th>\n",
              "      <th></th>\n",
              "      <th></th>\n",
              "      <th></th>\n",
              "      <th></th>\n",
              "      <th></th>\n",
              "      <th></th>\n",
              "    </tr>\n",
              "  </thead>\n",
              "  <tbody>\n",
              "    <tr>\n",
              "      <th>2016-01-04</th>\n",
              "      <td>26.342501</td>\n",
              "      <td>25.500000</td>\n",
              "      <td>25.652500</td>\n",
              "      <td>26.337500</td>\n",
              "      <td>270597600.0</td>\n",
              "      <td>24.443037</td>\n",
              "      <td>7.051773e+09</td>\n",
              "    </tr>\n",
              "    <tr>\n",
              "      <th>2016-01-05</th>\n",
              "      <td>26.462500</td>\n",
              "      <td>25.602501</td>\n",
              "      <td>26.437500</td>\n",
              "      <td>25.677500</td>\n",
              "      <td>223164000.0</td>\n",
              "      <td>23.830513</td>\n",
              "      <td>5.783109e+09</td>\n",
              "    </tr>\n",
              "    <tr>\n",
              "      <th>2016-01-06</th>\n",
              "      <td>25.592501</td>\n",
              "      <td>24.967501</td>\n",
              "      <td>25.139999</td>\n",
              "      <td>25.174999</td>\n",
              "      <td>273829600.0</td>\n",
              "      <td>23.364161</td>\n",
              "      <td>6.912828e+09</td>\n",
              "    </tr>\n",
              "    <tr>\n",
              "      <th>2016-01-07</th>\n",
              "      <td>25.032499</td>\n",
              "      <td>24.107500</td>\n",
              "      <td>24.670000</td>\n",
              "      <td>24.112499</td>\n",
              "      <td>324377600.0</td>\n",
              "      <td>22.378082</td>\n",
              "      <td>7.920490e+09</td>\n",
              "    </tr>\n",
              "    <tr>\n",
              "      <th>2016-01-08</th>\n",
              "      <td>24.777500</td>\n",
              "      <td>24.190001</td>\n",
              "      <td>24.637501</td>\n",
              "      <td>24.240000</td>\n",
              "      <td>283192000.0</td>\n",
              "      <td>22.496408</td>\n",
              "      <td>6.910593e+09</td>\n",
              "    </tr>\n",
              "    <tr>\n",
              "      <th>...</th>\n",
              "      <td>...</td>\n",
              "      <td>...</td>\n",
              "      <td>...</td>\n",
              "      <td>...</td>\n",
              "      <td>...</td>\n",
              "      <td>...</td>\n",
              "      <td>...</td>\n",
              "    </tr>\n",
              "    <tr>\n",
              "      <th>2020-10-06</th>\n",
              "      <td>116.120003</td>\n",
              "      <td>112.250000</td>\n",
              "      <td>115.699997</td>\n",
              "      <td>113.160004</td>\n",
              "      <td>161498200.0</td>\n",
              "      <td>113.160004</td>\n",
              "      <td>1.838549e+10</td>\n",
              "    </tr>\n",
              "    <tr>\n",
              "      <th>2020-10-07</th>\n",
              "      <td>115.550003</td>\n",
              "      <td>114.129997</td>\n",
              "      <td>114.620003</td>\n",
              "      <td>115.080002</td>\n",
              "      <td>96849000.0</td>\n",
              "      <td>115.080002</td>\n",
              "      <td>1.112989e+10</td>\n",
              "    </tr>\n",
              "    <tr>\n",
              "      <th>2020-10-08</th>\n",
              "      <td>116.400002</td>\n",
              "      <td>114.589996</td>\n",
              "      <td>116.250000</td>\n",
              "      <td>114.970001</td>\n",
              "      <td>83477200.0</td>\n",
              "      <td>114.970001</td>\n",
              "      <td>9.626591e+09</td>\n",
              "    </tr>\n",
              "    <tr>\n",
              "      <th>2020-10-09</th>\n",
              "      <td>117.000000</td>\n",
              "      <td>114.919998</td>\n",
              "      <td>115.279999</td>\n",
              "      <td>116.970001</td>\n",
              "      <td>100506900.0</td>\n",
              "      <td>116.970001</td>\n",
              "      <td>1.168862e+10</td>\n",
              "    </tr>\n",
              "    <tr>\n",
              "      <th>2020-10-12</th>\n",
              "      <td>125.180000</td>\n",
              "      <td>119.279999</td>\n",
              "      <td>120.059998</td>\n",
              "      <td>124.400002</td>\n",
              "      <td>239388800.0</td>\n",
              "      <td>124.400002</td>\n",
              "      <td>2.943365e+10</td>\n",
              "    </tr>\n",
              "  </tbody>\n",
              "</table>\n",
              "<p>1203 rows × 7 columns</p>\n",
              "</div>"
            ],
            "text/plain": [
              "                  High         Low  ...   Adj Close            MF\n",
              "Date                                ...                          \n",
              "2016-01-04   26.342501   25.500000  ...   24.443037  7.051773e+09\n",
              "2016-01-05   26.462500   25.602501  ...   23.830513  5.783109e+09\n",
              "2016-01-06   25.592501   24.967501  ...   23.364161  6.912828e+09\n",
              "2016-01-07   25.032499   24.107500  ...   22.378082  7.920490e+09\n",
              "2016-01-08   24.777500   24.190001  ...   22.496408  6.910593e+09\n",
              "...                ...         ...  ...         ...           ...\n",
              "2020-10-06  116.120003  112.250000  ...  113.160004  1.838549e+10\n",
              "2020-10-07  115.550003  114.129997  ...  115.080002  1.112989e+10\n",
              "2020-10-08  116.400002  114.589996  ...  114.970001  9.626591e+09\n",
              "2020-10-09  117.000000  114.919998  ...  116.970001  1.168862e+10\n",
              "2020-10-12  125.180000  119.279999  ...  124.400002  2.943365e+10\n",
              "\n",
              "[1203 rows x 7 columns]"
            ]
          },
          "metadata": {
            "tags": []
          },
          "execution_count": 17
        }
      ]
    },
    {
      "cell_type": "code",
      "metadata": {
        "id": "z00o8Bjh9mMK",
        "colab": {
          "base_uri": "https://localhost:8080/",
          "height": 139
        },
        "outputId": "df94f4f6-f880-4f5f-ea6a-d446ccc00151"
      },
      "source": [
        "dat['EMA'] = EMA(dat.iloc[:,[3]])"
      ],
      "execution_count": null,
      "outputs": [
        {
          "output_type": "stream",
          "text": [
            "/usr/local/lib/python3.6/dist-packages/ipykernel_launcher.py:4: SettingWithCopyWarning: \n",
            "A value is trying to be set on a copy of a slice from a DataFrame.\n",
            "Try using .loc[row_indexer,col_indexer] = value instead\n",
            "\n",
            "See the caveats in the documentation: https://pandas.pydata.org/pandas-docs/stable/user_guide/indexing.html#returning-a-view-versus-a-copy\n",
            "  after removing the cwd from sys.path.\n"
          ],
          "name": "stderr"
        }
      ]
    },
    {
      "cell_type": "code",
      "metadata": {
        "id": "Izj4Xmj29mMW"
      },
      "source": [
        "dat['RSI'] = dat['Close'].rolling(7).apply(RSI)"
      ],
      "execution_count": null,
      "outputs": []
    },
    {
      "cell_type": "code",
      "metadata": {
        "id": "PnmswU339mMh"
      },
      "source": [
        "dat['MFI'] = dat['MF'].rolling(7).apply(MFI)"
      ],
      "execution_count": null,
      "outputs": []
    },
    {
      "cell_type": "code",
      "metadata": {
        "id": "L-agnWuk9mMs"
      },
      "source": [
        "dat['SO'] = dat['Close'].rolling(7).apply(Oscillator)"
      ],
      "execution_count": null,
      "outputs": []
    },
    {
      "cell_type": "code",
      "metadata": {
        "id": "wpBNpprZ9mM1",
        "colab": {
          "base_uri": "https://localhost:8080/",
          "height": 640
        },
        "outputId": "eeaf57e0-b2c1-40f9-a4e8-9d0d7fe296cf"
      },
      "source": [
        "dat"
      ],
      "execution_count": null,
      "outputs": [
        {
          "output_type": "execute_result",
          "data": {
            "text/html": [
              "<div>\n",
              "<style scoped>\n",
              "    .dataframe tbody tr th:only-of-type {\n",
              "        vertical-align: middle;\n",
              "    }\n",
              "\n",
              "    .dataframe tbody tr th {\n",
              "        vertical-align: top;\n",
              "    }\n",
              "\n",
              "    .dataframe thead th {\n",
              "        text-align: right;\n",
              "    }\n",
              "</style>\n",
              "<table border=\"1\" class=\"dataframe\">\n",
              "  <thead>\n",
              "    <tr style=\"text-align: right;\">\n",
              "      <th></th>\n",
              "      <th>High</th>\n",
              "      <th>Low</th>\n",
              "      <th>Open</th>\n",
              "      <th>Close</th>\n",
              "      <th>Volume</th>\n",
              "      <th>Adj Close</th>\n",
              "      <th>MF</th>\n",
              "      <th>EMA</th>\n",
              "      <th>RSI</th>\n",
              "      <th>MFI</th>\n",
              "      <th>SO</th>\n",
              "    </tr>\n",
              "    <tr>\n",
              "      <th>Date</th>\n",
              "      <th></th>\n",
              "      <th></th>\n",
              "      <th></th>\n",
              "      <th></th>\n",
              "      <th></th>\n",
              "      <th></th>\n",
              "      <th></th>\n",
              "      <th></th>\n",
              "      <th></th>\n",
              "      <th></th>\n",
              "      <th></th>\n",
              "    </tr>\n",
              "  </thead>\n",
              "  <tbody>\n",
              "    <tr>\n",
              "      <th>2016-01-04</th>\n",
              "      <td>26.342501</td>\n",
              "      <td>25.500000</td>\n",
              "      <td>25.652500</td>\n",
              "      <td>26.337500</td>\n",
              "      <td>270597600.0</td>\n",
              "      <td>24.443037</td>\n",
              "      <td>7.051773e+09</td>\n",
              "      <td>26.337500</td>\n",
              "      <td>NaN</td>\n",
              "      <td>NaN</td>\n",
              "      <td>NaN</td>\n",
              "    </tr>\n",
              "    <tr>\n",
              "      <th>2016-01-05</th>\n",
              "      <td>26.462500</td>\n",
              "      <td>25.602501</td>\n",
              "      <td>26.437500</td>\n",
              "      <td>25.677500</td>\n",
              "      <td>223164000.0</td>\n",
              "      <td>23.830513</td>\n",
              "      <td>5.783109e+09</td>\n",
              "      <td>25.991000</td>\n",
              "      <td>NaN</td>\n",
              "      <td>NaN</td>\n",
              "      <td>NaN</td>\n",
              "    </tr>\n",
              "    <tr>\n",
              "      <th>2016-01-06</th>\n",
              "      <td>25.592501</td>\n",
              "      <td>24.967501</td>\n",
              "      <td>25.139999</td>\n",
              "      <td>25.174999</td>\n",
              "      <td>273829600.0</td>\n",
              "      <td>23.364161</td>\n",
              "      <td>6.912828e+09</td>\n",
              "      <td>25.691369</td>\n",
              "      <td>NaN</td>\n",
              "      <td>NaN</td>\n",
              "      <td>NaN</td>\n",
              "    </tr>\n",
              "    <tr>\n",
              "      <th>2016-01-07</th>\n",
              "      <td>25.032499</td>\n",
              "      <td>24.107500</td>\n",
              "      <td>24.670000</td>\n",
              "      <td>24.112499</td>\n",
              "      <td>324377600.0</td>\n",
              "      <td>22.378082</td>\n",
              "      <td>7.920490e+09</td>\n",
              "      <td>25.235574</td>\n",
              "      <td>NaN</td>\n",
              "      <td>NaN</td>\n",
              "      <td>NaN</td>\n",
              "    </tr>\n",
              "    <tr>\n",
              "      <th>2016-01-08</th>\n",
              "      <td>24.777500</td>\n",
              "      <td>24.190001</td>\n",
              "      <td>24.637501</td>\n",
              "      <td>24.240000</td>\n",
              "      <td>283192000.0</td>\n",
              "      <td>22.496408</td>\n",
              "      <td>6.910593e+09</td>\n",
              "      <td>24.994753</td>\n",
              "      <td>NaN</td>\n",
              "      <td>NaN</td>\n",
              "      <td>NaN</td>\n",
              "    </tr>\n",
              "    <tr>\n",
              "      <th>...</th>\n",
              "      <td>...</td>\n",
              "      <td>...</td>\n",
              "      <td>...</td>\n",
              "      <td>...</td>\n",
              "      <td>...</td>\n",
              "      <td>...</td>\n",
              "      <td>...</td>\n",
              "      <td>...</td>\n",
              "      <td>...</td>\n",
              "      <td>...</td>\n",
              "      <td>...</td>\n",
              "    </tr>\n",
              "    <tr>\n",
              "      <th>2020-10-06</th>\n",
              "      <td>116.120003</td>\n",
              "      <td>112.250000</td>\n",
              "      <td>115.699997</td>\n",
              "      <td>113.160004</td>\n",
              "      <td>161498200.0</td>\n",
              "      <td>113.160004</td>\n",
              "      <td>1.838549e+10</td>\n",
              "      <td>114.136023</td>\n",
              "      <td>43.644089</td>\n",
              "      <td>55.167786</td>\n",
              "      <td>3.713710</td>\n",
              "    </tr>\n",
              "    <tr>\n",
              "      <th>2020-10-07</th>\n",
              "      <td>115.550003</td>\n",
              "      <td>114.129997</td>\n",
              "      <td>114.620003</td>\n",
              "      <td>115.080002</td>\n",
              "      <td>96849000.0</td>\n",
              "      <td>115.080002</td>\n",
              "      <td>1.112989e+10</td>\n",
              "      <td>114.225926</td>\n",
              "      <td>53.254454</td>\n",
              "      <td>49.592418</td>\n",
              "      <td>54.641986</td>\n",
              "    </tr>\n",
              "    <tr>\n",
              "      <th>2020-10-08</th>\n",
              "      <td>116.400002</td>\n",
              "      <td>114.589996</td>\n",
              "      <td>116.250000</td>\n",
              "      <td>114.970001</td>\n",
              "      <td>83477200.0</td>\n",
              "      <td>114.970001</td>\n",
              "      <td>9.626591e+09</td>\n",
              "      <td>114.296790</td>\n",
              "      <td>46.911780</td>\n",
              "      <td>36.174882</td>\n",
              "      <td>51.724201</td>\n",
              "    </tr>\n",
              "    <tr>\n",
              "      <th>2020-10-09</th>\n",
              "      <td>117.000000</td>\n",
              "      <td>114.919998</td>\n",
              "      <td>115.279999</td>\n",
              "      <td>116.970001</td>\n",
              "      <td>100506900.0</td>\n",
              "      <td>116.970001</td>\n",
              "      <td>1.168862e+10</td>\n",
              "      <td>114.551382</td>\n",
              "      <td>50.615596</td>\n",
              "      <td>46.091959</td>\n",
              "      <td>100.000000</td>\n",
              "    </tr>\n",
              "    <tr>\n",
              "      <th>2020-10-12</th>\n",
              "      <td>125.180000</td>\n",
              "      <td>119.279999</td>\n",
              "      <td>120.059998</td>\n",
              "      <td>124.400002</td>\n",
              "      <td>239388800.0</td>\n",
              "      <td>124.400002</td>\n",
              "      <td>2.943365e+10</td>\n",
              "      <td>115.489346</td>\n",
              "      <td>81.126930</td>\n",
              "      <td>66.746300</td>\n",
              "      <td>100.000000</td>\n",
              "    </tr>\n",
              "  </tbody>\n",
              "</table>\n",
              "<p>1203 rows × 11 columns</p>\n",
              "</div>"
            ],
            "text/plain": [
              "                  High         Low  ...        MFI          SO\n",
              "Date                                ...                       \n",
              "2016-01-04   26.342501   25.500000  ...        NaN         NaN\n",
              "2016-01-05   26.462500   25.602501  ...        NaN         NaN\n",
              "2016-01-06   25.592501   24.967501  ...        NaN         NaN\n",
              "2016-01-07   25.032499   24.107500  ...        NaN         NaN\n",
              "2016-01-08   24.777500   24.190001  ...        NaN         NaN\n",
              "...                ...         ...  ...        ...         ...\n",
              "2020-10-06  116.120003  112.250000  ...  55.167786    3.713710\n",
              "2020-10-07  115.550003  114.129997  ...  49.592418   54.641986\n",
              "2020-10-08  116.400002  114.589996  ...  36.174882   51.724201\n",
              "2020-10-09  117.000000  114.919998  ...  46.091959  100.000000\n",
              "2020-10-12  125.180000  119.279999  ...  66.746300  100.000000\n",
              "\n",
              "[1203 rows x 11 columns]"
            ]
          },
          "metadata": {
            "tags": []
          },
          "execution_count": 22
        }
      ]
    },
    {
      "cell_type": "code",
      "metadata": {
        "id": "nCg0A1d59mNA"
      },
      "source": [
        "dat['MACD'] = MACD(dat.iloc[:,[7]])"
      ],
      "execution_count": null,
      "outputs": []
    },
    {
      "cell_type": "code",
      "metadata": {
        "id": "oDPZHgDu9mNO"
      },
      "source": [
        "dat['MACD_Signal'] = MACD(dat.iloc[:,[11]])"
      ],
      "execution_count": null,
      "outputs": []
    },
    {
      "cell_type": "code",
      "metadata": {
        "id": "ChH2g_2Q9mNZ"
      },
      "source": [
        "copy_dat = dat.copy()"
      ],
      "execution_count": null,
      "outputs": []
    },
    {
      "cell_type": "code",
      "metadata": {
        "id": "i3xak7nI9mNo"
      },
      "source": [
        "#dat = copy_dat.copy()"
      ],
      "execution_count": null,
      "outputs": []
    },
    {
      "cell_type": "code",
      "metadata": {
        "id": "xhStTl-F9mNw"
      },
      "source": [
        "dat.drop(['Adj Close','MF','MACD_Signal'],axis = 1,inplace = True)"
      ],
      "execution_count": null,
      "outputs": []
    },
    {
      "cell_type": "code",
      "metadata": {
        "id": "26WVmZg2IS9H",
        "colab": {
          "base_uri": "https://localhost:8080/",
          "height": 620
        },
        "outputId": "437ae6b2-ac95-4e2c-cde0-9e7faac74630"
      },
      "source": [
        "dat"
      ],
      "execution_count": null,
      "outputs": [
        {
          "output_type": "execute_result",
          "data": {
            "text/html": [
              "<div>\n",
              "<style scoped>\n",
              "    .dataframe tbody tr th:only-of-type {\n",
              "        vertical-align: middle;\n",
              "    }\n",
              "\n",
              "    .dataframe tbody tr th {\n",
              "        vertical-align: top;\n",
              "    }\n",
              "\n",
              "    .dataframe thead th {\n",
              "        text-align: right;\n",
              "    }\n",
              "</style>\n",
              "<table border=\"1\" class=\"dataframe\">\n",
              "  <thead>\n",
              "    <tr style=\"text-align: right;\">\n",
              "      <th></th>\n",
              "      <th>High</th>\n",
              "      <th>Low</th>\n",
              "      <th>Open</th>\n",
              "      <th>Close</th>\n",
              "      <th>Volume</th>\n",
              "      <th>EMA</th>\n",
              "      <th>RSI</th>\n",
              "      <th>MFI</th>\n",
              "      <th>SO</th>\n",
              "      <th>MACD</th>\n",
              "    </tr>\n",
              "    <tr>\n",
              "      <th>Date</th>\n",
              "      <th></th>\n",
              "      <th></th>\n",
              "      <th></th>\n",
              "      <th></th>\n",
              "      <th></th>\n",
              "      <th></th>\n",
              "      <th></th>\n",
              "      <th></th>\n",
              "      <th></th>\n",
              "      <th></th>\n",
              "    </tr>\n",
              "  </thead>\n",
              "  <tbody>\n",
              "    <tr>\n",
              "      <th>2016-01-04</th>\n",
              "      <td>26.342501</td>\n",
              "      <td>25.500000</td>\n",
              "      <td>25.652500</td>\n",
              "      <td>26.337500</td>\n",
              "      <td>270597600.0</td>\n",
              "      <td>26.337500</td>\n",
              "      <td>NaN</td>\n",
              "      <td>NaN</td>\n",
              "      <td>NaN</td>\n",
              "      <td>-1.975312</td>\n",
              "    </tr>\n",
              "    <tr>\n",
              "      <th>2016-01-05</th>\n",
              "      <td>26.462500</td>\n",
              "      <td>25.602501</td>\n",
              "      <td>26.437500</td>\n",
              "      <td>25.677500</td>\n",
              "      <td>223164000.0</td>\n",
              "      <td>25.991000</td>\n",
              "      <td>NaN</td>\n",
              "      <td>NaN</td>\n",
              "      <td>NaN</td>\n",
              "      <td>-1.949325</td>\n",
              "    </tr>\n",
              "    <tr>\n",
              "      <th>2016-01-06</th>\n",
              "      <td>25.592501</td>\n",
              "      <td>24.967501</td>\n",
              "      <td>25.139999</td>\n",
              "      <td>25.174999</td>\n",
              "      <td>273829600.0</td>\n",
              "      <td>25.691369</td>\n",
              "      <td>NaN</td>\n",
              "      <td>NaN</td>\n",
              "      <td>NaN</td>\n",
              "      <td>-1.926853</td>\n",
              "    </tr>\n",
              "    <tr>\n",
              "      <th>2016-01-07</th>\n",
              "      <td>25.032499</td>\n",
              "      <td>24.107500</td>\n",
              "      <td>24.670000</td>\n",
              "      <td>24.112499</td>\n",
              "      <td>324377600.0</td>\n",
              "      <td>25.235574</td>\n",
              "      <td>NaN</td>\n",
              "      <td>NaN</td>\n",
              "      <td>NaN</td>\n",
              "      <td>-1.892668</td>\n",
              "    </tr>\n",
              "    <tr>\n",
              "      <th>2016-01-08</th>\n",
              "      <td>24.777500</td>\n",
              "      <td>24.190001</td>\n",
              "      <td>24.637501</td>\n",
              "      <td>24.240000</td>\n",
              "      <td>283192000.0</td>\n",
              "      <td>24.994753</td>\n",
              "      <td>NaN</td>\n",
              "      <td>NaN</td>\n",
              "      <td>NaN</td>\n",
              "      <td>-1.874606</td>\n",
              "    </tr>\n",
              "    <tr>\n",
              "      <th>...</th>\n",
              "      <td>...</td>\n",
              "      <td>...</td>\n",
              "      <td>...</td>\n",
              "      <td>...</td>\n",
              "      <td>...</td>\n",
              "      <td>...</td>\n",
              "      <td>...</td>\n",
              "      <td>...</td>\n",
              "      <td>...</td>\n",
              "      <td>...</td>\n",
              "    </tr>\n",
              "    <tr>\n",
              "      <th>2020-10-06</th>\n",
              "      <td>116.120003</td>\n",
              "      <td>112.250000</td>\n",
              "      <td>115.699997</td>\n",
              "      <td>113.160004</td>\n",
              "      <td>161498200.0</td>\n",
              "      <td>114.136023</td>\n",
              "      <td>43.644089</td>\n",
              "      <td>55.167786</td>\n",
              "      <td>3.713710</td>\n",
              "      <td>-8.560202</td>\n",
              "    </tr>\n",
              "    <tr>\n",
              "      <th>2020-10-07</th>\n",
              "      <td>115.550003</td>\n",
              "      <td>114.129997</td>\n",
              "      <td>114.620003</td>\n",
              "      <td>115.080002</td>\n",
              "      <td>96849000.0</td>\n",
              "      <td>114.225926</td>\n",
              "      <td>53.254454</td>\n",
              "      <td>49.592418</td>\n",
              "      <td>54.641986</td>\n",
              "      <td>-8.566944</td>\n",
              "    </tr>\n",
              "    <tr>\n",
              "      <th>2020-10-08</th>\n",
              "      <td>116.400002</td>\n",
              "      <td>114.589996</td>\n",
              "      <td>116.250000</td>\n",
              "      <td>114.970001</td>\n",
              "      <td>83477200.0</td>\n",
              "      <td>114.296790</td>\n",
              "      <td>46.911780</td>\n",
              "      <td>36.174882</td>\n",
              "      <td>51.724201</td>\n",
              "      <td>-8.572259</td>\n",
              "    </tr>\n",
              "    <tr>\n",
              "      <th>2020-10-09</th>\n",
              "      <td>117.000000</td>\n",
              "      <td>114.919998</td>\n",
              "      <td>115.279999</td>\n",
              "      <td>116.970001</td>\n",
              "      <td>100506900.0</td>\n",
              "      <td>114.551382</td>\n",
              "      <td>50.615596</td>\n",
              "      <td>46.091959</td>\n",
              "      <td>100.000000</td>\n",
              "      <td>-8.591354</td>\n",
              "    </tr>\n",
              "    <tr>\n",
              "      <th>2020-10-12</th>\n",
              "      <td>125.180000</td>\n",
              "      <td>119.279999</td>\n",
              "      <td>120.059998</td>\n",
              "      <td>124.400002</td>\n",
              "      <td>239388800.0</td>\n",
              "      <td>115.489346</td>\n",
              "      <td>81.126930</td>\n",
              "      <td>66.746300</td>\n",
              "      <td>100.000000</td>\n",
              "      <td>-8.661701</td>\n",
              "    </tr>\n",
              "  </tbody>\n",
              "</table>\n",
              "<p>1203 rows × 10 columns</p>\n",
              "</div>"
            ],
            "text/plain": [
              "                  High         Low        Open  ...        MFI          SO      MACD\n",
              "Date                                            ...                                 \n",
              "2016-01-04   26.342501   25.500000   25.652500  ...        NaN         NaN -1.975312\n",
              "2016-01-05   26.462500   25.602501   26.437500  ...        NaN         NaN -1.949325\n",
              "2016-01-06   25.592501   24.967501   25.139999  ...        NaN         NaN -1.926853\n",
              "2016-01-07   25.032499   24.107500   24.670000  ...        NaN         NaN -1.892668\n",
              "2016-01-08   24.777500   24.190001   24.637501  ...        NaN         NaN -1.874606\n",
              "...                ...         ...         ...  ...        ...         ...       ...\n",
              "2020-10-06  116.120003  112.250000  115.699997  ...  55.167786    3.713710 -8.560202\n",
              "2020-10-07  115.550003  114.129997  114.620003  ...  49.592418   54.641986 -8.566944\n",
              "2020-10-08  116.400002  114.589996  116.250000  ...  36.174882   51.724201 -8.572259\n",
              "2020-10-09  117.000000  114.919998  115.279999  ...  46.091959  100.000000 -8.591354\n",
              "2020-10-12  125.180000  119.279999  120.059998  ...  66.746300  100.000000 -8.661701\n",
              "\n",
              "[1203 rows x 10 columns]"
            ]
          },
          "metadata": {
            "tags": []
          },
          "execution_count": 28
        }
      ]
    },
    {
      "cell_type": "markdown",
      "metadata": {
        "id": "EguoRdqRClYB"
      },
      "source": [
        "# Pre-process"
      ]
    },
    {
      "cell_type": "code",
      "metadata": {
        "id": "ex6V9NBI9mN5"
      },
      "source": [
        "xdata = dat.dropna()"
      ],
      "execution_count": null,
      "outputs": []
    },
    {
      "cell_type": "code",
      "metadata": {
        "id": "kKPpND--9mOv"
      },
      "source": [
        "ydata = pd.DataFrame(xdata['Close'].shift(-7))"
      ],
      "execution_count": null,
      "outputs": []
    },
    {
      "cell_type": "code",
      "metadata": {
        "id": "J-Js07cX9mOx"
      },
      "source": [
        "#xdata = xdata.drop('Close',axis = 1)"
      ],
      "execution_count": null,
      "outputs": []
    },
    {
      "cell_type": "code",
      "metadata": {
        "id": "n40RlamFwxqN"
      },
      "source": [
        "xcols = xdata.columns\n",
        "xdates = xdata.index\n",
        "\n",
        "ycols = ydata.columns\n",
        "ydates = ydata.index"
      ],
      "execution_count": null,
      "outputs": []
    },
    {
      "cell_type": "code",
      "metadata": {
        "id": "jcgHe0bRwyEP"
      },
      "source": [
        "from sklearn.preprocessing import StandardScaler\n",
        "xscaler = StandardScaler()\n",
        "yscaler = StandardScaler()\n",
        "xdata = pd.DataFrame(xscaler.fit_transform(xdata))\n",
        "ydata = pd.DataFrame(yscaler.fit_transform(ydata))"
      ],
      "execution_count": null,
      "outputs": []
    },
    {
      "cell_type": "code",
      "metadata": {
        "id": "sdQ6BiCwwxmP"
      },
      "source": [
        "xdata.columns = xcols\n",
        "xdata.index = xdates\n",
        "\n",
        "ydata.columns = ycols\n",
        "ydata.index = ydates"
      ],
      "execution_count": null,
      "outputs": []
    },
    {
      "cell_type": "code",
      "metadata": {
        "id": "G2njLAMV9mO3"
      },
      "source": [
        "x_trains, y_trains = xdata[:900],ydata[:900]"
      ],
      "execution_count": null,
      "outputs": []
    },
    {
      "cell_type": "code",
      "metadata": {
        "id": "d_fYtje99mO5"
      },
      "source": [
        "y_trains = pd.DataFrame(y_trains)"
      ],
      "execution_count": null,
      "outputs": []
    },
    {
      "cell_type": "code",
      "metadata": {
        "id": "rryWuxfj9mO_"
      },
      "source": [
        "x_tests, y_tests = xdata[900:],ydata[900:]"
      ],
      "execution_count": null,
      "outputs": []
    },
    {
      "cell_type": "code",
      "metadata": {
        "id": "7zxdotCm9mPD"
      },
      "source": [
        "y_tests = pd.DataFrame(y_tests)"
      ],
      "execution_count": null,
      "outputs": []
    },
    {
      "cell_type": "code",
      "metadata": {
        "id": "M3S5gwwa9mPI"
      },
      "source": [
        "y_tests.dropna(inplace = True)"
      ],
      "execution_count": null,
      "outputs": []
    },
    {
      "cell_type": "code",
      "metadata": {
        "id": "xJpAVdbL9mPM",
        "colab": {
          "base_uri": "https://localhost:8080/",
          "height": 450
        },
        "outputId": "e672d850-b3e3-4131-eacf-3aab9fdd6314"
      },
      "source": [
        "y_tests"
      ],
      "execution_count": null,
      "outputs": [
        {
          "output_type": "execute_result",
          "data": {
            "text/html": [
              "<div>\n",
              "<style scoped>\n",
              "    .dataframe tbody tr th:only-of-type {\n",
              "        vertical-align: middle;\n",
              "    }\n",
              "\n",
              "    .dataframe tbody tr th {\n",
              "        vertical-align: top;\n",
              "    }\n",
              "\n",
              "    .dataframe thead th {\n",
              "        text-align: right;\n",
              "    }\n",
              "</style>\n",
              "<table border=\"1\" class=\"dataframe\">\n",
              "  <thead>\n",
              "    <tr style=\"text-align: right;\">\n",
              "      <th></th>\n",
              "      <th>Close</th>\n",
              "    </tr>\n",
              "    <tr>\n",
              "      <th>Date</th>\n",
              "      <th></th>\n",
              "    </tr>\n",
              "  </thead>\n",
              "  <tbody>\n",
              "    <tr>\n",
              "      <th>2019-08-09</th>\n",
              "      <td>0.296374</td>\n",
              "    </tr>\n",
              "    <tr>\n",
              "      <th>2019-08-12</th>\n",
              "      <td>0.326500</td>\n",
              "    </tr>\n",
              "    <tr>\n",
              "      <th>2019-08-13</th>\n",
              "      <td>0.324122</td>\n",
              "    </tr>\n",
              "    <tr>\n",
              "      <th>2019-08-14</th>\n",
              "      <td>0.194370</td>\n",
              "    </tr>\n",
              "    <tr>\n",
              "      <th>2019-08-15</th>\n",
              "      <td>0.245240</td>\n",
              "    </tr>\n",
              "    <tr>\n",
              "      <th>...</th>\n",
              "      <td>...</td>\n",
              "    </tr>\n",
              "    <tr>\n",
              "      <th>2020-08-12</th>\n",
              "      <td>4.090096</td>\n",
              "    </tr>\n",
              "    <tr>\n",
              "      <th>2020-08-13</th>\n",
              "      <td>4.168714</td>\n",
              "    </tr>\n",
              "    <tr>\n",
              "      <th>2020-08-14</th>\n",
              "      <td>4.114144</td>\n",
              "    </tr>\n",
              "    <tr>\n",
              "      <th>2020-08-17</th>\n",
              "      <td>4.203860</td>\n",
              "    </tr>\n",
              "    <tr>\n",
              "      <th>2020-08-18</th>\n",
              "      <td>4.123922</td>\n",
              "    </tr>\n",
              "  </tbody>\n",
              "</table>\n",
              "<p>259 rows × 1 columns</p>\n",
              "</div>"
            ],
            "text/plain": [
              "               Close\n",
              "Date                \n",
              "2019-08-09  0.296374\n",
              "2019-08-12  0.326500\n",
              "2019-08-13  0.324122\n",
              "2019-08-14  0.194370\n",
              "2019-08-15  0.245240\n",
              "...              ...\n",
              "2020-08-12  4.090096\n",
              "2020-08-13  4.168714\n",
              "2020-08-14  4.114144\n",
              "2020-08-17  4.203860\n",
              "2020-08-18  4.123922\n",
              "\n",
              "[259 rows x 1 columns]"
            ]
          },
          "metadata": {
            "tags": []
          },
          "execution_count": 101
        }
      ]
    },
    {
      "cell_type": "code",
      "metadata": {
        "id": "RYDcqCfk9mPQ",
        "colab": {
          "base_uri": "https://localhost:8080/",
          "height": 450
        },
        "outputId": "d695f434-ebaa-4fee-e1c4-c2a188e254be"
      },
      "source": [
        "x_tests"
      ],
      "execution_count": null,
      "outputs": [
        {
          "output_type": "execute_result",
          "data": {
            "text/html": [
              "<div>\n",
              "<style scoped>\n",
              "    .dataframe tbody tr th:only-of-type {\n",
              "        vertical-align: middle;\n",
              "    }\n",
              "\n",
              "    .dataframe tbody tr th {\n",
              "        vertical-align: top;\n",
              "    }\n",
              "\n",
              "    .dataframe thead th {\n",
              "        text-align: right;\n",
              "    }\n",
              "</style>\n",
              "<table border=\"1\" class=\"dataframe\">\n",
              "  <thead>\n",
              "    <tr style=\"text-align: right;\">\n",
              "      <th></th>\n",
              "      <th>High</th>\n",
              "      <th>Low</th>\n",
              "      <th>Open</th>\n",
              "      <th>Close</th>\n",
              "      <th>Volume</th>\n",
              "      <th>EMA</th>\n",
              "      <th>RSI</th>\n",
              "      <th>MFI</th>\n",
              "      <th>SO</th>\n",
              "      <th>MACD</th>\n",
              "    </tr>\n",
              "    <tr>\n",
              "      <th>Date</th>\n",
              "      <th></th>\n",
              "      <th></th>\n",
              "      <th></th>\n",
              "      <th></th>\n",
              "      <th></th>\n",
              "      <th></th>\n",
              "      <th></th>\n",
              "      <th></th>\n",
              "      <th></th>\n",
              "      <th></th>\n",
              "    </tr>\n",
              "  </thead>\n",
              "  <tbody>\n",
              "    <tr>\n",
              "      <th>2019-08-09</th>\n",
              "      <td>0.178332</td>\n",
              "      <td>0.186242</td>\n",
              "      <td>0.187718</td>\n",
              "      <td>0.179505</td>\n",
              "      <td>-0.561139</td>\n",
              "      <td>0.262674</td>\n",
              "      <td>-0.749950</td>\n",
              "      <td>-1.861220</td>\n",
              "      <td>-0.285930</td>\n",
              "      <td>-0.262674</td>\n",
              "    </tr>\n",
              "    <tr>\n",
              "      <th>2019-08-12</th>\n",
              "      <td>0.169075</td>\n",
              "      <td>0.184363</td>\n",
              "      <td>0.165466</td>\n",
              "      <td>0.172774</td>\n",
              "      <td>-0.700744</td>\n",
              "      <td>0.259131</td>\n",
              "      <td>-0.519080</td>\n",
              "      <td>-1.479709</td>\n",
              "      <td>0.128713</td>\n",
              "      <td>-0.259131</td>\n",
              "    </tr>\n",
              "    <tr>\n",
              "      <th>2019-08-13</th>\n",
              "      <td>0.300639</td>\n",
              "      <td>0.202213</td>\n",
              "      <td>0.184009</td>\n",
              "      <td>0.284814</td>\n",
              "      <td>0.909813</td>\n",
              "      <td>0.267280</td>\n",
              "      <td>1.162948</td>\n",
              "      <td>-0.079270</td>\n",
              "      <td>0.979305</td>\n",
              "      <td>-0.267280</td>\n",
              "    </tr>\n",
              "    <tr>\n",
              "      <th>2019-08-14</th>\n",
              "      <td>0.226316</td>\n",
              "      <td>0.230530</td>\n",
              "      <td>0.212353</td>\n",
              "      <td>0.202731</td>\n",
              "      <td>0.215233</td>\n",
              "      <td>0.266335</td>\n",
              "      <td>0.226469</td>\n",
              "      <td>0.160793</td>\n",
              "      <td>-0.354169</td>\n",
              "      <td>-0.266335</td>\n",
              "    </tr>\n",
              "    <tr>\n",
              "      <th>2019-08-15</th>\n",
              "      <td>0.209366</td>\n",
              "      <td>0.191342</td>\n",
              "      <td>0.216327</td>\n",
              "      <td>0.189402</td>\n",
              "      <td>-0.391404</td>\n",
              "      <td>0.264129</td>\n",
              "      <td>-0.007233</td>\n",
              "      <td>-0.242345</td>\n",
              "      <td>-0.889124</td>\n",
              "      <td>-0.264129</td>\n",
              "    </tr>\n",
              "    <tr>\n",
              "      <th>...</th>\n",
              "      <td>...</td>\n",
              "      <td>...</td>\n",
              "      <td>...</td>\n",
              "      <td>...</td>\n",
              "      <td>...</td>\n",
              "      <td>...</td>\n",
              "      <td>...</td>\n",
              "      <td>...</td>\n",
              "      <td>...</td>\n",
              "      <td>...</td>\n",
              "    </tr>\n",
              "    <tr>\n",
              "      <th>2020-08-21</th>\n",
              "      <td>4.047169</td>\n",
              "      <td>3.913305</td>\n",
              "      <td>3.839975</td>\n",
              "      <td>4.092176</td>\n",
              "      <td>3.337352</td>\n",
              "      <td>3.636675</td>\n",
              "      <td>1.537408</td>\n",
              "      <td>1.185895</td>\n",
              "      <td>0.979305</td>\n",
              "      <td>-3.636675</td>\n",
              "    </tr>\n",
              "    <tr>\n",
              "      <th>2020-08-24</th>\n",
              "      <td>4.251492</td>\n",
              "      <td>4.164943</td>\n",
              "      <td>4.339834</td>\n",
              "      <td>4.170695</td>\n",
              "      <td>3.465624</td>\n",
              "      <td>3.716960</td>\n",
              "      <td>1.589770</td>\n",
              "      <td>1.793052</td>\n",
              "      <td>0.979305</td>\n",
              "      <td>-3.716960</td>\n",
              "    </tr>\n",
              "    <tr>\n",
              "      <th>2020-08-25</th>\n",
              "      <td>4.063468</td>\n",
              "      <td>4.117434</td>\n",
              "      <td>4.127917</td>\n",
              "      <td>4.116193</td>\n",
              "      <td>1.277922</td>\n",
              "      <td>3.784076</td>\n",
              "      <td>1.366494</td>\n",
              "      <td>0.729775</td>\n",
              "      <td>0.743785</td>\n",
              "      <td>-3.784076</td>\n",
              "    </tr>\n",
              "    <tr>\n",
              "      <th>2020-08-26</th>\n",
              "      <td>4.158001</td>\n",
              "      <td>4.226410</td>\n",
              "      <td>4.206459</td>\n",
              "      <td>4.205798</td>\n",
              "      <td>0.489144</td>\n",
              "      <td>3.853881</td>\n",
              "      <td>1.384913</td>\n",
              "      <td>0.467569</td>\n",
              "      <td>0.979305</td>\n",
              "      <td>-3.853881</td>\n",
              "    </tr>\n",
              "    <tr>\n",
              "      <th>2020-08-27</th>\n",
              "      <td>4.183688</td>\n",
              "      <td>4.159306</td>\n",
              "      <td>4.257451</td>\n",
              "      <td>4.125959</td>\n",
              "      <td>0.359674</td>\n",
              "      <td>3.908947</td>\n",
              "      <td>1.009929</td>\n",
              "      <td>0.176037</td>\n",
              "      <td>0.620419</td>\n",
              "      <td>-3.908947</td>\n",
              "    </tr>\n",
              "  </tbody>\n",
              "</table>\n",
              "<p>266 rows × 10 columns</p>\n",
              "</div>"
            ],
            "text/plain": [
              "                High       Low      Open  ...       MFI        SO      MACD\n",
              "Date                                      ...                              \n",
              "2019-08-09  0.178332  0.186242  0.187718  ... -1.861220 -0.285930 -0.262674\n",
              "2019-08-12  0.169075  0.184363  0.165466  ... -1.479709  0.128713 -0.259131\n",
              "2019-08-13  0.300639  0.202213  0.184009  ... -0.079270  0.979305 -0.267280\n",
              "2019-08-14  0.226316  0.230530  0.212353  ...  0.160793 -0.354169 -0.266335\n",
              "2019-08-15  0.209366  0.191342  0.216327  ... -0.242345 -0.889124 -0.264129\n",
              "...              ...       ...       ...  ...       ...       ...       ...\n",
              "2020-08-21  4.047169  3.913305  3.839975  ...  1.185895  0.979305 -3.636675\n",
              "2020-08-24  4.251492  4.164943  4.339834  ...  1.793052  0.979305 -3.716960\n",
              "2020-08-25  4.063468  4.117434  4.127917  ...  0.729775  0.743785 -3.784076\n",
              "2020-08-26  4.158001  4.226410  4.206459  ...  0.467569  0.979305 -3.853881\n",
              "2020-08-27  4.183688  4.159306  4.257451  ...  0.176037  0.620419 -3.908947\n",
              "\n",
              "[266 rows x 10 columns]"
            ]
          },
          "metadata": {
            "tags": []
          },
          "execution_count": 102
        }
      ]
    },
    {
      "cell_type": "code",
      "metadata": {
        "id": "fcN6_K2g9mPS"
      },
      "source": [
        "x_tests  = x_tests[:-7]"
      ],
      "execution_count": null,
      "outputs": []
    },
    {
      "cell_type": "code",
      "metadata": {
        "id": "4J2sbLAP9mPV"
      },
      "source": [
        "xdata  = xdata[:-7]"
      ],
      "execution_count": null,
      "outputs": []
    },
    {
      "cell_type": "code",
      "metadata": {
        "id": "2WY-xr_h9mPZ"
      },
      "source": [
        "ydata.dropna(inplace = True)"
      ],
      "execution_count": null,
      "outputs": []
    },
    {
      "cell_type": "code",
      "metadata": {
        "id": "iNAcUUYi9mPh",
        "colab": {
          "base_uri": "https://localhost:8080/",
          "height": 450
        },
        "outputId": "14eac891-60d5-49c4-b533-b4559dc2e43c"
      },
      "source": [
        "x_tests"
      ],
      "execution_count": null,
      "outputs": [
        {
          "output_type": "execute_result",
          "data": {
            "text/html": [
              "<div>\n",
              "<style scoped>\n",
              "    .dataframe tbody tr th:only-of-type {\n",
              "        vertical-align: middle;\n",
              "    }\n",
              "\n",
              "    .dataframe tbody tr th {\n",
              "        vertical-align: top;\n",
              "    }\n",
              "\n",
              "    .dataframe thead th {\n",
              "        text-align: right;\n",
              "    }\n",
              "</style>\n",
              "<table border=\"1\" class=\"dataframe\">\n",
              "  <thead>\n",
              "    <tr style=\"text-align: right;\">\n",
              "      <th></th>\n",
              "      <th>High</th>\n",
              "      <th>Low</th>\n",
              "      <th>Open</th>\n",
              "      <th>Close</th>\n",
              "      <th>Volume</th>\n",
              "      <th>EMA</th>\n",
              "      <th>RSI</th>\n",
              "      <th>MFI</th>\n",
              "      <th>SO</th>\n",
              "      <th>MACD</th>\n",
              "    </tr>\n",
              "    <tr>\n",
              "      <th>Date</th>\n",
              "      <th></th>\n",
              "      <th></th>\n",
              "      <th></th>\n",
              "      <th></th>\n",
              "      <th></th>\n",
              "      <th></th>\n",
              "      <th></th>\n",
              "      <th></th>\n",
              "      <th></th>\n",
              "      <th></th>\n",
              "    </tr>\n",
              "  </thead>\n",
              "  <tbody>\n",
              "    <tr>\n",
              "      <th>2019-08-09</th>\n",
              "      <td>0.178332</td>\n",
              "      <td>0.186242</td>\n",
              "      <td>0.187718</td>\n",
              "      <td>0.179505</td>\n",
              "      <td>-0.561139</td>\n",
              "      <td>0.262674</td>\n",
              "      <td>-0.749950</td>\n",
              "      <td>-1.861220</td>\n",
              "      <td>-0.285930</td>\n",
              "      <td>-0.262674</td>\n",
              "    </tr>\n",
              "    <tr>\n",
              "      <th>2019-08-12</th>\n",
              "      <td>0.169075</td>\n",
              "      <td>0.184363</td>\n",
              "      <td>0.165466</td>\n",
              "      <td>0.172774</td>\n",
              "      <td>-0.700744</td>\n",
              "      <td>0.259131</td>\n",
              "      <td>-0.519080</td>\n",
              "      <td>-1.479709</td>\n",
              "      <td>0.128713</td>\n",
              "      <td>-0.259131</td>\n",
              "    </tr>\n",
              "    <tr>\n",
              "      <th>2019-08-13</th>\n",
              "      <td>0.300639</td>\n",
              "      <td>0.202213</td>\n",
              "      <td>0.184009</td>\n",
              "      <td>0.284814</td>\n",
              "      <td>0.909813</td>\n",
              "      <td>0.267280</td>\n",
              "      <td>1.162948</td>\n",
              "      <td>-0.079270</td>\n",
              "      <td>0.979305</td>\n",
              "      <td>-0.267280</td>\n",
              "    </tr>\n",
              "    <tr>\n",
              "      <th>2019-08-14</th>\n",
              "      <td>0.226316</td>\n",
              "      <td>0.230530</td>\n",
              "      <td>0.212353</td>\n",
              "      <td>0.202731</td>\n",
              "      <td>0.215233</td>\n",
              "      <td>0.266335</td>\n",
              "      <td>0.226469</td>\n",
              "      <td>0.160793</td>\n",
              "      <td>-0.354169</td>\n",
              "      <td>-0.266335</td>\n",
              "    </tr>\n",
              "    <tr>\n",
              "      <th>2019-08-15</th>\n",
              "      <td>0.209366</td>\n",
              "      <td>0.191342</td>\n",
              "      <td>0.216327</td>\n",
              "      <td>0.189402</td>\n",
              "      <td>-0.391404</td>\n",
              "      <td>0.264129</td>\n",
              "      <td>-0.007233</td>\n",
              "      <td>-0.242345</td>\n",
              "      <td>-0.889124</td>\n",
              "      <td>-0.264129</td>\n",
              "    </tr>\n",
              "    <tr>\n",
              "      <th>...</th>\n",
              "      <td>...</td>\n",
              "      <td>...</td>\n",
              "      <td>...</td>\n",
              "      <td>...</td>\n",
              "      <td>...</td>\n",
              "      <td>...</td>\n",
              "      <td>...</td>\n",
              "      <td>...</td>\n",
              "      <td>...</td>\n",
              "      <td>...</td>\n",
              "    </tr>\n",
              "    <tr>\n",
              "      <th>2020-08-12</th>\n",
              "      <td>3.442545</td>\n",
              "      <td>3.432710</td>\n",
              "      <td>3.375612</td>\n",
              "      <td>3.492520</td>\n",
              "      <td>0.536699</td>\n",
              "      <td>3.259773</td>\n",
              "      <td>0.179044</td>\n",
              "      <td>-0.009709</td>\n",
              "      <td>0.473439</td>\n",
              "      <td>-3.259773</td>\n",
              "    </tr>\n",
              "    <tr>\n",
              "      <th>2020-08-13</th>\n",
              "      <td>3.586888</td>\n",
              "      <td>3.627578</td>\n",
              "      <td>3.583953</td>\n",
              "      <td>3.598093</td>\n",
              "      <td>1.254920</td>\n",
              "      <td>3.317925</td>\n",
              "      <td>0.319516</td>\n",
              "      <td>1.464752</td>\n",
              "      <td>0.979305</td>\n",
              "      <td>-3.317925</td>\n",
              "    </tr>\n",
              "    <tr>\n",
              "      <th>2020-08-14</th>\n",
              "      <td>3.532515</td>\n",
              "      <td>3.580203</td>\n",
              "      <td>3.605144</td>\n",
              "      <td>3.592683</td>\n",
              "      <td>0.530522</td>\n",
              "      <td>3.369990</td>\n",
              "      <td>-0.089132</td>\n",
              "      <td>-0.595792</td>\n",
              "      <td>0.932626</td>\n",
              "      <td>-3.369990</td>\n",
              "    </tr>\n",
              "    <tr>\n",
              "      <th>2020-08-17</th>\n",
              "      <td>3.589235</td>\n",
              "      <td>3.629457</td>\n",
              "      <td>3.670441</td>\n",
              "      <td>3.576847</td>\n",
              "      <td>-0.218070</td>\n",
              "      <td>3.415492</td>\n",
              "      <td>0.378093</td>\n",
              "      <td>-1.057928</td>\n",
              "      <td>0.796004</td>\n",
              "      <td>-3.415492</td>\n",
              "    </tr>\n",
              "    <tr>\n",
              "      <th>2020-08-18</th>\n",
              "      <td>3.584671</td>\n",
              "      <td>3.631873</td>\n",
              "      <td>3.579847</td>\n",
              "      <td>3.627258</td>\n",
              "      <td>-0.444713</td>\n",
              "      <td>3.461769</td>\n",
              "      <td>0.294420</td>\n",
              "      <td>-1.500919</td>\n",
              "      <td>0.979305</td>\n",
              "      <td>-3.461769</td>\n",
              "    </tr>\n",
              "  </tbody>\n",
              "</table>\n",
              "<p>259 rows × 10 columns</p>\n",
              "</div>"
            ],
            "text/plain": [
              "                High       Low      Open  ...       MFI        SO      MACD\n",
              "Date                                      ...                              \n",
              "2019-08-09  0.178332  0.186242  0.187718  ... -1.861220 -0.285930 -0.262674\n",
              "2019-08-12  0.169075  0.184363  0.165466  ... -1.479709  0.128713 -0.259131\n",
              "2019-08-13  0.300639  0.202213  0.184009  ... -0.079270  0.979305 -0.267280\n",
              "2019-08-14  0.226316  0.230530  0.212353  ...  0.160793 -0.354169 -0.266335\n",
              "2019-08-15  0.209366  0.191342  0.216327  ... -0.242345 -0.889124 -0.264129\n",
              "...              ...       ...       ...  ...       ...       ...       ...\n",
              "2020-08-12  3.442545  3.432710  3.375612  ... -0.009709  0.473439 -3.259773\n",
              "2020-08-13  3.586888  3.627578  3.583953  ...  1.464752  0.979305 -3.317925\n",
              "2020-08-14  3.532515  3.580203  3.605144  ... -0.595792  0.932626 -3.369990\n",
              "2020-08-17  3.589235  3.629457  3.670441  ... -1.057928  0.796004 -3.415492\n",
              "2020-08-18  3.584671  3.631873  3.579847  ... -1.500919  0.979305 -3.461769\n",
              "\n",
              "[259 rows x 10 columns]"
            ]
          },
          "metadata": {
            "tags": []
          },
          "execution_count": 106
        }
      ]
    },
    {
      "cell_type": "code",
      "metadata": {
        "id": "NTmIHAtG9mPk",
        "colab": {
          "base_uri": "https://localhost:8080/",
          "height": 450
        },
        "outputId": "ecaf8d13-9e40-424c-ca12-e9977c73280e"
      },
      "source": [
        "y_tests"
      ],
      "execution_count": null,
      "outputs": [
        {
          "output_type": "execute_result",
          "data": {
            "text/html": [
              "<div>\n",
              "<style scoped>\n",
              "    .dataframe tbody tr th:only-of-type {\n",
              "        vertical-align: middle;\n",
              "    }\n",
              "\n",
              "    .dataframe tbody tr th {\n",
              "        vertical-align: top;\n",
              "    }\n",
              "\n",
              "    .dataframe thead th {\n",
              "        text-align: right;\n",
              "    }\n",
              "</style>\n",
              "<table border=\"1\" class=\"dataframe\">\n",
              "  <thead>\n",
              "    <tr style=\"text-align: right;\">\n",
              "      <th></th>\n",
              "      <th>Close</th>\n",
              "    </tr>\n",
              "    <tr>\n",
              "      <th>Date</th>\n",
              "      <th></th>\n",
              "    </tr>\n",
              "  </thead>\n",
              "  <tbody>\n",
              "    <tr>\n",
              "      <th>2019-08-09</th>\n",
              "      <td>0.296374</td>\n",
              "    </tr>\n",
              "    <tr>\n",
              "      <th>2019-08-12</th>\n",
              "      <td>0.326500</td>\n",
              "    </tr>\n",
              "    <tr>\n",
              "      <th>2019-08-13</th>\n",
              "      <td>0.324122</td>\n",
              "    </tr>\n",
              "    <tr>\n",
              "      <th>2019-08-14</th>\n",
              "      <td>0.194370</td>\n",
              "    </tr>\n",
              "    <tr>\n",
              "      <th>2019-08-15</th>\n",
              "      <td>0.245240</td>\n",
              "    </tr>\n",
              "    <tr>\n",
              "      <th>...</th>\n",
              "      <td>...</td>\n",
              "    </tr>\n",
              "    <tr>\n",
              "      <th>2020-08-12</th>\n",
              "      <td>4.090096</td>\n",
              "    </tr>\n",
              "    <tr>\n",
              "      <th>2020-08-13</th>\n",
              "      <td>4.168714</td>\n",
              "    </tr>\n",
              "    <tr>\n",
              "      <th>2020-08-14</th>\n",
              "      <td>4.114144</td>\n",
              "    </tr>\n",
              "    <tr>\n",
              "      <th>2020-08-17</th>\n",
              "      <td>4.203860</td>\n",
              "    </tr>\n",
              "    <tr>\n",
              "      <th>2020-08-18</th>\n",
              "      <td>4.123922</td>\n",
              "    </tr>\n",
              "  </tbody>\n",
              "</table>\n",
              "<p>259 rows × 1 columns</p>\n",
              "</div>"
            ],
            "text/plain": [
              "               Close\n",
              "Date                \n",
              "2019-08-09  0.296374\n",
              "2019-08-12  0.326500\n",
              "2019-08-13  0.324122\n",
              "2019-08-14  0.194370\n",
              "2019-08-15  0.245240\n",
              "...              ...\n",
              "2020-08-12  4.090096\n",
              "2020-08-13  4.168714\n",
              "2020-08-14  4.114144\n",
              "2020-08-17  4.203860\n",
              "2020-08-18  4.123922\n",
              "\n",
              "[259 rows x 1 columns]"
            ]
          },
          "metadata": {
            "tags": []
          },
          "execution_count": 107
        }
      ]
    },
    {
      "cell_type": "code",
      "metadata": {
        "id": "293-9PtDmn3c",
        "colab": {
          "base_uri": "https://localhost:8080/",
          "height": 450
        },
        "outputId": "24dc5a21-8c72-43f1-e6d8-2f86ff8d418c"
      },
      "source": [
        "x_tests"
      ],
      "execution_count": null,
      "outputs": [
        {
          "output_type": "execute_result",
          "data": {
            "text/html": [
              "<div>\n",
              "<style scoped>\n",
              "    .dataframe tbody tr th:only-of-type {\n",
              "        vertical-align: middle;\n",
              "    }\n",
              "\n",
              "    .dataframe tbody tr th {\n",
              "        vertical-align: top;\n",
              "    }\n",
              "\n",
              "    .dataframe thead th {\n",
              "        text-align: right;\n",
              "    }\n",
              "</style>\n",
              "<table border=\"1\" class=\"dataframe\">\n",
              "  <thead>\n",
              "    <tr style=\"text-align: right;\">\n",
              "      <th></th>\n",
              "      <th>High</th>\n",
              "      <th>Low</th>\n",
              "      <th>Open</th>\n",
              "      <th>Close</th>\n",
              "      <th>Volume</th>\n",
              "      <th>EMA</th>\n",
              "      <th>RSI</th>\n",
              "      <th>MFI</th>\n",
              "      <th>SO</th>\n",
              "      <th>MACD</th>\n",
              "    </tr>\n",
              "    <tr>\n",
              "      <th>Date</th>\n",
              "      <th></th>\n",
              "      <th></th>\n",
              "      <th></th>\n",
              "      <th></th>\n",
              "      <th></th>\n",
              "      <th></th>\n",
              "      <th></th>\n",
              "      <th></th>\n",
              "      <th></th>\n",
              "      <th></th>\n",
              "    </tr>\n",
              "  </thead>\n",
              "  <tbody>\n",
              "    <tr>\n",
              "      <th>2019-08-09</th>\n",
              "      <td>0.178332</td>\n",
              "      <td>0.186242</td>\n",
              "      <td>0.187718</td>\n",
              "      <td>0.179505</td>\n",
              "      <td>-0.561139</td>\n",
              "      <td>0.262674</td>\n",
              "      <td>-0.749950</td>\n",
              "      <td>-1.861220</td>\n",
              "      <td>-0.285930</td>\n",
              "      <td>-0.262674</td>\n",
              "    </tr>\n",
              "    <tr>\n",
              "      <th>2019-08-12</th>\n",
              "      <td>0.169075</td>\n",
              "      <td>0.184363</td>\n",
              "      <td>0.165466</td>\n",
              "      <td>0.172774</td>\n",
              "      <td>-0.700744</td>\n",
              "      <td>0.259131</td>\n",
              "      <td>-0.519080</td>\n",
              "      <td>-1.479709</td>\n",
              "      <td>0.128713</td>\n",
              "      <td>-0.259131</td>\n",
              "    </tr>\n",
              "    <tr>\n",
              "      <th>2019-08-13</th>\n",
              "      <td>0.300639</td>\n",
              "      <td>0.202213</td>\n",
              "      <td>0.184009</td>\n",
              "      <td>0.284814</td>\n",
              "      <td>0.909813</td>\n",
              "      <td>0.267280</td>\n",
              "      <td>1.162948</td>\n",
              "      <td>-0.079270</td>\n",
              "      <td>0.979305</td>\n",
              "      <td>-0.267280</td>\n",
              "    </tr>\n",
              "    <tr>\n",
              "      <th>2019-08-14</th>\n",
              "      <td>0.226316</td>\n",
              "      <td>0.230530</td>\n",
              "      <td>0.212353</td>\n",
              "      <td>0.202731</td>\n",
              "      <td>0.215233</td>\n",
              "      <td>0.266335</td>\n",
              "      <td>0.226469</td>\n",
              "      <td>0.160793</td>\n",
              "      <td>-0.354169</td>\n",
              "      <td>-0.266335</td>\n",
              "    </tr>\n",
              "    <tr>\n",
              "      <th>2019-08-15</th>\n",
              "      <td>0.209366</td>\n",
              "      <td>0.191342</td>\n",
              "      <td>0.216327</td>\n",
              "      <td>0.189402</td>\n",
              "      <td>-0.391404</td>\n",
              "      <td>0.264129</td>\n",
              "      <td>-0.007233</td>\n",
              "      <td>-0.242345</td>\n",
              "      <td>-0.889124</td>\n",
              "      <td>-0.264129</td>\n",
              "    </tr>\n",
              "    <tr>\n",
              "      <th>...</th>\n",
              "      <td>...</td>\n",
              "      <td>...</td>\n",
              "      <td>...</td>\n",
              "      <td>...</td>\n",
              "      <td>...</td>\n",
              "      <td>...</td>\n",
              "      <td>...</td>\n",
              "      <td>...</td>\n",
              "      <td>...</td>\n",
              "      <td>...</td>\n",
              "    </tr>\n",
              "    <tr>\n",
              "      <th>2020-08-12</th>\n",
              "      <td>3.442545</td>\n",
              "      <td>3.432710</td>\n",
              "      <td>3.375612</td>\n",
              "      <td>3.492520</td>\n",
              "      <td>0.536699</td>\n",
              "      <td>3.259773</td>\n",
              "      <td>0.179044</td>\n",
              "      <td>-0.009709</td>\n",
              "      <td>0.473439</td>\n",
              "      <td>-3.259773</td>\n",
              "    </tr>\n",
              "    <tr>\n",
              "      <th>2020-08-13</th>\n",
              "      <td>3.586888</td>\n",
              "      <td>3.627578</td>\n",
              "      <td>3.583953</td>\n",
              "      <td>3.598093</td>\n",
              "      <td>1.254920</td>\n",
              "      <td>3.317925</td>\n",
              "      <td>0.319516</td>\n",
              "      <td>1.464752</td>\n",
              "      <td>0.979305</td>\n",
              "      <td>-3.317925</td>\n",
              "    </tr>\n",
              "    <tr>\n",
              "      <th>2020-08-14</th>\n",
              "      <td>3.532515</td>\n",
              "      <td>3.580203</td>\n",
              "      <td>3.605144</td>\n",
              "      <td>3.592683</td>\n",
              "      <td>0.530522</td>\n",
              "      <td>3.369990</td>\n",
              "      <td>-0.089132</td>\n",
              "      <td>-0.595792</td>\n",
              "      <td>0.932626</td>\n",
              "      <td>-3.369990</td>\n",
              "    </tr>\n",
              "    <tr>\n",
              "      <th>2020-08-17</th>\n",
              "      <td>3.589235</td>\n",
              "      <td>3.629457</td>\n",
              "      <td>3.670441</td>\n",
              "      <td>3.576847</td>\n",
              "      <td>-0.218070</td>\n",
              "      <td>3.415492</td>\n",
              "      <td>0.378093</td>\n",
              "      <td>-1.057928</td>\n",
              "      <td>0.796004</td>\n",
              "      <td>-3.415492</td>\n",
              "    </tr>\n",
              "    <tr>\n",
              "      <th>2020-08-18</th>\n",
              "      <td>3.584671</td>\n",
              "      <td>3.631873</td>\n",
              "      <td>3.579847</td>\n",
              "      <td>3.627258</td>\n",
              "      <td>-0.444713</td>\n",
              "      <td>3.461769</td>\n",
              "      <td>0.294420</td>\n",
              "      <td>-1.500919</td>\n",
              "      <td>0.979305</td>\n",
              "      <td>-3.461769</td>\n",
              "    </tr>\n",
              "  </tbody>\n",
              "</table>\n",
              "<p>259 rows × 10 columns</p>\n",
              "</div>"
            ],
            "text/plain": [
              "                High       Low      Open  ...       MFI        SO      MACD\n",
              "Date                                      ...                              \n",
              "2019-08-09  0.178332  0.186242  0.187718  ... -1.861220 -0.285930 -0.262674\n",
              "2019-08-12  0.169075  0.184363  0.165466  ... -1.479709  0.128713 -0.259131\n",
              "2019-08-13  0.300639  0.202213  0.184009  ... -0.079270  0.979305 -0.267280\n",
              "2019-08-14  0.226316  0.230530  0.212353  ...  0.160793 -0.354169 -0.266335\n",
              "2019-08-15  0.209366  0.191342  0.216327  ... -0.242345 -0.889124 -0.264129\n",
              "...              ...       ...       ...  ...       ...       ...       ...\n",
              "2020-08-12  3.442545  3.432710  3.375612  ... -0.009709  0.473439 -3.259773\n",
              "2020-08-13  3.586888  3.627578  3.583953  ...  1.464752  0.979305 -3.317925\n",
              "2020-08-14  3.532515  3.580203  3.605144  ... -0.595792  0.932626 -3.369990\n",
              "2020-08-17  3.589235  3.629457  3.670441  ... -1.057928  0.796004 -3.415492\n",
              "2020-08-18  3.584671  3.631873  3.579847  ... -1.500919  0.979305 -3.461769\n",
              "\n",
              "[259 rows x 10 columns]"
            ]
          },
          "metadata": {
            "tags": []
          },
          "execution_count": 108
        }
      ]
    },
    {
      "cell_type": "code",
      "metadata": {
        "id": "9jxI4swkvWXf",
        "colab": {
          "base_uri": "https://localhost:8080/",
          "height": 450
        },
        "outputId": "f7db458b-95a1-45ba-e031-05a043002435"
      },
      "source": [
        "y_trains"
      ],
      "execution_count": null,
      "outputs": [
        {
          "output_type": "execute_result",
          "data": {
            "text/html": [
              "<div>\n",
              "<style scoped>\n",
              "    .dataframe tbody tr th:only-of-type {\n",
              "        vertical-align: middle;\n",
              "    }\n",
              "\n",
              "    .dataframe tbody tr th {\n",
              "        vertical-align: top;\n",
              "    }\n",
              "\n",
              "    .dataframe thead th {\n",
              "        text-align: right;\n",
              "    }\n",
              "</style>\n",
              "<table border=\"1\" class=\"dataframe\">\n",
              "  <thead>\n",
              "    <tr style=\"text-align: right;\">\n",
              "      <th></th>\n",
              "      <th>Close</th>\n",
              "    </tr>\n",
              "    <tr>\n",
              "      <th>Date</th>\n",
              "      <th></th>\n",
              "    </tr>\n",
              "  </thead>\n",
              "  <tbody>\n",
              "    <tr>\n",
              "      <th>2016-01-12</th>\n",
              "      <td>-1.143052</td>\n",
              "    </tr>\n",
              "    <tr>\n",
              "      <th>2016-01-13</th>\n",
              "      <td>-1.169214</td>\n",
              "    </tr>\n",
              "    <tr>\n",
              "      <th>2016-01-14</th>\n",
              "      <td>-1.161947</td>\n",
              "    </tr>\n",
              "    <tr>\n",
              "      <th>2016-01-15</th>\n",
              "      <td>-1.248756</td>\n",
              "    </tr>\n",
              "    <tr>\n",
              "      <th>2016-01-19</th>\n",
              "      <td>-1.239903</td>\n",
              "    </tr>\n",
              "    <tr>\n",
              "      <th>...</th>\n",
              "      <td>...</td>\n",
              "    </tr>\n",
              "    <tr>\n",
              "      <th>2019-08-02</th>\n",
              "      <td>0.278008</td>\n",
              "    </tr>\n",
              "    <tr>\n",
              "      <th>2019-08-05</th>\n",
              "      <td>0.195823</td>\n",
              "    </tr>\n",
              "    <tr>\n",
              "      <th>2019-08-06</th>\n",
              "      <td>0.182478</td>\n",
              "    </tr>\n",
              "    <tr>\n",
              "      <th>2019-08-07</th>\n",
              "      <td>0.245372</td>\n",
              "    </tr>\n",
              "    <tr>\n",
              "      <th>2019-08-08</th>\n",
              "      <td>0.296242</td>\n",
              "    </tr>\n",
              "  </tbody>\n",
              "</table>\n",
              "<p>900 rows × 1 columns</p>\n",
              "</div>"
            ],
            "text/plain": [
              "               Close\n",
              "Date                \n",
              "2016-01-12 -1.143052\n",
              "2016-01-13 -1.169214\n",
              "2016-01-14 -1.161947\n",
              "2016-01-15 -1.248756\n",
              "2016-01-19 -1.239903\n",
              "...              ...\n",
              "2019-08-02  0.278008\n",
              "2019-08-05  0.195823\n",
              "2019-08-06  0.182478\n",
              "2019-08-07  0.245372\n",
              "2019-08-08  0.296242\n",
              "\n",
              "[900 rows x 1 columns]"
            ]
          },
          "metadata": {
            "tags": []
          },
          "execution_count": 109
        }
      ]
    },
    {
      "cell_type": "markdown",
      "metadata": {
        "id": "3kdiJMXwCtzb"
      },
      "source": [
        "# LSSVR"
      ]
    },
    {
      "cell_type": "code",
      "metadata": {
        "id": "ca21t-zO4zms"
      },
      "source": [
        "#basewoa 20p 30e for at and t\n",
        "\n",
        "\"\"\"Least Squares Support Vector Regression.\"\"\"\n",
        "import numpy as np\n",
        "from sklearn.base import BaseEstimator, RegressorMixin\n",
        "from sklearn.metrics.pairwise import rbf_kernel\n",
        "from sklearn.gaussian_process import kernels\n",
        "from sklearn.neighbors import NearestNeighbors, KNeighborsRegressor\n",
        "from scipy.sparse import linalg\n",
        "\n",
        "\n",
        "class LSSVR1(BaseEstimator, RegressorMixin):\n",
        "    def __init__(self, C=None, kernel=None, gamma=None):\n",
        "        self.supportVectors      = None\n",
        "        self.supportVectorLabels = None\n",
        "        self.C = C\n",
        "        self.gamma = gamma\n",
        "        self.kernel= kernel\n",
        "        self.idxs  = None\n",
        "        self.K = None\n",
        "        self.bias = None \n",
        "        self.alphas = None\n",
        "            \n",
        "\n",
        "    def set_params(self, **parameters):\n",
        "        for parameter, value in parameters.items():\n",
        "            setattr(self, parameter, value)\n",
        "        return self\n",
        "\n",
        "    def fit(self, x_train, y_train):\n",
        "        \n",
        "        if type(self.idxs) == type(None):\n",
        "            self.idxs=np.full(x_train.shape[0],True, dtype=bool)\n",
        "            \n",
        "             \n",
        "        self.supportVectors      = x_train.loc[self.idxs, :]\n",
        "        self.supportVectorLabels = y_train.loc[self.idxs]\n",
        "               \n",
        "        K = self.kernel_func(self.kernel, x_train, self.supportVectors, self.gamma)\n",
        "        \n",
        "        self.K = K\n",
        "        OMEGA = K\n",
        "        OMEGA[self.idxs, np.arange(OMEGA.shape[1])] =OMEGA[self.idxs, np.arange(OMEGA.shape[1])] + 1/self.C\n",
        "        \n",
        "        D = np.zeros(np.array(OMEGA.shape) + 1)\n",
        "        \n",
        "        D[1:,1:] = OMEGA\n",
        "        D[0, 1:] += 1\n",
        "        D[1:,0 ] += 1\n",
        "\n",
        "        n = len(self.supportVectorLabels) + 1\n",
        "        t = np.zeros(n)\n",
        "        t = pd.DataFrame(t)\n",
        "        t[1:n] = self.supportVectorLabels.values\n",
        "    \n",
        "        try:\n",
        "            z = linalg.lsmr(D.T, t)[0]\n",
        "        except:\n",
        "            z = np.linalg.pinv(D).T @ t.ravel()\n",
        "\n",
        "        self.bias   = z[0]\n",
        "        self.alphas = z[1:]\n",
        "        self.alphas = self.alphas[self.idxs]\n",
        "\n",
        "        return self\n",
        "\n",
        "    def predict(self, x_test):\n",
        "        K = self.kernel_func(self.kernel, x_test, self.supportVectors, self.gamma)\n",
        "\n",
        "        return (K @ self.alphas) + self.bias\n",
        "\n",
        "    def kernel_func(self, kernel, u, v, gamma):\n",
        "        if kernel == 'linear':\n",
        "            k = np.dot(u, v.T)\n",
        "        if kernel == 'rbf':\n",
        "            k = rbf_kernel(u, v, gamma=gamma)\n",
        "        return k"
      ],
      "execution_count": null,
      "outputs": []
    },
    {
      "cell_type": "code",
      "metadata": {
        "id": "Dmu8pW0M9mPp"
      },
      "source": [
        "\"\"\"Least Squares Support Vector Regression.\"\"\"\n",
        "import numpy as np\n",
        "from sklearn.base import BaseEstimator, RegressorMixin\n",
        "from sklearn.metrics.pairwise import rbf_kernel\n",
        "from sklearn.gaussian_process import kernels\n",
        "from sklearn.neighbors import NearestNeighbors, KNeighborsRegressor\n",
        "from scipy.sparse import linalg\n",
        "\n",
        "\n",
        "class LSSVR(BaseEstimator, RegressorMixin):\n",
        "    def __init__(self, C=None, kernel=None, gamma=None):\n",
        "        self.supportVectors      = None\n",
        "        self.supportVectorLabels = None\n",
        "        self.C = C\n",
        "        self.gamma = gamma\n",
        "        self.kernel= kernel\n",
        "        self.idxs  = None\n",
        "        self.K = None\n",
        "        self.bias = None \n",
        "        self.alphas = None\n",
        "            \n",
        "\n",
        "    def set_params(self, **parameters):\n",
        "        for parameter, value in parameters.items():\n",
        "            setattr(self, parameter, value)\n",
        "        return self\n",
        "\n",
        "    def fit(self, x_train, y_train):\n",
        "        \n",
        "        if type(self.idxs) == type(None):\n",
        "            self.idxs=np.full(x_train.shape[0],True, dtype=bool)\n",
        "            \n",
        "             \n",
        "        self.supportVectors      = x_train.loc[self.idxs, :]\n",
        "        self.supportVectorLabels = y_train.loc[self.idxs]\n",
        "               \n",
        "        K = self.kernel_func(self.kernel, x_train, self.supportVectors, self.gamma)\n",
        "        \n",
        "        self.K = K\n",
        "        OMEGA = K\n",
        "        OMEGA[self.idxs, np.arange(OMEGA.shape[1])] =OMEGA[self.idxs, np.arange(OMEGA.shape[1])] + 1/self.C\n",
        "        \n",
        "        D = np.zeros(np.array(OMEGA.shape) + 1)\n",
        "        \n",
        "        D[1:,1:] = OMEGA\n",
        "        D[0, 1:] += 1\n",
        "        D[1:,0 ] += 1\n",
        "\n",
        "        n = len(self.supportVectorLabels) + 1\n",
        "        t = np.zeros(n)\n",
        "        \n",
        "        t[1:n] = self.supportVectorLabels\n",
        "    \n",
        "        try:\n",
        "            z = linalg.lsmr(D.T, t)[0]\n",
        "        except:\n",
        "            z = np.linalg.pinv(D).T @ t.ravel()\n",
        "\n",
        "        self.bias   = z[0]\n",
        "        self.alphas = z[1:]\n",
        "        self.alphas = self.alphas[self.idxs]\n",
        "\n",
        "        return self\n",
        "\n",
        "    def predict(self, x_test):\n",
        "        K = self.kernel_func(self.kernel, x_test, self.supportVectors, self.gamma)\n",
        "\n",
        "        return (K @ self.alphas) + self.bias\n",
        "    \n",
        "    def kernel_func(self, kernel, u, v, gamma):\n",
        "        if kernel == 'linear':\n",
        "            k = np.dot(u, v.T)\n",
        "        if kernel == 'rbf':\n",
        "            k = rbf_kernel(u, v, gamma=gamma)\n",
        "            \n",
        "        return k"
      ],
      "execution_count": null,
      "outputs": []
    },
    {
      "cell_type": "markdown",
      "metadata": {
        "id": "UU2ZZMcVC47V"
      },
      "source": [
        "# Optimizers"
      ]
    },
    {
      "cell_type": "code",
      "metadata": {
        "id": "edWIY-oZ9mPt"
      },
      "source": [
        "class salp:\n",
        "    def __init__(self,bounds):\n",
        "        self.position = []\n",
        "        self.fitness = -1\n",
        "\n",
        "        for i in range(0,n_dim):\n",
        "            self.position.append(random.uniform(bounds[i][0],bounds[i][1]))\n",
        "    \n",
        "    def evaluate(self,costFunc):\n",
        "        self.fitness = costFunc(self.position)\n",
        "        \n",
        "    def update_leader(self,F,c1,bounds):\n",
        "        for i in range(0,n_dim):\n",
        "            c2 = random.random()\n",
        "            c3 = random.random()\n",
        "            \n",
        "            if c3 >=0.5:\n",
        "                self.position[i] = F[i] + c1*(c2*(bounds[i][1] - bounds[i][0]) + bounds[i][0])\n",
        "            elif c3<0.5:\n",
        "                self.position[i] = F[i] - c1*(c2*(bounds[i][1] - bounds[i][0]) + bounds[i][0])\n",
        "                \n",
        "            if self.position[i]>bounds[i][1]:\n",
        "                self.position[i]=bounds[i][1]\n",
        "\n",
        "            if self.position[i] < bounds[i][0]:\n",
        "                self.position[i]=bounds[i][0] \n",
        "                \n",
        "                     \n",
        "                \n",
        "class SSA():\n",
        "    def __init__(self,bounds):\n",
        "        global n_dim\n",
        "        #print ('Without local search ')\n",
        "        \n",
        "        n_dim = len(bounds)\n",
        "        self.F_pos = []\n",
        "        self.F_val = -1\n",
        "        \n",
        "    def optimize(self,costFunc,bounds,salp_size,maxiter):\n",
        "      self.salps = []\n",
        "      for i in range(0,salp_size):\n",
        "          self.salps.append(salp(bounds))\n",
        "            \n",
        "      i = 0\n",
        "      while i < maxiter:\n",
        "            \n",
        "          c1 = 2*math.exp(-((4*i)/maxiter)**2)\n",
        "            \n",
        "          for j in range(0,salp_size):\n",
        "              self.salps[j].evaluate(costFunc)\n",
        "              if self.salps[j].fitness <self.F_val or self.F_val == -1:\n",
        "                  self.F_val = self.salps[j].fitness\n",
        "                  self.F_pos = list(self.salps[j].position)\n",
        "            \n",
        "          for j in range(0,salp_size):        \n",
        "              if j == 1:\n",
        "                  self.salps[j].update_leader(self.F_pos,c1,bounds)\n",
        "              else :\n",
        "                  for k in range(0,n_dim):\n",
        "                      self.salps[j].position[k] = (self.salps[j].position[k] + self.salps[j-1].position[k])/2\n",
        "                      if self.salps[j].position[k]>bounds[k][1]:\n",
        "                          self.salps[j].position[k]=bounds[k][1]\n",
        "\n",
        "                      if self.salps[j].position[k] < bounds[k][0]:\n",
        "                          self.salps[j].position[k]=bounds[k][0]    \n",
        "          i = i+1 \n",
        "            \n",
        "      #print ('Pos - ',self.F_pos)\n",
        "      #print ('Optimum - ',self.F_val)\n",
        "      return self.F_pos,self.F_val   "
      ],
      "execution_count": null,
      "outputs": []
    },
    {
      "cell_type": "code",
      "metadata": {
        "id": "QVhiz0epsih3"
      },
      "source": [
        "import numpy\n",
        "class salp1:\n",
        "\n",
        "    def __init__(self,bounds):\n",
        "        self.position = []\n",
        "        self.fitness = -1\n",
        "\n",
        "        for i in range(0,n_dim):\n",
        "            self.position.append(random.uniform(bounds[i][0],bounds[i][1]))\n",
        "    \n",
        "    def evaluate(self,costFunc):\n",
        "        self.fitness = costFunc(self.position)\n",
        "\n",
        "    def fit(self,costFunc,thisone):\n",
        "        return costFunc(thisone)\n",
        "        \n",
        "    def update_leader(self,F,c1,bounds):\n",
        "        for i in range(0,n_dim):\n",
        "            c2 = random.random()\n",
        "            c3 = random.random()\n",
        "            \n",
        "            if c3 >=0.5:\n",
        "                self.position[i] = F[i] + c1*(c2*(bounds[i][1] - bounds[i][0]) + bounds[i][0])\n",
        "            elif c3<0.5:\n",
        "                self.position[i] = F[i] - c1*(c2*(bounds[i][1] - bounds[i][0]) + bounds[i][0])\n",
        "                \n",
        "            if self.position[i]>bounds[i][1]:\n",
        "                self.position[i]=bounds[i][1]\n",
        "\n",
        "            if self.position[i] < bounds[i][0]:\n",
        "                self.position[i]=bounds[i][0]\n",
        "\n",
        "    def randomwalk(self,agent,n):\n",
        "      percent = 30\n",
        "      percent /= 100\n",
        "      neighbor = agent.copy()\n",
        "      size = np.shape(neighbor)[0]\n",
        "      #print (size)\n",
        "      upper = int(percent*size)\n",
        "      if upper <= 1:\n",
        "          upper = size\n",
        "      x = random.randint(1,upper)\n",
        "      #print ('x - ',x)\n",
        "      pos = random.sample(range(0,size),x)\n",
        "      #print ('pos generated - ',pos)\n",
        "      for i in pos:\n",
        "          if random.random() < 0.5:\n",
        "            neighbor[i] = neighbor[i] + n\n",
        "          else :\n",
        "            neighbor[i] = neighbor[i] - n\n",
        "      return neighbor\n",
        "\n",
        "\n",
        "    def adaptiveBeta(self,costFunc,k,bounds):\n",
        "        #print ('entry - ',self.position)\n",
        "\n",
        "        bmin = 0.1 #parameter: (can be made 0.01)\n",
        "        bmax = 1\n",
        "        maxIter = 7 # parameter: (can be increased )\n",
        "        pow = 1/k\n",
        "        \n",
        "        agentFit = self.fitness\n",
        "        agent = np.asarray_chkfinite(self.position.copy())\n",
        "        for curr in range(maxIter):\n",
        "            neighbor = agent.copy()\n",
        "            n = 1 - float((curr**pow)/(maxIter**pow))\n",
        "            #print ('n - ',n)\n",
        "            \n",
        "https://colab.research.google.com/drive/1SLTc8c825fLQJZxojAZV9h7OZArAE0tG?usp=sharing\n",
        "            #print (neighbor)\n",
        "            size = np.shape(neighbor)[0]\n",
        "            #print ('size - ',np.shape(neighbor))\n",
        "            neighbor = self.randomwalk(neighbor,n)\n",
        "\n",
        "            beta = bmin + (curr / maxIter)*(bmax - bmin)\n",
        "            #print ('beta - ',beta)\n",
        "            for i in range(size):\n",
        "                random.seed( time.time() + i )\n",
        "                if random.random() <= beta:\n",
        "                    neighbor[i] = agent[i]\n",
        "                    #print (neighbor[i])\n",
        "                    \n",
        "                    neighbor[i] = numpy.clip(neighbor[i],bounds[i][0],bounds[i][1])\n",
        "                    #print (neighbor[i])\n",
        "            neighbor = numpy.clip(neighbor,bounds[0][0],bounds[0][1])\n",
        "            neighFit = self.fit(costFunc,neighbor)\n",
        "            #print (neighFit)\n",
        "            if neighFit <= agentFit:\n",
        "                agent = neighbor.copy()\n",
        "                agentFit = neighFit\n",
        "\n",
        "            \n",
        "            '''if list(agent) != self.position:\n",
        "              print ('better solution found')\n",
        "              \n",
        "            else:\n",
        "              print ('previous was better')'''\n",
        "\n",
        "        #print ('After hill climbing - ',agent)\n",
        "        #print ('\\n')\n",
        "        self.position = agent\n",
        "        self.fitness = agentFit\n",
        "         \n",
        "                        \n",
        "class SSA1():\n",
        "    def __init__(self,bounds):\n",
        "        global n_dim\n",
        "        #print ('With local search ')\n",
        "        \n",
        "        n_dim = len(bounds)\n",
        "        self.F_pos = []\n",
        "        self.F_val = -1\n",
        "        \n",
        "    def optimize(self,costFunc,bounds,salp_size,maxiter):\n",
        "      self.salps = []\n",
        "      for i in range(0,salp_size):\n",
        "          self.salps.append(salp1(bounds))\n",
        "            \n",
        "      i = 0\n",
        "      while i < maxiter:\n",
        "            \n",
        "          c1 = 2*math.exp(-((4*i)/maxiter)**2)\n",
        "            \n",
        "          for j in range(0,salp_size):\n",
        "              self.salps[j].evaluate(costFunc)\n",
        "              if self.salps[j].fitness <self.F_val or self.F_val == -1:\n",
        "                  self.F_val = self.salps[j].fitness\n",
        "                  self.F_pos = list(self.salps[j].position)\n",
        "              #self.salps[j].adaptiveBeta(costFunc,30,bounds)\n",
        "            \n",
        "          for j in range(0,salp_size):        \n",
        "              if j == 1:\n",
        "                  self.salps[j].update_leader(self.F_pos,c1,bounds)\n",
        "                  self.salps[j].adaptiveBeta(costFunc,30,bounds)\n",
        "              else :\n",
        "                  for k in range(0,n_dim):\n",
        "                      self.salps[j].position[k] = (self.salps[j].position[k] + self.salps[j-1].position[k])/2\n",
        "                      if self.salps[j].position[k]>bounds[k][1]:\n",
        "                          self.salps[j].position[k]=bounds[k][1]\n",
        "\n",
        "                      if self.salps[j].position[k] < bounds[k][0]:\n",
        "                          self.salps[j].position[k]=bounds[k][0]    \n",
        "          i = i+1 \n",
        "            \n",
        "      #print ('Pos - ',self.F_pos)\n",
        "      #print ('Optimum - ',self.F_val)\n",
        "      return self.F_pos,self.F_val   \n",
        "            "
      ],
      "execution_count": null,
      "outputs": []
    },
    {
      "cell_type": "code",
      "metadata": {
        "id": "1Pgc-EmOM6vf"
      },
      "source": [
        "import random\n",
        "import numpy\n",
        "import math\n",
        "import time\n",
        "\n",
        "def HHO(objf,lb,ub,dim,SearchAgents_no,Max_iter):\n",
        "    #print ('Without Local Search')\n",
        "\n",
        "\n",
        "    # initialize the location and Energy of the rabbit\n",
        "    Rabbit_Location=numpy.zeros(dim)\n",
        "    Rabbit_Energy=float(\"inf\")  #change this to -inf for maximization problems\n",
        "    best_energy=float(\"inf\")\n",
        "    best_location=0\n",
        "    \n",
        "    #Initialize the locations of Harris' hawks\n",
        "    X=numpy.random.uniform(0,1,(SearchAgents_no,dim)) *(ub-lb)+lb\n",
        "    \n",
        "    #Initialize convergence\n",
        "    convergence_curve=numpy.zeros(Max_iter)\n",
        "    \n",
        "    \n",
        "    ############################\n",
        "\n",
        "    #print(\"HHO is now tackling  \\\"\"+objf.__name__+\"\\\"\")    \n",
        "\n",
        "    timerStart=time.time() \n",
        "    ############################\n",
        "    \n",
        "    t=0  # Loop counter\n",
        "    \n",
        "    # Main loop\n",
        "    while t<Max_iter:\n",
        "        for i in range(0,SearchAgents_no):\n",
        "            \n",
        "            # Check boundries\n",
        "                      \n",
        "            X[i,:]=numpy.clip(X[i,:], lb, ub)\n",
        "            \n",
        "            # fitness of locations\n",
        "            fitness=objf(X[i,:])\n",
        "            \n",
        "            # Update the location of Rabbit\n",
        "            if fitness<Rabbit_Energy: # Change this to > for maximization problem\n",
        "                Rabbit_Energy=fitness \n",
        "                Rabbit_Location=X[i,:].copy() \n",
        "            \n",
        "        E1=2*(1-(t/Max_iter)) # factor to show the decreaing energy of rabbit    \n",
        "        \n",
        "        # Update the location of Harris' hawks xxxxxxxxxxxxxxxxxxxxxxxxxxxxxxxxxxxxxxxxxxxxxxxxxxxxxxxxxxxxxxxxxxxxxxxxxxxxxxxxxxxxxxxxxxxxxxxxxxxxxxxxxxxxxxxxxxxxxxxxxxxxxxxxxxxxxxxxxxxxxxxxxxxxxxxxxxxxxxxxxxxxxxxxxxxxxxxxxxxxxxxxxxxxxxxxxxxxxxxxxxxxxxxxxxxxxxxxxxxxxxxxxxxxxxxxxxxxxxxxxxxxxxxxxxxxxxxxxxxxxxxxxxxxxxxxxxxxxxxxxxxxxxxxxxxxxxxxxxxxxxxxxxxxxxxxxxxxxxxxxxxxxxxxxxxxxxxxxxxxxxxxxxxxxxxxxxxxxxxxxxxxxxxxxxxxxxxxxxxxxxxxxxxxxxxxxxxxxxxxxxxxxxxxxxxxxxxxxxxxxxxxxxxxxxxxxxxxxxxxxxxxxxxxxxxxxxxxxxxxxxxxxxxxxxxxxxxxxxxxxxxxxxxxxxxxxxxxxxxxxxxxxxxxxxxxxxxxxxxxxxxxxxxxxxxxxxxsssssssssssssssssssssssssssssssssssssssssssssssssssssssssssssssssssssssssssssssssssssssssssssssssssssssssssssssssssssssssssssssssssssssssssssssssssssssssssssssssssssssssssssssssssssssssssssssssssssssssssssssssssssssssssssssssssssssssssssssssssssssssssssssssssssssssssssssssssssssssssssssssssssssssssssssssssssssssssssssssssssssssssssssssssssssssssssssssssssssssssssssssssssssssssssssssssssssssssssssssssssssssssssssssssssssssssssssssssssssssssssssssssssssssssssssssssssssssssssssssssssssssssssssssssssssssssssssssssssssssssssssssssssssssssssssssssssssssssssssssssssssssssssssssssssssssssssssssssssssssssssssssssssssssssssssssssssssssssssssssssssssssssssssssssssssssssssssssssssssssssssssssssssssssssssssssssssssssssssssssssssssssssssssssssssssssssssssssssssssssssssssssssssssssssssssssssssssssssssssssssssssssssssssssssssssssssssssssssssssssssssssssssssssssssssssssssssssssssssssssssssssssssssssssssssssssssssssssssssssssssssssssssssssssssssssssssssssssssssssssssssssssssssssssssssssssssssssssssssssssssssssssssssssssssssssssssssssssssssssssssssssssssssssssssssssssssssssssssssssssssssssssssssssssssssssssssssssssssssssssssssssssssssssssssssssssssssssssssssssssssssssssssssssssssssssssssssssssssssssssssssssssssssssssssssssssssssssssssssssssssssssssssssssssssssssssssssssssssssssssssssssssssssssssssssssssssssssssssssssssssssssssssssssssssssssssssssssssssssssssssssssssssssssssssssssssssssssssssssssssssssssssssssssssssssssssssssssssssssssssssssssssssssssssssssssssssssssssssssssssssssssssssssssssssssssssssssssssssssssssssssssssssssssssssssssssssssssssssssssssssssssssssssssssssssssssssssssssssssssssssssssssssssssssssssssssssssssssssssssssssssssssssssssssssssssssssssssssssssssssssssssssssssssssssssssssssssssssssssssssssssssssssssssssssssssssssssssssssssssssssssssssssssssssssssssssssssssssssssssssssssssssssssssssssssssssssssssssssssssssssssssssssssssssssssssssssssssssssssssssssssssssssssssssssssssssssssssssssssssssssssssssssssssssssssssssssssssssssssssssssssssssssssssssssssssssssssssssssssssssssssssssssssssssssssssssssssssssssssssssssssssssssssssssssssssssssssssssssssssssssssssssssssssssssssssssssssssssssssssssssssssssssssssssssssssssssssssssssssssssssssssssssssssssssssssssssssssssssssssssssssssssssssssssssssssssssssssssssssssssssssssssssssssssssssssssssssssssssssssssssssssssssssssssssssssssssssssssssssssssssssssssssssssssssssssssssssssssssssssssssssssssssssssssssssssssssssssssssssssssssssssssssssssssssssssssssssssssssssssssssssssssssssssssssssssssssssssssssssssssssssssssssssssssssssssssssssssssssssssssssssssssssssssssssssssssssssssssssssssssssssssssssssssssssssssssssssssssssssssssssssssssssssssssssssssssssssssssssssssssssssssssssssssssssssssssssssssssssssssssssssssssssssssssssssssssssssssssssssssssssssssssssssssssssssssssssc                                                          eeeeeeeeeeeeeeeeeeeeeeeeeeeeeeeeeeeeeeeeeeeeeeeeeeeeeeeeeeeeeeeeeeeeeeeeeeeeeeeeeeeeeeeeeeeeeeeeeeeeeeeeeeeeeeeeeeeeeeeeeeeeeeeeeeeeeeeeeeeeeeeeeeeeeeeeeeeeeeeeeeeeeeeeeeeeeeeeeeeeeeeeeeeeeeeeeeeeeeeeeeeeeeeeeeeeeeeeeeeeeeeeeeeeeeeeeeeeeeeeeeeeeeeeeeeeeeeeeeeeeeeeeeeeeeeeeeeeeeeeeeeeeeeeeeeeeeeeeeeeeeeeeeeeeeeeeeeeeeeeeeeeeeeeeeeeeeeeeeeeeeeeeeeeeeeeeeeeeeeeeeeeeeeeeeeeeeeeeeeeeeeeeeeeeeeeeeeeeeeeeeeeeeeeeeeeeeeeeeeeeeeeeeeeeeeeeeeeeeeeeeeeeeeeeeeeeeeeeeeeeeeeeeeeeeeeeeeeeeeeeeeeeeeeeeeeeeeeeeeeeeeeeeeeeeeeeeeeeeeeeeeeeeeeeeeeeeeeeeeeeeeeeeeeeeeeeeeeeeeeeeeeeeeeeeeeeeeeeeeeeeeeeeeeeeeeeeeeeeeeeeeeeeeeeeeeeeeeeeeeeeeeeeeeeeeeeeeeeeeeeeeeeeeeeeeeeeeeeeeeeeeeeeeeeeeeeeeeeeeeeeeeeeeeeeeeeeeeeeeeeeeeeeeeeeeeeeeeeeeeeeeeeeeeeeeeeeeeeeeeeeeeeeeeeeeeeeeeeeeeeeeeeeeeeeeeeeeeeeeeeeeeeeeeeeeeeeeeeeeeeeeeeeeeeeeeeeeeeeeeeeeeeeeeeeeeeeeeeeeeeeeeeeeeeeeeeeeeeeeeeeeeeeeeeeeeeeeeeeeeeeeeeeeeeeeeeeeeeeeeeeeeeeeeeeeeeeeeeeeeeeeeeeeeeeeeeeeeeeeeeeeeeeeeeeeeeeeeeeeeeeeeeeeeeeeeeeeeeeeeeeeeeeeeeeeeeeeeeeeeeeeeeeeeeeeeeeeeeeeeeeeeeeeeeeeeeeeeeeeeeeeeeeeeeeeeeeeeeeeeeeeeeeeeeeeeeeeeeeeeeeeeeeeeeeeeeeeeeeeeeeeeeeeeeeeeeeeeeeeeeeeeeeeeeeeeeeeeeeeeeeeeeeeeeeeeeeeeeeeeeeeeeeeeeeeeeeeeeeeeeeeeeeeeeeeeeeeeeeeeeeeeeeeeeeeeeeeeeeeeeeeeeeeeeeeeeeeeeeeeeeeeeeeeeeeeeeeeeeeeeeeeeeeeeeeeeeeeeeeeeeeeeeeeeeeeeeeeeeeeeeeeeeeeeeeeeeeeeeeeeeeeeeeeeeeeeeeeeeeeeeeeeeeeeeeeeeeeeeeeeeeeeeeeeeeeeeeeeeeeeeeeeeeeeeeeeeeeeeeeeeeeeeeeeeeeeeeeeeeeeeeeeeeeeeeeeeeeeeeeeeeeeeeeeeeeeeeeeeeeeeeeeeeeeeeeeeeeeeeeeeeeeeeeeeeeeeeeeeeeeeeeeeeeeeeeeeeeeeeeeeeeeeeeeeeeeeeeeeeeeeeeeeeeeeeeeeeeeeeeeeeeeeeeeeeeeeeeeeeeeeeeeeeeeeeeeeeeeeeeeeeeeeeeeeeeeeeeeeeeeeeeeeeeeeeeeeeeeeeeeeeeeeeeeeeeeeeeeeeeeeeeeeeeeeeeeeeeeeeeeeeeeeeeeeeeeeeeeeeeeeeeeeeeeeeeeeeeeeeeeeeeeeeeeeeeeeeeeeeeeeeeeeeeeeeee44444444444444444444444444444444444444444444444444444444444444444444444444444444444444444444444444444444444444444444444444444444444444444444444444444444444444444444444444444444444444444444444444444444444444444444444444444444444444444444444444444444444444444444444444444444444444444444444444444444444444444444444444444\n",
        "        for i in range(0,SearchAgents_no):\n",
        "\n",
        "            E0=2*random.random()-1;  # -1<E0<1\n",
        "            Escaping_Energy=E1*(E0)  # escaping energy of rabbit Eq. (3) in the paper\n",
        "\n",
        "            # -------- Exploration phase Eq. (1) in paper -------------------\n",
        "\n",
        "            if abs(Escaping_Energy)>=1:\n",
        "                #Harris' hawks perch randomly based on 2 strategy:\n",
        "                q = random.random()\n",
        "                rand_Hawk_index = math.floor(SearchAgents_no*random.random())\n",
        "                X_rand = X[rand_Hawk_index, :]\n",
        "                if q<0.5:\n",
        "                    # perch based on other family members\n",
        "                    X[i,:]=X_rand-random.random()*abs(X_rand-2*random.random()*X[i,:])\n",
        "\n",
        "                elif q>=0.5:\n",
        "                    #perch on a random tall tree (random site inside group's home range)\n",
        "                    X[i,:]=(Rabbit_Location - X.mean(0))-random.random()*((ub-lb)*random.random()+lb)\n",
        "\n",
        "            # -------- Exploitation phase -------------------\n",
        "            elif abs(Escaping_Energy)<1:\n",
        "                #Attacking the rabbit using 4 strategies regarding the behavior of the rabbit\n",
        "\n",
        "                #phase 1: ----- surprise pounce (seven kills) ----------\n",
        "                #surprise pounce (seven kills): multiple, short rapid dives by different hawks\n",
        "\n",
        "                r=random.random() # probablity of each event\n",
        "                \n",
        "                if r>=0.5 and abs(Escaping_Energy)<0.5: # Hard besiege Eq. (6) in paper\n",
        "                    X[i,:]=(Rabbit_Location)-Escaping_Energy*abs(Rabbit_Location-X[i,:])\n",
        "                    #print ('Hard besiege')\n",
        "\n",
        "                if r>=0.5 and abs(Escaping_Energy)>=0.5:  # Soft besiege Eq. (4) in paper\n",
        "                    Jump_strength=2*(1- random.random()); # random jump strength of the rabbit\n",
        "                    X[i,:]=(Rabbit_Location-X[i,:])-Escaping_Energy*abs(Jump_strength*Rabbit_Location-X[i,:])\n",
        "                    #print ('Soft besiege')\n",
        "\n",
        "                #phase 2: --------performing team rapid dives (leapfrog movements)----------\n",
        "\n",
        "                if r<0.5 and abs(Escaping_Energy)>=0.5: # Soft besiege Eq. (10) in paper\n",
        "                    #rabbit try to escape by many zigzag deceptive motions\n",
        "                    Jump_strength=2*(1-random.random())\n",
        "                    X1=Rabbit_Location-Escaping_Energy*abs(Jump_strength*Rabbit_Location-X[i,:]);\n",
        "                    #print ('Soft besiege with rapid dives')\n",
        "\n",
        "                    if objf(X1)< fitness: # improved move?\n",
        "                        X[i,:] = X1.copy()\n",
        "                    else: # hawks perform levy-based short rapid dives around the rabbit\n",
        "                        X2=Rabbit_Location-Escaping_Energy*abs(Jump_strength*Rabbit_Location-X[i,:])+numpy.multiply(numpy.random.randn(dim),Levy(dim))\n",
        "                        if objf(X2)< fitness:\n",
        "                            X[i,:] = X2.copy()\n",
        "                            #print ('levy based soft besiege with rapid dives')\n",
        "                if r<0.5 and abs(Escaping_Energy)<0.5:   # Hard besiege Eq. (11) in paper\n",
        "                    Jump_strength=2*(1-random.random())\n",
        "                    X1=Rabbit_Location-Escaping_Energy*abs(Jump_strength*Rabbit_Location-X.mean(0))\n",
        "                    #print ('Hard besiege with rapid dives')\n",
        "         \n",
        "                    if objf(X1)< fitness: # improved move?\n",
        "                        X[i,:] = X1.copy()\n",
        "                    else: # Perform levy-based short rapid dives around the rabbit\n",
        "                        X2=Rabbit_Location-Escaping_Energy*abs(Jump_strength*Rabbit_Location-X.mean(0))+numpy.multiply(numpy.random.randn(dim),Levy(dim))\n",
        "                        if objf(X2)< fitness:\n",
        "                            X[i,:] = X2.copy()\n",
        "                            #print ('levy based Hard besiege with rapid dives')\n",
        "                \n",
        "        convergence_curve[t]=Rabbit_Energy\n",
        "        if (Rabbit_Energy<=best_energy):\n",
        "            best_energy=Rabbit_Energy\n",
        "            best_location=Rabbit_Location\n",
        "        '''if (t%1==0):\n",
        "               print(['At iteration '+ str(t)+ ' the best fitness is '+ str(Rabbit_Energy)])'''\n",
        "        t=t+1\n",
        "    \n",
        "    timerEnd=time.time()\n",
        "    \n",
        "    #print(\"The best location is\", best_location)\n",
        "    #print(\"The best energy is\", best_energy)\n",
        "\n",
        "    return best_location,best_energy\n",
        "    \n",
        "\n",
        "    \n",
        "\n",
        "def Levy(dim):\n",
        "    beta=1.5\n",
        "    sigma=(math.gamma(1+beta)*math.sin(math.pi*beta/2)/(math.gamma((1+beta)/2)*beta*2**((beta-1)/2)))**(1/beta) \n",
        "    #print ('I was used')\n",
        "    u= 0.01*numpy.random.randn(dim)*sigma\n",
        "    v = numpy.random.randn(dim)\n",
        "    zz = numpy.power(numpy.absolute(v),(1/beta))\n",
        "    step = numpy.divide(u,zz)\n",
        "    return step"
      ],
      "execution_count": null,
      "outputs": []
    },
    {
      "cell_type": "code",
      "metadata": {
        "id": "iJgURsX3EKtt"
      },
      "source": [
        "class RootAlgo(object):\n",
        "    \"\"\" This is root of all Algorithms \"\"\"\n",
        "    ID_MIN_PROBLEM = 0\n",
        "    ID_MAX_PROBLEM = -1\n",
        "\n",
        "    def __init__(self, root_algo_paras = None):\n",
        "        self.problem_size = root_algo_paras[\"problem_size\"]\n",
        "        self.domain_range = root_algo_paras[\"domain_range\"]\n",
        "        self.print_train = root_algo_paras[\"print_train\"]\n",
        "        self.objective_func = root_algo_paras[\"objective_func\"]\n",
        "        self.solution, self.loss_train = None, []\n",
        "\n",
        "    def _create_solution__(self, minmax=0):\n",
        "        solution = np.random.uniform(self.domain_range[0], self.domain_range[1], self.problem_size)\n",
        "        fitness = self._fitness_model__(solution=solution, minmax=minmax)\n",
        "        return [solution, fitness]\n",
        "\n",
        "    def _fitness_model__(self, solution=None, minmax=0):\n",
        "        \"\"\" Assumption that objective function always return the original value \"\"\"\n",
        "        return self.objective_func(solution, self.problem_size) if minmax == 0 \\\n",
        "            else 1.0 / self.objective_func(solution, self.problem_size)\n",
        "\n",
        "    def _fitness_encoded__(self, encoded=None, id_pos=None, minmax=0):\n",
        "        return self._fitness_model__(solution=encoded[id_pos], minmax=minmax)\n",
        "\n",
        "    def _get_global_best__(self, pop=None, id_fitness=None, id_best=None):\n",
        "        sorted_pop = sorted(pop, key=lambda temp: temp[id_fitness])\n",
        "        return deepcopy(sorted_pop[id_best])\n",
        "\n",
        "    def _get_global_worst__(self, pop=None, id_fitness=None, id_worst=None):\n",
        "        sorted_pop = sorted(pop, key=lambda temp: temp[id_fitness])\n",
        "        return deepcopy(sorted_pop[id_worst])\n",
        "\n",
        "    def _amend_solution__(self, solution=None):\n",
        "        for i in range(self.problem_size):\n",
        "            if solution[i] < self.domain_range[0]:\n",
        "                solution[i] = self.domain_range[0]\n",
        "            if solution[i] > self.domain_range[1]:\n",
        "                solution[i] = self.domain_range[1]\n",
        "\n",
        "    def _amend_solution_and_return__(self, solution=None):\n",
        "        for i in range(self.problem_size):\n",
        "            if solution[i] < self.domain_range[0]:\n",
        "                solution[i] = self.domain_range[0]\n",
        "            if solution[i] > self.domain_range[1]:\n",
        "                solution[i] = self.domain_range[1]\n",
        "        return solution\n",
        "\n",
        "    ### This is failed version\n",
        "    # def _amend_solution_and_return_failed__(self, solution=None):\n",
        "    #     temp = deepcopy(solution)\n",
        "    #     for i in range(self.problem_size):\n",
        "    #         if solution[i] < self.domain_range[0]:\n",
        "    #             solution[i] = self.domain_range[0]\n",
        "    #         if solution[i] > self.domain_range[1]:\n",
        "    #             solution[i] = self.domain_range[1]\n",
        "    #     return temp\n",
        "\n",
        "\n",
        "    def _create_opposition_solution__(self, solution=None, g_best=None):\n",
        "        temp = [self.domain_range[0] + self.domain_range[1] - g_best[i] + np.random.random() * (g_best[i] - solution[i])\n",
        "                      for i in range(self.problem_size)]\n",
        "        return np.array(temp)\n",
        "\n",
        "\n",
        "    def _train__(self):\n",
        "        pass"
      ],
      "execution_count": null,
      "outputs": []
    },
    {
      "cell_type": "code",
      "metadata": {
        "id": "PMU_6XRbuMbL"
      },
      "source": [
        "from copy import deepcopy\n",
        "import numpy as np\n",
        "from math import gamma\n",
        "\n",
        "class BaseHHO(RootAlgo):\n",
        "    \"\"\"\n",
        "    Harris Hawks Optimization: Algorithm and Applications\n",
        "    \"\"\"\n",
        "    ID_POS = 0\n",
        "    ID_FIT = 1\n",
        "\n",
        "    def __init__(self, root_algo_paras=None, hho_paras=None):\n",
        "        RootAlgo.__init__(self, root_algo_paras)\n",
        "        self.epoch = hho_paras[\"epoch\"]\n",
        "        self.pop_size = hho_paras[\"pop_size\"]\n",
        "\n",
        "    def _train__(self):\n",
        "        pop = [self._create_solution__() for _ in range(0, self.pop_size)]\n",
        "        gbest = self._get_global_best__(pop, self.ID_FIT, self.ID_MIN_PROBLEM)\n",
        "        for epoch in range(0, self.epoch):\n",
        "\n",
        "            # Update the location of Harris' hawks\n",
        "            for i in range(0, self.pop_size):\n",
        "                E0 = 2 * np.random.uniform() - 1                        # -1 < E0 < 1\n",
        "                E = 2 * E0 * (1 - (epoch + 1) * 1.0 / self.epoch)       # factor to show the decreasing energy of rabbit\n",
        "                J = 2 * (1 - np.random.uniform())\n",
        "\n",
        "                # -------- Exploration phase Eq. (1) in paper -------------------\n",
        "                if (np.abs(E) >= 1):\n",
        "                    # Harris' hawks perch randomly based on 2 strategy:\n",
        "                    if (np.random.uniform() >= 0.5):        # perch based on other family members\n",
        "                        X_rand = deepcopy(pop[np.random.randint(0, self.pop_size)][self.ID_POS])\n",
        "                        pop[i][self.ID_POS] = X_rand - np.random.uniform() * np.abs(X_rand - 2 * np.random.uniform() * pop[i][self.ID_POS])\n",
        "\n",
        "                    else:           # perch on a random tall tree (random site inside group's home range)\n",
        "                        X_m = np.mean([x[self.ID_POS] for x in pop])\n",
        "                        pop[i][self.ID_POS] = (gbest[self.ID_POS] - X_m) - np.random.uniform()*(\n",
        "                            self.domain_range[0] + np.random.uniform() * (self.domain_range[1] - self.domain_range[0]))\n",
        "\n",
        "                # -------- Exploitation phase -------------------\n",
        "                else:\n",
        "                    # Attacking the rabbit using 4 strategies regarding the behavior of the rabbit\n",
        "                    # phase 1: ----- surprise pounce (seven kills) ----------\n",
        "                    # surprise pounce (seven kills): multiple, short rapid dives by different hawks\n",
        "                    if (np.random.uniform() >= 0.5):\n",
        "                        delta_X = gbest[self.ID_POS] - pop[i][self.ID_POS]\n",
        "                        if (np.abs(E) >= 0.5):          # Hard besiege Eq. (6) in paper\n",
        "                            pop[i][self.ID_POS] = delta_X - E * np.abs( J * gbest[self.ID_POS] - pop[i][self.ID_POS] )\n",
        "                        else:                           # Soft besiege Eq. (4) in paper\n",
        "                            pop[i][self.ID_POS] = gbest[self.ID_POS] - E * np.abs(delta_X)\n",
        "                    else:\n",
        "                        xichma = np.power((gamma(1 + 1.5) * np.sin(np.pi * 1.5 / 2.0)) / (gamma((1 + 1.5) * 1.5 * np.power(2, (1.5 - 1) / 2)) / 2.0), 1.0 / 1.5)\n",
        "                        LF_D = 0.01 * np.random.uniform() * xichma / np.power(np.abs(np.random.uniform()), 1.0 / 1.5)\n",
        "                        fit_Y, Y = None, None\n",
        "                        if (np.abs(E) >= 0.5):      # Soft besiege Eq. (10) in paper\n",
        "                            Y = gbest[self.ID_POS] - E * np.abs( J * gbest[self.ID_POS] - pop[i][self.ID_POS] )\n",
        "                            fit_Y = self._fitness_model__(Y)\n",
        "                        else:                       # Hard besiege Eq. (11) in paper\n",
        "                            X_m = np.mean([x[self.ID_POS] for x in pop])\n",
        "                            Y = gbest[self.ID_POS] - E * np.abs( J * gbest[self.ID_POS] - X_m )\n",
        "                            fit_Y = self._fitness_model__(Y)\n",
        "\n",
        "                        Z = Y + np.random.uniform(self.domain_range[0], self.domain_range[1], self.problem_size) * LF_D\n",
        "                        fit_Z = self._fitness_model__(Z)\n",
        "\n",
        "                        if fit_Y < pop[i][self.ID_FIT]:\n",
        "                            pop[i] = [Y, fit_Y]\n",
        "                        if fit_Z < pop[i][self.ID_FIT]:\n",
        "                            pop[i] = [Z, fit_Z]\n",
        "\n",
        "            current_best = self._get_global_best__(pop, self.ID_FIT, self.ID_MIN_PROBLEM)\n",
        "            if current_best[self.ID_FIT] < gbest[self.ID_FIT]:\n",
        "                gbest = deepcopy(current_best)\n",
        "            self.loss_train.append(gbest[self.ID_FIT])\n",
        "            if self.print_train:\n",
        "                print(\"Epoch = {}, Fit = {}\".format(epoch + 1, gbest[self.ID_FIT]))\n",
        "\n",
        "        return gbest[self.ID_POS], gbest[self.ID_FIT]"
      ],
      "execution_count": null,
      "outputs": []
    },
    {
      "cell_type": "code",
      "metadata": {
        "id": "bUjqY7CaDZ7u"
      },
      "source": [
        "class BaseDE(RootAlgo):\n",
        "\n",
        "    ID_SOl = 0\n",
        "    ID_FIT = 1\n",
        "    def __init__(self, root_algo_paras=None, de_paras = None):\n",
        "        RootAlgo.__init__(self, root_algo_paras)\n",
        "        self.epoch =  de_paras[\"epoch\"]\n",
        "        self.pop_size = de_paras[\"pop_size\"]\n",
        "        self.weighting_factor = de_paras[\"Wf\"]\n",
        "        self.crossover_rate = de_paras[\"Cr\"]\n",
        "\n",
        "    def _mutation__(self, p0, p1, p2, p3):\n",
        "        # Choose a cut point which differs 0 and chromosome-1 (first and last element)\n",
        "        cut_point = np.random.randint(0, self.problem_size-1)\n",
        "        sample = []\n",
        "        for i in range(self.problem_size):\n",
        "            if i == cut_point or np.random.uniform() < self.crossover_rate  :\n",
        "                v = p1[i] + self.weighting_factor * ( p2[i] - p3[i])\n",
        "                v = self.domain_range[0] if v < self.domain_range[0] else v\n",
        "                v = self.domain_range[1] if v > self.domain_range[1] else v\n",
        "                sample.append(v)\n",
        "            else :\n",
        "                sample.append(p0[i])\n",
        "        return np.array(sample)\n",
        "\n",
        "    def _create_children__(self, pop):\n",
        "        new_children = []\n",
        "        for i in range(self.pop_size):\n",
        "            temp = np.random.choice(range(0, self.pop_size), 3, replace=False)\n",
        "            while i in temp:\n",
        "                temp = np.random.choice(range(0, self.pop_size), 3, replace=False)\n",
        "            #create new child and append in children array\n",
        "            child = self._mutation__(pop[i][self.ID_SOl], pop[temp[0]][self.ID_SOl], pop[temp[1]][self.ID_SOl], pop[temp[2]][self.ID_SOl])\n",
        "            fit = self._fitness_model__(child)\n",
        "            new_children.append([child, fit])\n",
        "        return np.array(new_children)\n",
        "\n",
        "    ### Survivor Selection\n",
        "    def _greedy_selection__(self, pop_old=None, pop_new=None):\n",
        "        pop = [pop_new[i] if pop_new[i][self.ID_FIT] < pop_old[i][self.ID_FIT]\n",
        "               else pop_old[i] for i in range(self.pop_size)]\n",
        "        return pop\n",
        "\n",
        "    def _train__(self):\n",
        "        pop = [self._create_solution__() for _ in range(self.pop_size)]\n",
        "        gbest = self._get_global_best__(pop=pop, id_fitness=self.ID_FIT, id_best=self.ID_MIN_PROBLEM)\n",
        "\n",
        "        for i in range(self.epoch):\n",
        "            # create children\n",
        "            children = self._create_children__(pop)\n",
        "            # create new pop by comparing fitness of corresponding each member in pop and children\n",
        "            pop = self._greedy_selection__(pop, children)\n",
        "\n",
        "            current_best = self._get_global_best__(pop=pop, id_fitness=self.ID_FIT, id_best=self.ID_MIN_PROBLEM)\n",
        "            if current_best[self.ID_FIT]< gbest[self.ID_FIT]:\n",
        "                gbest = deepcopy(current_best)\n",
        "            self.loss_train.append(gbest[self.ID_FIT])\n",
        "            if self.print_train:\n",
        "                print(\"Epoch : {}, [MSE, MAE]: {}\".format(i + 1, gbest[self.ID_FIT]))\n",
        "\n",
        "        return gbest[self.ID_SOl], gbest[self.ID_FIT]\n"
      ],
      "execution_count": null,
      "outputs": []
    },
    {
      "cell_type": "code",
      "metadata": {
        "id": "y7COEnacDmCK"
      },
      "source": [
        "class BaseGA(RootAlgo):\n",
        "    ID_FITNESS = 1\n",
        "\n",
        "    def __init__(self, root_algo_paras=None, ga_paras = None):\n",
        "        RootAlgo.__init__(self, root_algo_paras)\n",
        "        self.epoch = ga_paras[\"epoch\"]\n",
        "        self.pop_size = ga_paras[\"pop_size\"]\n",
        "        self.pc = ga_paras[\"pc\"]\n",
        "        self.pm = ga_paras[\"pm\"]\n",
        "\n",
        "    ### Selection\n",
        "    def _get_index_roulette_wheel_selection__(self, list_fitness, sum_fitness):\n",
        "        r = np.random.uniform(low=0, high=sum_fitness)\n",
        "        for idx, f in enumerate(list_fitness):\n",
        "            r = r + f\n",
        "            if r > sum_fitness:\n",
        "                return idx\n",
        "\n",
        "    ### Crossover\n",
        "    def _crossover_arthmetic_recombination__(self, dad=None, mom=None):\n",
        "        r = np.random.uniform()             # w1 = w2 when r =0.5\n",
        "        w1 = np.multiply(r, dad) + np.multiply((1 - r), mom)\n",
        "        w2 = np.multiply(r, mom) + np.multiply((1 - r), dad)\n",
        "        return w1, w2\n",
        "\n",
        "    ### Mutation\n",
        "    def _mutation_flip_point__(self, parent, index):\n",
        "        w = deepcopy(parent)\n",
        "        w[index] = np.random.uniform(self.domain_range[0], self.domain_range[1])\n",
        "        return w\n",
        "\n",
        "    def _create_next_generation__(self, pop):\n",
        "        next_population = []\n",
        "\n",
        "        list_fitness = [pop[i][self.ID_FITNESS] for i in range(self.pop_size)]\n",
        "        fitness_sum = sum(list_fitness)\n",
        "        while (len(next_population) < self.pop_size):\n",
        "            ### Selection\n",
        "            c1 = deepcopy( pop[self._get_index_roulette_wheel_selection__(list_fitness, fitness_sum)] )\n",
        "            c2 = deepcopy( pop[self._get_index_roulette_wheel_selection__(list_fitness, fitness_sum)] )\n",
        "\n",
        "            w1, w2 = deepcopy(c1[0]), deepcopy(c2[0])\n",
        "            ### Crossover\n",
        "            if np.random.uniform() < self.pc:\n",
        "                w1, w2 = self._crossover_arthmetic_recombination__(c1[0], c2[0])\n",
        "\n",
        "            ### Mutation\n",
        "            for id in range(0, self.problem_size):\n",
        "                if np.random.uniform() < self.pm:\n",
        "                    w1 = self._mutation_flip_point__(w1, id)\n",
        "                if np.random.uniform() < self.pm:\n",
        "                    w2 = self._mutation_flip_point__(w2, id)\n",
        "\n",
        "            c1_new = [deepcopy(w1), self._fitness_model__(w1, minmax=1)]\n",
        "            c2_new = [deepcopy(w2), self._fitness_model__(w2, minmax=1)]\n",
        "            next_population.append(c1_new)\n",
        "            next_population.append(c2_new)\n",
        "        return next_population\n",
        "\n",
        "\n",
        "    def _train__(self):\n",
        "        best_train = [None, -1 ]\n",
        "        pop = [self._create_solution__(minmax=1) for _ in range(self.pop_size)]\n",
        "\n",
        "        for j in range(0, self.epoch):\n",
        "            # Next generations\n",
        "            pop = deepcopy(self._create_next_generation__(pop))\n",
        "            current_best = self._get_global_best__(pop=pop, id_fitness=self.ID_FITNESS, id_best=self.ID_MAX_PROBLEM)\n",
        "            if current_best[self.ID_FITNESS] > best_train[self.ID_FITNESS]:\n",
        "                best_train = current_best\n",
        "            if self.print_train:\n",
        "                print(\"> Epoch {0}: Best training fitness {1}\".format(j + 1, 1.0 / best_train[self.ID_FITNESS]))\n",
        "            self.loss_train.append(np.power(best_train[self.ID_FITNESS], -1))\n",
        "\n",
        "        return best_train[0], best_train[self.ID_FITNESS]"
      ],
      "execution_count": null,
      "outputs": []
    },
    {
      "cell_type": "code",
      "metadata": {
        "id": "1D7-_S7uDmUV"
      },
      "source": [
        "import random\n",
        "\n",
        "class BaseABC(RootAlgo):\n",
        " \n",
        "    ID_BEE = 0\n",
        "    ID_FITNESS = 1\n",
        "\n",
        "    def __init__(self, root_algo_paras=None, abc_paras=None):\n",
        "        RootAlgo.__init__(self, root_algo_paras)\n",
        "        self.epoch = abc_paras[\"epoch\"]\n",
        "        self.pop_size = abc_paras[\"pop_size\"]\n",
        "        self.e_bees = abc_paras[\"couple_bees\"][0]\n",
        "        self.o_bees = abc_paras[\"couple_bees\"][1]\n",
        "\n",
        "        self.patch_size = abc_paras[\"patch_variables\"][0]\n",
        "        self.patch_factor = abc_paras[\"patch_variables\"][1]\n",
        "        self.num_sites = abc_paras[\"sites\"][0]\n",
        "        self.elite_sites = abc_paras[\"sites\"][1]\n",
        "\n",
        "    def _create_neigh_bee__(self, individual=None, patch_size=None):\n",
        "        t1 = np.random.randint(0, len(individual) - 1)\n",
        "        new_bee = deepcopy(individual)\n",
        "        new_bee[t1] = (individual[t1] + random.random() * patch_size) if random.random() < 0.5 else (individual[t1] - random.random() * patch_size)\n",
        "        if random.random() < 0.5:\n",
        "            new_bee[t1] = individual[t1] + random.random() * patch_size\n",
        "            if new_bee[t1] > self.domain_range[1]:\n",
        "                new_bee[t1] = self.domain_range[1]\n",
        "        else:\n",
        "            new_bee[t1] = individual[t1] - random.random() * patch_size\n",
        "            if new_bee[t1] < self.domain_range[0]:\n",
        "                new_bee[t1] = self.domain_range[0]\n",
        "        return [new_bee, self._fitness_model__(new_bee)]\n",
        "\n",
        "\n",
        "    def _search_neigh__(self, parent=None, neigh_size=None):  # parent:  [ vector_individual, fitness ]\n",
        "        \"\"\"\n",
        "        Seeking in neigh_size neighborhood, take the best\n",
        "        \"\"\"\n",
        "        neigh = [self._create_neigh_bee__(parent[0], self.patch_size) for _ in range(0, neigh_size)]\n",
        "        return self._get_global_best__(neigh, self.ID_FITNESS, self.ID_MIN_PROBLEM)\n",
        "\n",
        "    def _create_scout_bees__(self, num_scouts=None):  # So luong ong trinh tham\n",
        "        return [self._create_solution__() for _ in range(0, num_scouts)]\n",
        "\n",
        "    def _train__(self):\n",
        "        pop = [self._create_solution__() for _ in range(0, self.pop_size)]\n",
        "        for j in range(0, self.epoch):\n",
        "            pop_sorted = sorted(pop, key=lambda bee: bee[self.ID_FITNESS])\n",
        "            best = deepcopy(pop_sorted[self.ID_MIN_PROBLEM])\n",
        "\n",
        "            next_gen = []\n",
        "            for i in range(0, self.num_sites):\n",
        "                if i < self.elite_sites:\n",
        "                    neigh_size = self.e_bees\n",
        "                else:\n",
        "                    neigh_size = self.o_bees\n",
        "                next_gen.append(self._search_neigh__(pop_sorted[i], neigh_size))\n",
        "\n",
        "            scouts = self._create_scout_bees__(self.pop_size - self.num_sites)  # Ong trinh tham\n",
        "            pop = next_gen + scouts\n",
        "            self.patch_size = self.patch_size * self.patch_factor\n",
        "            self.loss_train.append(best[self.ID_FITNESS])\n",
        "            if self.print_train:\n",
        "                print(\"Epoch = {}, patch_size = {}, Fit = {}\".format(j + 1, self.patch_size, best[self.ID_FITNESS]))\n",
        "\n",
        "        best = self._get_global_best__(pop, self.ID_FITNESS, self.ID_MIN_PROBLEM)\n",
        "        return best[self.ID_BEE], best[self.ID_FITNESS]"
      ],
      "execution_count": null,
      "outputs": []
    },
    {
      "cell_type": "code",
      "metadata": {
        "id": "gziZIdAzDmHd"
      },
      "source": [
        "from numpy.random import uniform\n",
        "\n",
        "class BaseBOA(RootAlgo):\n",
        "    \"\"\"\n",
        "    This is the version I implemented as the paper said:\n",
        "        Butterfly optimization algorithm: a novel approach for global optimization\n",
        "    Really cant even converge. Totally bullshit\n",
        "    \"\"\"\n",
        "    ID_POS = 0\n",
        "    ID_FIT = 1\n",
        "    ID_FRA = 2\n",
        "\n",
        "    def __init__(self, root_algo_paras=None, boa_paras=None):\n",
        "        RootAlgo.__init__(self, root_algo_paras)\n",
        "        self.epoch = boa_paras[\"epoch\"]\n",
        "        self.pop_size = boa_paras[\"pop_size\"]\n",
        "        self.c = boa_paras[\"c\"]                 # 0.01, is the sensory modality\n",
        "        self.p = boa_paras[\"p\"]                 # 0.8, Search for food and mating partner by butterflies can occur at both local and global scale\n",
        "        self.alpha = boa_paras[\"alpha\"]         # 0.1-0.3 (0 -> vo cung), the power exponent dependent on modality\n",
        "\n",
        "    def _create_solution__(self, minmax=0):\n",
        "        x = np.random.uniform(self.domain_range[0], self.domain_range[1], (self.problem_size, 1))\n",
        "        fit = self._fitness_model__(solution=x, minmax=minmax)      # stimulus intensity Ii\n",
        "        fragrance = 0\n",
        "        return [x, fit, fragrance]\n",
        "\n",
        "    def _train__(self):\n",
        "        alpha = self.alpha[0]\n",
        "        pop = [self._create_solution__(minmax=0) for _ in range(self.pop_size)]\n",
        "        g_best = self._get_global_best__(pop=pop, id_fitness=self.ID_FIT, id_best=self.ID_MIN_PROBLEM)\n",
        "\n",
        "        for epoch in range(self.epoch):\n",
        "            for i in range(self.pop_size):\n",
        "                pop[i][self.ID_FRA] = self.c * pop[i][self.ID_FIT]**alpha\n",
        "\n",
        "\n",
        "            for i in range(self.pop_size):\n",
        "                r = np.random.uniform()\n",
        "                t1 = None\n",
        "                if r < self.p:\n",
        "                    t1 = pop[i][self.ID_POS] + (r**2 * g_best[self.ID_POS] - pop[i][self.ID_POS]) * pop[i][self.ID_FRA]\n",
        "                else:\n",
        "                    idx = np.random.randint(0, self.pop_size)\n",
        "                    t1 = pop[i][self.ID_POS] + (r**2 * pop[idx][self.ID_POS] - pop[i][self.ID_POS]) * pop[i][self.ID_FRA]\n",
        "                fit = self._fitness_model__(t1, self.ID_MIN_PROBLEM)\n",
        "                fra = self.c * fit**alpha\n",
        "                pop[i] = [t1, fit, fra]\n",
        "            alpha = self.alpha[0] + ((epoch +1)/self.epoch) * (self.alpha[1] - self.alpha[0])\n",
        "\n",
        "            self.loss_train.append(g_best[self.ID_FIT])\n",
        "            if self.print_train:\n",
        "                print(\"Generation : {0}, best result so far: {1}\".format(epoch+1, g_best[self.ID_FIT]))\n",
        "\n",
        "        return g_best[self.ID_POS], g_best[self.ID_FIT]\n",
        "\n",
        "\n",
        "\n",
        "\n",
        "class OriginalBOA(RootAlgo):\n",
        "    \"\"\"\n",
        "    Original version of Butterfly Optimization Algorithm:\n",
        "        Butterfly optimization algorithm: a novel approach for global optimization - 2019\n",
        "    This is the code of the original author of BOA. He public on mathworks. But take a look at his code and his paper.\n",
        "    That is completely different. I don't want to say it is trash, but really?\n",
        "    Let's talk about the results.\n",
        "    If I use his mathworks, the results is good for single-global-optima such as square_funtion (whale_f1, whale_f2,...)\n",
        "        But really bad, It can't even converge when dealing with multiple-global-optima such as CEC2014 (C1, C2, ...)\n",
        "    If I use the version I coded based on his paper. It can't converge.\n",
        "    https://www.mathworks.com/matlabcentral/fileexchange/68209-butterfly-optimization-algorithm-boa\n",
        "    So many people asking him public the code of function, which used in the paper. Even 1 guy said\n",
        "        \"Honestly,this algorithm looks like Flower Pollination Algorithm developed by Yang.\"\n",
        "    \"\"\"\n",
        "\n",
        "    ID_POS = 0\n",
        "    ID_FIT = 1\n",
        "\n",
        "    def __init__(self, root_algo_paras=None, boa_paras=None):\n",
        "        RootAlgo.__init__(self, root_algo_paras)\n",
        "        self.epoch = boa_paras[\"epoch\"]\n",
        "        self.pop_size = boa_paras[\"pop_size\"]\n",
        "        self.c = boa_paras[\"c\"]                 # 0.01, is the sensory modality\n",
        "        self.p = boa_paras[\"p\"]                 # 0.8, Search for food and mating partner by butterflies can occur at both local and global scale\n",
        "        self.alpha = boa_paras[\"alpha\"]         # 0.1-0.3 (0 -> vo cung), the power exponent dependent on modality\n",
        "\n",
        "    def _train__(self):\n",
        "        pop = [self._create_solution__(minmax=0) for _ in range(self.pop_size)]\n",
        "        g_best = self._get_global_best__(pop=pop, id_fitness=self.ID_FIT, id_best=self.ID_MIN_PROBLEM)\n",
        "        c_temp = self.c\n",
        "        alpha = self.alpha[0]\n",
        "\n",
        "        for epoch in range(self.epoch):\n",
        "\n",
        "            for i in range(self.pop_size):\n",
        "                FP = c_temp * (pop[i][self.ID_FIT] ** alpha)\n",
        "\n",
        "                t1 = None\n",
        "                if uniform() < self.p:\n",
        "                    t1 = pop[i][self.ID_POS] + (uniform()*uniform() * g_best[self.ID_POS] - pop[i][self.ID_POS]) * FP\n",
        "                else:\n",
        "                    epsilon = uniform()\n",
        "                    id1, id2 = np.random.randint(0, self.pop_size, 2)\n",
        "                    dis = (epsilon**2) * pop[id1][self.ID_POS] - pop[id2][self.ID_POS]\n",
        "                    t1 = pop[i][self.ID_POS] + dis * FP\n",
        "                t1 = self._amend_solution_and_return__(t1)\n",
        "                fit = self._fitness_model__(t1)\n",
        "\n",
        "                if fit < pop[i][self.ID_FIT]:\n",
        "                    pop[i] = [deepcopy(t1), fit]\n",
        "\n",
        "                if fit < g_best[self.ID_FIT]:\n",
        "                    g_best = [deepcopy(t1), fit]\n",
        "\n",
        "            c_temp = c_temp + 0.025 / (c_temp * self.epoch)\n",
        "\n",
        "            self.loss_train.append(g_best[self.ID_FIT])\n",
        "            if self.print_train:\n",
        "                print(\"Generation : {0}, best result so far: {1}\".format(epoch+1, g_best[self.ID_FIT]))\n",
        "\n",
        "        return g_best[self.ID_POS], g_best[self.ID_FIT]\n",
        "\n",
        "\n",
        "class AdaptiveBOA(RootAlgo):\n",
        "\n",
        "    ID_POS = 0\n",
        "    ID_FIT = 1\n",
        "\n",
        "    def __init__(self, root_algo_paras=None, boa_paras=None):\n",
        "        RootAlgo.__init__(self, root_algo_paras)\n",
        "        self.epoch = boa_paras[\"epoch\"]\n",
        "        self.pop_size = boa_paras[\"pop_size\"]\n",
        "        self.c = boa_paras[\"c\"]                 # 0.01, is the sensory modality\n",
        "        self.p = boa_paras[\"p\"]                 # 0.8, Search for food and mating partner by butterflies can occur at both local and global scale\n",
        "        self.alpha = boa_paras[\"alpha\"]         # 0.1-0.3 (0 -> vo cung), the power exponent dependent on modality\n",
        "\n",
        "    def _train__(self):\n",
        "        pop = [self._create_solution__(minmax=0) for _ in range(self.pop_size)]\n",
        "        g_best = self._get_global_best__(pop=pop, id_fitness=self.ID_FIT, id_best=self.ID_MIN_PROBLEM)\n",
        "        c_temp = self.c\n",
        "        alpha = self.alpha[0]\n",
        "\n",
        "        for epoch in range(self.epoch):\n",
        "\n",
        "            for i in range(self.pop_size):\n",
        "                FP = c_temp * (pop[i][self.ID_FIT] ** alpha)\n",
        "\n",
        "                t1 = None\n",
        "                if uniform() < self.p:\n",
        "                    t1 = pop[i][self.ID_POS] + (uniform()*uniform() * g_best[self.ID_POS] - pop[i][self.ID_POS]) * FP\n",
        "                else:\n",
        "                    epsilon = uniform()\n",
        "                    id1, id2 = np.random.randint(0, self.pop_size, 2)\n",
        "                    dis = (epsilon**2) * pop[id1][self.ID_POS] - pop[id2][self.ID_POS]\n",
        "                    t1 = pop[i][self.ID_POS] + dis * FP\n",
        "                t1 = self._amend_solution_and_return__(t1)\n",
        "                fit = self._fitness_model__(t1)\n",
        "\n",
        "                if fit < pop[i][self.ID_FIT]:\n",
        "                    pop[i] = [deepcopy(t1), fit]\n",
        "\n",
        "                if fit < g_best[self.ID_FIT]:\n",
        "                    g_best = [deepcopy(t1), fit]\n",
        "\n",
        "            c_temp = c_temp * (10.0**(-5)/0.9)**(2.0 / self.epoch)\n",
        "\n",
        "            self.loss_train.append(g_best[self.ID_FIT])\n",
        "            if self.print_train:\n",
        "                print(\"Generation : {0}, best result so far: {1}\".format(epoch+1, g_best[self.ID_FIT]))\n",
        "\n",
        "        return g_best[self.ID_POS], g_best[self.ID_FIT]"
      ],
      "execution_count": null,
      "outputs": []
    },
    {
      "cell_type": "code",
      "metadata": {
        "id": "wQSNdAJTDl2v"
      },
      "source": [
        "import numpy as np\n",
        "from copy import deepcopy\n",
        "\n",
        "class BaseBMO(RootAlgo):\n",
        "  \n",
        "    ID_POS = 0      # position\n",
        "    ID_FIT = 1      # fitness\n",
        "    ID_RAT = 2      # rate\n",
        "    ID_WEI = 3      # weight\n",
        "\n",
        "    def __init__(self, root_algo_paras=None, bmo_paras=None):\n",
        "        RootAlgo.__init__(self, root_algo_paras)\n",
        "        self.epoch = bmo_paras[\"epoch\"]\n",
        "        self.pop_size = bmo_paras[\"pop_size\"]\n",
        "        self.bm_teams = bmo_paras[\"bm_teams\"]       # Number of blue monkey teams (5, 10, 20, ...)\n",
        "        self.bm_size = int(self.pop_size/2)         # Number of all blue monkey\n",
        "        self.bm_numbers = int(self.bm_size / self.bm_teams)     # Number of blue monkey in each team\n",
        "\n",
        "    def _create_solution__(self, minmax=0):\n",
        "        solution = np.random.uniform(self.domain_range[0], self.domain_range[1], self.problem_size)\n",
        "        fitness = self._fitness_model__(solution=solution, minmax=minmax)\n",
        "        rate = np.random.uniform(0, 1)\n",
        "        weight = np.random.uniform(4, 6)\n",
        "        return [solution, fitness, rate, weight]\n",
        "\n",
        "    def _create_population__(self):\n",
        "        t1 = []\n",
        "        for i in range(self.bm_size):\n",
        "            t2 = [self._create_solution__(self.ID_MIN_PROBLEM) for _ in range(self.bm_numbers)]\n",
        "            t1.append(t2)\n",
        "        t2 = [self._create_solution__(self.ID_MIN_PROBLEM) for _ in range(self.bm_size)]\n",
        "        return t1, t2\n",
        "\n",
        "\n",
        "    def _train__(self):\n",
        "        bm_pop, child_pop = self._create_population__()\n",
        "\n",
        "        best = []\n",
        "        for items in bm_pop:\n",
        "            bt = self._get_global_best__(items, self.ID_FIT, self.ID_MIN_PROBLEM)\n",
        "            best.append(deepcopy(bt))\n",
        "        g_best = deepcopy(self._get_global_best__(best, self.ID_FIT, self.ID_MIN_PROBLEM))\n",
        "        child_best = self._get_global_best__(child_pop, self.ID_FIT, self.ID_MIN_PROBLEM)\n",
        "        if g_best[self.ID_FIT] > child_best[self.ID_FIT]:\n",
        "            g_best = deepcopy(child_best)\n",
        "\n",
        "        for epoch in range(self.epoch):\n",
        "\n",
        "            for items in bm_pop:\n",
        "                items = sorted(items, key=lambda temp: temp[self.ID_FIT])\n",
        "                items[-1] = deepcopy(child_best)\n",
        "\n",
        "            for items in bm_pop:\n",
        "                leader = self._get_global_best__(items, self.ID_FIT, self.ID_MIN_PROBLEM)\n",
        "                for i in range(self.bm_numbers):\n",
        "                    rate = 0.7 * items[i][self.ID_RAT] + (leader[self.ID_WEI] - items[i][self.ID_WEI]) * \\\n",
        "                              np.random.uniform() * (leader[self.ID_POS] - items[i][self.ID_POS])\n",
        "                    pos = items[i][self.ID_POS] + np.random.uniform() * rate\n",
        "                    pos = self._amend_solution_and_return__(pos)\n",
        "                    fit = self._fitness_model__(pos)\n",
        "                    if fit < items[i][self.ID_FIT]:\n",
        "                        we = items[i][self.ID_WEI]\n",
        "                        items[i] = [pos, fit, rate, we]\n",
        "\n",
        "            for i in range(self.bm_size):\n",
        "                rate = 0.7 * child_pop[i][self.ID_RAT] + (child_best[self.ID_WEI] - child_pop[i][self.ID_WEI]) * \\\n",
        "                    np.random.uniform() * (child_best[self.ID_POS] - child_pop[i][self.ID_POS])\n",
        "                pos = child_pop[i][self.ID_POS] + np.random.uniform() * rate\n",
        "                pos = self._amend_solution_and_return__(pos)\n",
        "                fit = self._fitness_model__(pos)\n",
        "                if fit < child_pop[i][self.ID_FIT]:\n",
        "                    we = child_pop[i][self.ID_WEI]\n",
        "                    child_pop[i] = [pos, fit, rate, we]\n",
        "\n",
        "            current_child_best = self._get_global_best__(child_pop, self.ID_FIT, self.ID_MIN_PROBLEM)\n",
        "            if current_child_best[self.ID_FIT] < child_best[self.ID_FIT]:\n",
        "                child_best = deepcopy(current_child_best)\n",
        "                if current_child_best[self.ID_FIT] < g_best[self.ID_FIT]:\n",
        "                    g_best = deepcopy(current_child_best)\n",
        "\n",
        "            for i in range(self.bm_teams):\n",
        "                bt = self._get_global_best__(bm_pop[i], self.ID_FIT, self.ID_MIN_PROBLEM)\n",
        "                best[i] = bt\n",
        "            current_g_best = deepcopy(self._get_global_best__(best, self.ID_FIT, self.ID_MIN_PROBLEM))\n",
        "            if current_g_best[self.ID_FIT] < g_best[self.ID_FIT]:\n",
        "                g_best = deepcopy(current_g_best)\n",
        "\n",
        "            self.loss_train.append(g_best[self.ID_FIT])\n",
        "            if self.print_train:\n",
        "                print(\"Epoch = {}, Fit = {}\".format(epoch + 1, g_best[self.ID_FIT]))\n",
        "        return g_best[self.ID_POS], g_best[self.ID_FIT]"
      ],
      "execution_count": null,
      "outputs": []
    },
    {
      "cell_type": "code",
      "metadata": {
        "id": "6qQrhwGCFLeQ"
      },
      "source": [
        "import numpy as np\n",
        "from copy import deepcopy\n",
        "\n",
        "class BaseWOA(RootAlgo):\n",
        "\n",
        "    ID_POS = 0\n",
        "    ID_FIT = 1\n",
        "\n",
        "    def __init__(self, root_algo_paras=None, woa_paras=None):\n",
        "        RootAlgo.__init__(self, root_algo_paras)\n",
        "        self.epoch = woa_paras[\"epoch\"]\n",
        "        self.pop_size = woa_paras[\"pop_size\"]\n",
        "\n",
        "    def _train__(self):\n",
        "        pop = [self._create_solution__() for _ in range(self.pop_size)]\n",
        "        gbest = self._get_global_best__(pop=pop, id_fitness=self.ID_FIT, id_best=self.ID_MIN_PROBLEM)\n",
        "        # Find prey which is the best solution\n",
        "\n",
        "        for i in range(self.epoch):\n",
        "            a = 2 - 2 * i / (self.epoch - 1)            # linearly decreased from 2 to 0\n",
        "\n",
        "            for j in range(self.pop_size):\n",
        "\n",
        "                r = np.random.rand()\n",
        "                A = 2 * a * r - a\n",
        "                C = 2 * r\n",
        "                l = np.random.uniform(-1, 1)\n",
        "                p = 0.5\n",
        "                b = 1\n",
        "                if (np.random.uniform() < p) :\n",
        "                    if np.abs(A) < 1:\n",
        "                        D = np.abs(C * gbest[self.ID_POS] - pop[j][self.ID_POS] )\n",
        "                        new_position = gbest[0] - A * D\n",
        "                    else :\n",
        "                        #x_rand = pop[np.random.randint(self.pop_size)] # chon ra 1 thang random\n",
        "                        x_rand = self._create_solution__()\n",
        "                        D = np.abs(C * x_rand[self.ID_POS] - pop[j][self.ID_POS])\n",
        "                        new_position = (x_rand[self.ID_POS] - A * D)\n",
        "                else:\n",
        "                    D1 = np.abs(gbest[0] - pop[j][0])\n",
        "                    new_position = D1 * np.exp(b * l) * np.cos(2 * np.pi * l) + gbest[self.ID_POS]\n",
        "\n",
        "                new_position[new_position < self.domain_range[0]] = self.domain_range[0]\n",
        "                new_position[new_position > self.domain_range[1]] = self.domain_range[1]\n",
        "                fit = self._fitness_model__(new_position)\n",
        "                pop[j] = [new_position, fit]\n",
        "\n",
        "            current_best = self._get_global_best__(pop=pop, id_fitness=self.ID_FIT, id_best=self.ID_MIN_PROBLEM)\n",
        "            if current_best[self.ID_FIT] < gbest[self.ID_FIT]:\n",
        "                gbest = deepcopy(current_best)\n",
        "            self.loss_train.append(gbest[self.ID_FIT])\n",
        "            if self.print_train:\n",
        "                print(\"Epoch = {}, Best fit so far = {}\".format(i + 1, gbest[self.ID_FIT]))\n",
        "\n",
        "        return gbest[self.ID_POS], gbest[self.ID_FIT]\n",
        "\n",
        "\n",
        "\n",
        "class BaoWOA(RootAlgo):\n",
        "    \"\"\"\n",
        "    Code of Bao\n",
        "    \"\"\"\n",
        "    ID_POS = 0\n",
        "    ID_FIT = 1\n",
        "\n",
        "    def __init__(self, root_algo_paras=None, woa_paras=None):\n",
        "        RootAlgo.__init__(self, root_algo_paras)\n",
        "        self.epoch = woa_paras[\"epoch\"]\n",
        "        self.pop_size = woa_paras[\"pop_size\"]\n",
        "\n",
        "    def _train__(self):\n",
        "        pop = [self._create_solution__() for _ in range(self.pop_size)]\n",
        "        gbest = self._get_global_best__(pop=pop, id_fitness=self.ID_FIT, id_best=self.ID_MIN_PROBLEM)   # Find prey which is the best solution\n",
        "\n",
        "        for i in range(self.epoch):\n",
        "            a = 2 - 2 * i / (self.epoch - 1)            # linearly decreased from 2 to 0\n",
        "\n",
        "            for j in range(self.pop_size):\n",
        "\n",
        "                r = np.random.rand()\n",
        "                A = 2 * a * r - a\n",
        "                C = 2 * r\n",
        "                l = np.random.uniform(-1, 1)\n",
        "                p = np.random.rand()\n",
        "                b = 1\n",
        "\n",
        "                if (p < 0.5) :\n",
        "                    if np.abs(A) < 1:\n",
        "                        D = np.abs(C * gbest[self.ID_POS] - pop[j][self.ID_POS] )\n",
        "                        new_position = gbest[0] - A * D\n",
        "                    else :\n",
        "                        x_rand = pop[np.random.randint(self.pop_size)] # chon ra 1 thang random\n",
        "                        D = np.abs(C * x_rand[self.ID_POS] - pop[j][self.ID_POS])\n",
        "                        new_position = (x_rand[self.ID_POS] - A * D)\n",
        "                else:\n",
        "                    D1 = np.abs(gbest[0] - pop[j][0])\n",
        "                    new_position = D1 * np.exp(b * l) * np.cos(2 * np.pi * l) + gbest[self.ID_POS]\n",
        "                new_position = self._amend_solution_and_return__(new_position)\n",
        "                fit = self._fitness_model__(new_position)\n",
        "                pop[j] = [new_position, fit]\n",
        "\n",
        "            current_best = self._get_global_best__(pop=pop, id_fitness=self.ID_FIT, id_best=self.ID_MIN_PROBLEM)\n",
        "            if current_best[self.ID_FIT] < gbest[self.ID_FIT]:\n",
        "                gbest = deepcopy(current_best)\n",
        "            self.loss_train.append(gbest[self.ID_FIT])\n",
        "            if self.print_train:\n",
        "                print(\"Epoch = {}, Fit = {}\".format(i + 1, gbest[self.ID_FIT]))\n",
        "        #print(gbest[self.ID_POS])\n",
        "        return gbest[self.ID_POS], gbest[self.ID_FIT]"
      ],
      "execution_count": null,
      "outputs": []
    },
    {
      "cell_type": "markdown",
      "metadata": {
        "id": "7wRRxQmAFXn0"
      },
      "source": [
        "# Main Run"
      ]
    },
    {
      "cell_type": "code",
      "metadata": {
        "id": "SDMNR8RF9mPx"
      },
      "source": [
        "fold_count=10 \n",
        "\n",
        "def load_csvdata():\n",
        "    global X\n",
        "    global Y\n",
        "    \n",
        "    X = xdata\n",
        "    Y = ydata\n",
        "\n",
        "def svrPso(params,problem_size = 2):\n",
        "    kf = TimeSeriesSplit(n_splits=fold_count)\n",
        "    for train, test in kf.split(X):\n",
        "        Total = 0\n",
        "         \n",
        "        X_train, X_test, y_train, y_test = X.iloc[train], X.iloc[test], Y.iloc[train], Y.iloc[test]\n",
        "        nn = LSSVR1(kernel = 'rbf',C=params[0], gamma = params[1])\n",
        "        nn.fit(X_train,y_train)\n",
        "        result = nn.predict(X_test);\n",
        "        thisError = calsError(y_test, result)\n",
        "        Total = Total + thisError    \n",
        "    ErrorCV = Total/fold_count; \n",
        "    print('Optimizing the Parameters ..... C = {c}, gamma={e}, MSE={m}'.format(c=params[0], e=params[1], m=ErrorCV))\n",
        "    return ErrorCV\n",
        "\n",
        "def calsError(y_test, result):\n",
        "    y_pred = pd.DataFrame(result)\n",
        "    y_pred.index = y_test.index\n",
        "    data = pd.concat([y_test,y_pred],axis=1)\n",
        "    data['Error'] = (data['Close'] - data[0])**2\n",
        "    err = np.sqrt(np.sum(data['Error']))\n",
        "    \n",
        "    return err\n",
        "    \n",
        "def main_run(algo):\n",
        "    \n",
        "        load_csvdata()\n",
        "        if algo == pso:\n",
        "            #for PSO\n",
        "            lb = [0.01, 0.002]\n",
        "            ub = [150, 500]\n",
        "            loc,fit = algo(svrPso,lb,ub,swarmsize = 20, maxiter = 30)\n",
        "            #print(\" \")\n",
        "            #print(\"************ Objective Function optimized *****************\")\n",
        "            #print(\" \")\n",
        "            #print('ALL Parameters optimized: C = {c}, gamma={e}, Overall MSE={m}'.format(c=loc[0], e=loc[1], m=fit))\n",
        "            #print(\" \")\n",
        "            #print(\" \")\n",
        "        \n",
        "        elif algo == SSA or algo == SSA1:\n",
        "            #For SSA\n",
        "            bounds=[(0.01,150),(0.002,500)] \n",
        "            opt = algo(bounds)\n",
        "            loc,fit = opt.optimize(svrPso,bounds,salp_size = 20,maxiter = 30)\n",
        "\n",
        "        elif algo == HHO:\n",
        "          loc,fit = HHO(svrPso,lb = 0.002,ub = 500,dim=2,SearchAgents_no=20,Max_iter=30)\n",
        "\n",
        "        elif algo == BaseHHO:\n",
        "          root_paras = {\n",
        "              \"problem_size\": 2,\n",
        "              \"domain_range\": [0.002, 500],\n",
        "              \"print_train\": False,\n",
        "              \"objective_func\": svrPso\n",
        "          }\n",
        "\n",
        "          hho_paras = {\n",
        "              \"epoch\": 30,\n",
        "              \"pop_size\": 20\n",
        "          }\n",
        "\n",
        "          ## Run model\n",
        "          md = BaseHHO(root_algo_paras=root_paras, hho_paras=hho_paras)\n",
        "          loc,fit = md._train__()\n",
        "\n",
        "        elif algo == BaseDE:\n",
        "          root_paras = {\n",
        "              \"problem_size\": 2,\n",
        "              \"domain_range\": [0.002, 500],\n",
        "              \"print_train\": False,\n",
        "              \"objective_func\": svrPso\n",
        "          }\n",
        "\n",
        "          de_paras = {\n",
        "              \"epoch\": 30,\n",
        "              \"pop_size\": 20,\n",
        "              \"Wf\": 0.8,\n",
        "              \"Cr\": 0.9\n",
        "          }\n",
        "\n",
        "          ## Run model\n",
        "          md = BaseDE(root_algo_paras=root_paras, de_paras=de_paras)\n",
        "          loc,fit = md._train__()\n",
        "\n",
        "        elif algo == BaseGA:\n",
        "\n",
        "          root_paras = {\n",
        "              \"problem_size\": 2,\n",
        "              \"domain_range\": [0.002, 500],\n",
        "              \"print_train\": False,\n",
        "              \"objective_func\": svrPso\n",
        "          }\n",
        "\n",
        "          ga_paras = {\n",
        "              \"epoch\": 30,\n",
        "              \"pop_size\": 20,\n",
        "              \"pc\": 0.95,\n",
        "              \"pm\": 0.025\n",
        "          }\n",
        "\n",
        "          ## Run model\n",
        "          md = BaseGA(root_algo_paras=root_paras, ga_paras=ga_paras)\n",
        "          loc,fit = md._train__()\n",
        "\n",
        "        elif algo == BaseABC:\n",
        "\n",
        "          root_paras = {\n",
        "              \"problem_size\": 2,\n",
        "              \"domain_range\": [0.002, 500],\n",
        "              \"print_train\": False,\n",
        "              \"objective_func\": svrPso\n",
        "          }\n",
        "\n",
        "          abc_paras = {\n",
        "              \"epoch\": 30,\n",
        "              \"pop_size\": 20,\n",
        "              \"couple_bees\": [16, 4],               # number of bees which provided for good location and other location\n",
        "              \"patch_variables\": [5.0, 0.985],        # patch_variables = patch_variables * patch_factor (0.985)\n",
        "              \"sites\": [3, 1],                        # 3 bees (employed bees, onlookers and scouts), 1 good partition\n",
        "          }\n",
        "\n",
        "          ## Run model\n",
        "          md = BaseABC(root_algo_paras=root_paras, abc_paras=abc_paras)\n",
        "          loc,fit = md._train__()\n",
        "\n",
        "        elif algo == OriginalBOA or algo == BaseBOA or algo == AdaptiveBOA:\n",
        "          \n",
        "          root_paras = {\n",
        "              \"problem_size\": 2,\n",
        "              \"domain_range\": [0.002, 500],\n",
        "              \"print_train\": False,\n",
        "              \"objective_func\": svrPso\n",
        "          }\n",
        "\n",
        "          boa_paras = {\n",
        "              \"epoch\": 30,\n",
        "              \"pop_size\": 20,\n",
        "              \"c\": 0.01,\n",
        "              \"p\": 0.8,\n",
        "              \"alpha\": [0.1, 0.3]\n",
        "          }\n",
        "\n",
        "          ## Run model\n",
        "          md = algo(root_algo_paras=root_paras, boa_paras=boa_paras)\n",
        "          loc,fit = md._train__()\n",
        "\n",
        "        elif algo == BaseBMO:\n",
        "\n",
        "          root_paras = {\n",
        "              \"problem_size\": 2,\n",
        "              \"domain_range\": [0.002, 500],\n",
        "              \"print_train\": False,\n",
        "              \"objective_func\": svrPso\n",
        "          }\n",
        "\n",
        "          bmo_paras = {\n",
        "              \"epoch\": 30,\n",
        "              \"pop_size\": 20,\n",
        "              \"bm_teams\": 10\n",
        "          }\n",
        "\n",
        "          ## Run model\n",
        "          md = BaseBMO(root_algo_paras=root_paras, bmo_paras=bmo_paras)\n",
        "          loc,fit = md._train__()\n",
        "\n",
        "        elif algo == BaseWOA or algo == BaoWOA:\n",
        "\n",
        "          root_paras = {\n",
        "              \"problem_size\": 2,\n",
        "              \"domain_range\": [0.002, 500],\n",
        "              \"print_train\": False,\n",
        "              \"objective_func\": svrPso\n",
        "          }\n",
        "\n",
        "          woa_paras = {\n",
        "              \"epoch\": 30,\n",
        "              \"pop_size\": 20,\n",
        "          }\n",
        "\n",
        "          ## Run model\n",
        "          md = algo(root_algo_paras=root_paras, woa_paras=woa_paras)\n",
        "          loc,fit = md._train__()      \n",
        "        \n",
        "        print(\" \")\n",
        "        print(\"************ Objective Function optimized *****************\")\n",
        "        print ('Best Location - ',loc)\n",
        "        print ('Best Fitness - ',fit)\n",
        "        print(\" \")\n",
        "        print(\" \")\n",
        "\n",
        "        return loc,fit\n"
      ],
      "execution_count": null,
      "outputs": []
    },
    {
      "cell_type": "markdown",
      "metadata": {
        "id": "I-dtVqRZvP2H"
      },
      "source": [
        "# Results"
      ]
    },
    {
      "cell_type": "code",
      "metadata": {
        "id": "lMrL_HDx8c1n"
      },
      "source": [
        "algo = SSA1\n",
        "print(\"************  Initializing Optimization *****************\")\n",
        "tic = time.time()\n",
        "loc,fit = main_run(algo)\n",
        "toc = time.time()\n",
        "print('Time Taken is {time} secs'.format(time = (toc - tic)))\n",
        "print (f'Optimizer used is - {algo.__name__} with 30 epochs of 20 particles for {com} from Date - {start}.')"
      ],
      "execution_count": null,
      "outputs": []
    },
    {
      "cell_type": "code",
      "metadata": {
        "id": "tRnuYa24B9mH"
      },
      "source": [
        "loc[0]"
      ],
      "execution_count": null,
      "outputs": []
    },
    {
      "cell_type": "code",
      "metadata": {
        "id": "ZuI3IY-UDyK7"
      },
      "source": [
        "loc[1]"
      ],
      "execution_count": null,
      "outputs": []
    },
    {
      "cell_type": "code",
      "metadata": {
        "id": "k9CnjNjRB-tk"
      },
      "source": [
        "fit"
      ],
      "execution_count": null,
      "outputs": []
    },
    {
      "cell_type": "code",
      "metadata": {
        "id": "iMjhiAGFR7E2"
      },
      "source": [
        "svrPso([29.5265497183353,0.002])"
      ],
      "execution_count": null,
      "outputs": []
    },
    {
      "cell_type": "code",
      "metadata": {
        "id": "KImmUxa-9mQG"
      },
      "source": [
        "model = Sequential()\n",
        "model.add(Dense(10, input_dim=10, kernel_initializer='normal', activation='relu'))\n",
        "model.add(Dense(1, kernel_initializer='normal'))\n",
        "# Compile model\n",
        "model.compile(loss='mean_squared_error', optimizer='adam')"
      ],
      "execution_count": null,
      "outputs": []
    },
    {
      "cell_type": "code",
      "metadata": {
        "id": "seeCfeXi9mQZ"
      },
      "source": [
        "model.fit(x_trains, y_trains, batch_size = 10, nb_epoch = 100)"
      ],
      "execution_count": null,
      "outputs": []
    },
    {
      "cell_type": "code",
      "metadata": {
        "id": "zOuHKtTh3V0z"
      },
      "source": [
        "model = LSSVR1(kernel='rbf',C = c_list_2[0],gamma = g_list_2[0])\n",
        "model.fit(x_trains,y_trains)\n",
        "\n",
        "res = model.predict(xdata)\n",
        "res = pd.DataFrame(res)\n",
        "res.index = ydata.index\n",
        "res.rename({0:'Close'},axis =1,inplace=True)\n",
        "res.reset_index(inplace=True)"
      ],
      "execution_count": null,
      "outputs": []
    },
    {
      "cell_type": "code",
      "metadata": {
        "id": "GkxqxWaf0M9S"
      },
      "source": [
        "model = LSSVR1(kernel='rbf',C = c_list[0],gamma = g_list[0])\n",
        "model.fit(x_trains,y_trains)\n",
        "\n",
        "res = model.predict(xdata)\n",
        "res = pd.DataFrame(res)\n",
        "res.index = ydata.index\n",
        "res.rename({0:'Close'},axis =1,inplace=True)\n",
        "res.reset_index(inplace=True)"
      ],
      "execution_count": null,
      "outputs": []
    },
    {
      "cell_type": "code",
      "metadata": {
        "id": "kVnFr3BH0dFF",
        "colab": {
          "base_uri": "https://localhost:8080/",
          "height": 34
        },
        "outputId": "8f8cdffe-d47d-482b-8e27-fa7a079b55d9"
      },
      "source": [
        "from google.colab import drive\n",
        "drive.mount('/content/drive')"
      ],
      "execution_count": null,
      "outputs": [
        {
          "output_type": "stream",
          "text": [
            "Mounted at /content/drive\n"
          ],
          "name": "stdout"
        }
      ]
    },
    {
      "cell_type": "code",
      "metadata": {
        "id": "tFfJE6Hj0M2q"
      },
      "source": [
        "model = LSSVR1(kernel='rbf',C = c_list[0],gamma = g_list[0])\n",
        "model.fit(x_trains,y_trains)\n",
        "\n",
        "res = model.predict(xdata)\n",
        "res = pd.DataFrame(res)\n",
        "res.index = ydata.index\n",
        "res.rename({0:'Close'},axis =1,inplace=True)\n",
        "res.reset_index(inplace=True)"
      ],
      "execution_count": null,
      "outputs": []
    },
    {
      "cell_type": "code",
      "metadata": {
        "id": "vYzIOmsV0MzB"
      },
      "source": [
        ""
      ],
      "execution_count": null,
      "outputs": []
    },
    {
      "cell_type": "code",
      "metadata": {
        "id": "H47mW8Gc0Muu"
      },
      "source": [
        ""
      ],
      "execution_count": null,
      "outputs": []
    },
    {
      "cell_type": "code",
      "metadata": {
        "id": "fNhA1z8c9mQw",
        "colab": {
          "base_uri": "https://localhost:8080/",
          "height": 34
        },
        "outputId": "da464d27-5744-4e09-e7b1-9f1ab00e4242"
      },
      "source": [
        "model = LSSVR1(kernel='rbf',C = 196.6454442,gamma = 0.005750625)\n",
        "model.fit(x_trains,y_trains)"
      ],
      "execution_count": null,
      "outputs": [
        {
          "output_type": "execute_result",
          "data": {
            "text/plain": [
              "LSSVR1(C=196.6454442, gamma=0.005750625, kernel='rbf')"
            ]
          },
          "metadata": {
            "tags": []
          },
          "execution_count": 133
        }
      ]
    },
    {
      "cell_type": "code",
      "metadata": {
        "id": "Hczbrt9t9mQ1"
      },
      "source": [
        "res = model.predict(xdata)\n",
        "res = pd.DataFrame(res)\n",
        "res.index = ydata.index\n",
        "res.rename({0:'Close'},axis =1,inplace=True)\n",
        "res.reset_index(inplace=True)"
      ],
      "execution_count": null,
      "outputs": []
    },
    {
      "cell_type": "code",
      "metadata": {
        "id": "0X9QekzIQWqj"
      },
      "source": [
        "y_tests1 = pd.DataFrame(yscaler.inverse_transform(y_tests)).shift(7)\n",
        "y_tests1.rename({0:'Close'},axis =1,inplace=True)\n",
        "y_tests1.index = y_tests.index\n",
        "actual = y_tests1.reset_index()"
      ],
      "execution_count": null,
      "outputs": []
    },
    {
      "cell_type": "code",
      "metadata": {
        "id": "crtmVaapxNTx"
      },
      "source": [
        "actual = ydata.reset_index()\n",
        "test_date = y_tests.index[0]"
      ],
      "execution_count": null,
      "outputs": []
    },
    {
      "cell_type": "code",
      "metadata": {
        "id": "-YeNWVZg9mQ-"
      },
      "source": [
        "from bokeh.palettes import Spectral4\n",
        "from bokeh.plotting import figure, output_notebook, show\n",
        "from bokeh.models import Span\n",
        "from bokeh.transform import factor_cmap, factor_mark"
      ],
      "execution_count": null,
      "outputs": []
    },
    {
      "cell_type": "code",
      "metadata": {
        "id": "aqxf3-bd9mRB"
      },
      "source": [
        "output_notebook()\n",
        "p = figure(plot_width=900, plot_height=500, x_axis_type=\"datetime\")\n",
        "p.title.text = f'Optimizer used is - {algo.__name__} with 30 epochs of 20 particles for {com} from Date - {start}.'\n",
        "\n",
        "for data, name, color in zip([actual, res,res1], [\"Actual\", \"ANN\",\"SVR\"], Spectral4):\n",
        "    df = data\n",
        "    p.line(df['Date'], df['Close'], color=color, legend_label =name)\n",
        "\n",
        "p.legend.location = \"top_left\"\n",
        "p.legend.click_policy=\"hide\"\n",
        "lineadd = Span(location = test_date,dimension='height', line_color='green',line_dash='dashed', line_width=1,line_alpha = 0.4)\n",
        "p.add_layout(lineadd)\n",
        "show(p)"
      ],
      "execution_count": null,
      "outputs": []
    },
    {
      "cell_type": "code",
      "metadata": {
        "id": "X-kNtWs7lsCd"
      },
      "source": [
        "com_1 = 'EXXON MOBIL'\n",
        "c_list_1 = [110.6717714,398.288,300.8831625,1.45E+01,9.012552604,13.91602219]\n",
        "g_list_1 = [0.521592634,56.9213,9.01845426,2.00E-03,0.002375401,0.003607048]"
      ],
      "execution_count": null,
      "outputs": []
    },
    {
      "cell_type": "code",
      "metadata": {
        "id": "jbQQ7LnktiD1"
      },
      "source": [
        "com_2 = 'TESLA'\n",
        "c_list_2 = [36.18648442,176.7178748,344.9418746,1.43E+01,145.296697,14.01890585]\n",
        "g_list_2  = [1.98790775,47.50464073,4.7052086,2.00E-03,0.002,0.002]"
      ],
      "execution_count": null,
      "outputs": []
    },
    {
      "cell_type": "code",
      "metadata": {
        "id": "7355R9VRvZuq"
      },
      "source": [
        "com_3 = 'APPLE'\n",
        "c_list_3 = [58.73824605,476.0035484,176.9663235,7.85E+01,149.9950079,88.1403174]\n",
        "g_list_3 = [0.12290502,5.65942157,5.24104658,2.00E-03,0.002,0.002]"
      ],
      "execution_count": null,
      "outputs": []
    },
    {
      "cell_type": "code",
      "metadata": {
        "id": "S8IizQB7v5Yq"
      },
      "source": [
        "com_4 = 'ADOBE'\n",
        "c_list_4 = [153.6670409,180.9590064,298.787997,101.5417704,108.7473432,146.2492847]\n",
        "g_list_4 = [1.015404229,23.49988448,10.35346107,0.002,0.014673712,0.01220564]"
      ],
      "execution_count": null,
      "outputs": []
    },
    {
      "cell_type": "code",
      "metadata": {
        "id": "xvsPHxYoysWo"
      },
      "source": [
        "opt = ['Actual','ABC','BOA','GA','PSO','SSO','SSO-A'+'\\u03B2'+'HC']\n",
        "num = [1,2,3,4,5,6]"
      ],
      "execution_count": null,
      "outputs": []
    },
    {
      "cell_type": "code",
      "metadata": {
        "id": "FEKfyeD03xUB"
      },
      "source": [
        "actual = ydata.reset_index()\n",
        "test_date = y_tests.index[0]\n",
        "results = [actual,res,res1,res2,res3,res4,res5]"
      ],
      "execution_count": null,
      "outputs": []
    },
    {
      "cell_type": "code",
      "metadata": {
        "id": "CllsjBpZ3xQy"
      },
      "source": [
        "output_notebook()\n",
        "p = figure(plot_width=900, plot_height=500, x_axis_type=\"datetime\")\n",
        "p.title.text = f'Optimizer used with 30 epochs of 20 particles for {com} from Date - {start}.'\n",
        "\n",
        "for data, name, color in zip(ress, opt, Spectral4):\n",
        "    df = data\n",
        "    p.line(df['Date'], df['Close'], color=color, legend_label =name)\n",
        "\n",
        "p.legend.location = \"top_left\"\n",
        "p.legend.dataspecs\n",
        "p.legend.click_policy=\"hide\"\n",
        "lineadd = Span(location = test_date,dimension='height', line_color='green',line_dash='dashed', line_width=1,line_alpha = 0.4)\n",
        "p.add_layout(lineadd)\n",
        "show(p)"
      ],
      "execution_count": null,
      "outputs": []
    },
    {
      "cell_type": "code",
      "metadata": {
        "id": "fBp4F4XS-F0H"
      },
      "source": [
        "def plot(c_list,g_list,com,res,opt,x,y):\n",
        "\n",
        "  for c,g,i in zip(c_list,g_list,num):\n",
        "    model = LSSVR1(kernel='rbf',C = c,gamma = g)\n",
        "    model.fit(x_trains,y_trains)\n",
        "\n",
        "    res[i] = model.predict(x)\n",
        "    res[i] = pd.DataFrame(res[i])\n",
        "    res[i].index = y.index\n",
        "    res[i].rename({0:'Close'},axis =1,inplace=True)\n",
        "    res[i].reset_index(inplace=True)\n",
        "\n",
        "  res[0] = y.reset_index()\n",
        "\n",
        "  fig,ax = plt.subplots(figsize = (15,10))\n",
        "  for ress,optz in zip(res,opt):\n",
        "    ax.plot(ress['Date'],ress['Close'],label = optz)\n",
        "    ax.legend()\n",
        "  plt.rc('xtick',labelsize = 20)\n",
        "  plt.rc('ytick',labelsize = 26)\n",
        "  plt.legend(loc = 'upper left',fontsize = 20)\n",
        "  #fig.suptitle(com)\n",
        "  #fig.tight_layout()\n",
        "\n",
        "  print (com)\n",
        "  return fig,res,com\n",
        "\n",
        "  #print (ax.get_ylim())"
      ],
      "execution_count": null,
      "outputs": []
    },
    {
      "cell_type": "code",
      "metadata": {
        "id": "IeIJ2KAdD3fo",
        "colab": {
          "base_uri": "https://localhost:8080/",
          "height": 618
        },
        "outputId": "1a7849fe-8364-49ec-f26c-0ef2a7c089d3"
      },
      "source": [
        "figs,csave,comp = plot(c_list_1,g_list_1,com_1,results,opt,x_tests,y_tests)"
      ],
      "execution_count": null,
      "outputs": [
        {
          "output_type": "stream",
          "text": [
            "EXXON MOBIL\n"
          ],
          "name": "stdout"
        },
        {
          "output_type": "display_data",
          "data": {
            "image/png": "[encoded data removed]",
            "text/plain": [
              "<Figure size 1080x720 with 1 Axes>"
            ]
          },
          "metadata": {
            "tags": [],
            "needs_background": "light"
          }
        }
      ]
    },
    {
      "cell_type": "code",
      "metadata": {
        "id": "7ZLFYzo85LOA",
        "colab": {
          "base_uri": "https://localhost:8080/",
          "height": 51
        },
        "outputId": "54714a2f-741d-4fbd-c2a9-57e996df3625"
      },
      "source": [
        "figs.savefig(comp +'_test_1.eps',format='eps')"
      ],
      "execution_count": null,
      "outputs": [
        {
          "output_type": "stream",
          "text": [
            "The PostScript backend does not support transparency; partially transparent artists will be rendered opaque.\n",
            "The PostScript backend does not support transparency; partially transparent artists will be rendered opaque.\n"
          ],
          "name": "stderr"
        }
      ]
    },
    {
      "cell_type": "code",
      "metadata": {
        "id": "Mic05BnUa3Xa"
      },
      "source": [
        "csave[0].to_excel(writer, sheet_name=comp +'_test_act')"
      ],
      "execution_count": null,
      "outputs": []
    },
    {
      "cell_type": "code",
      "metadata": {
        "id": "gj6eb3ea1k62"
      },
      "source": [
        "csave[1].to_excel(writer, sheet_name=comp +'_test_abc')"
      ],
      "execution_count": null,
      "outputs": []
    },
    {
      "cell_type": "code",
      "metadata": {
        "id": "wbag_hPs28VO"
      },
      "source": [
        "csave[2].to_excel(writer, sheet_name=comp +'_test_boa')"
      ],
      "execution_count": null,
      "outputs": []
    },
    {
      "cell_type": "code",
      "metadata": {
        "id": "Bq5n3hyM28LE"
      },
      "source": [
        "csave[3].to_excel(writer, sheet_name=comp +'_test_ga')"
      ],
      "execution_count": null,
      "outputs": []
    },
    {
      "cell_type": "code",
      "metadata": {
        "id": "tZaIl5S_1lbu"
      },
      "source": [
        "csave[4].to_excel(writer, sheet_name=comp +'_test_pso')"
      ],
      "execution_count": null,
      "outputs": []
    },
    {
      "cell_type": "code",
      "metadata": {
        "id": "MULilI8h1lRn"
      },
      "source": [
        "csave[5].to_excel(writer, sheet_name=comp +'_test_ssa')"
      ],
      "execution_count": null,
      "outputs": []
    },
    {
      "cell_type": "code",
      "metadata": {
        "id": "lq4RY8Dt3cve"
      },
      "source": [
        "csave[6].to_excel(writer, sheet_name=comp +'_test_ssa-abhc')"
      ],
      "execution_count": null,
      "outputs": []
    },
    {
      "cell_type": "code",
      "metadata": {
        "id": "COKTCt5Wmhrv"
      },
      "source": [
        ""
      ],
      "execution_count": null,
      "outputs": []
    },
    {
      "cell_type": "code",
      "metadata": {
        "id": "gPA4GChbmhv1"
      },
      "source": [
        ""
      ],
      "execution_count": null,
      "outputs": []
    },
    {
      "cell_type": "code",
      "metadata": {
        "id": "WpW156oP7Gc0"
      },
      "source": [
        "writer = pd.ExcelWriter(comp +'_whole_result_metadata.xlsx', engine='xlsxwriter')"
      ],
      "execution_count": null,
      "outputs": []
    },
    {
      "cell_type": "code",
      "metadata": {
        "id": "KH8GsftK4Qbt"
      },
      "source": [
        "writer.save()"
      ],
      "execution_count": null,
      "outputs": []
    },
    {
      "cell_type": "code",
      "metadata": {
        "id": "Qy_z3QOK7fcc"
      },
      "source": [
        ""
      ],
      "execution_count": null,
      "outputs": []
    },
    {
      "cell_type": "code",
      "metadata": {
        "id": "lmcjAutO1kvE"
      },
      "source": [
        "writer = pd.ExcelWriter(comp +'_result_metadata.xlsx', engine='xlsxwriter')"
      ],
      "execution_count": null,
      "outputs": []
    },
    {
      "cell_type": "code",
      "metadata": {
        "id": "nIsFOM6L3KXq",
        "colab": {
          "base_uri": "https://localhost:8080/",
          "height": 122
        },
        "outputId": "b750876a-343d-475e-b19c-9dcaab398ca0"
      },
      "source": [
        "!pip install xlsxwriter"
      ],
      "execution_count": null,
      "outputs": [
        {
          "output_type": "stream",
          "text": [
            "Collecting xlsxwriter\n",
            "\u001b[?25l  Downloading https://files.pythonhosted.org/packages/2b/98/17875723b6814fc4d0fc03f0997ee00de2dbd78cf195e2ec3f2c9c789d40/XlsxWriter-1.3.3-py2.py3-none-any.whl (144kB)\n",
            "\r\u001b[K     |██▎                             | 10kB 17.7MB/s eta 0:00:01\r\u001b[K     |████▌                           | 20kB 3.1MB/s eta 0:00:01\r\u001b[K     |██████▉                         | 30kB 4.0MB/s eta 0:00:01\r\u001b[K     |█████████                       | 40kB 4.3MB/s eta 0:00:01\r\u001b[K     |███████████▍                    | 51kB 3.5MB/s eta 0:00:01\r\u001b[K     |█████████████▋                  | 61kB 3.9MB/s eta 0:00:01\r\u001b[K     |████████████████                | 71kB 4.1MB/s eta 0:00:01\r\u001b[K     |██████████████████▏             | 81kB 4.5MB/s eta 0:00:01\r\u001b[K     |████████████████████▌           | 92kB 4.9MB/s eta 0:00:01\r\u001b[K     |██████████████████████▊         | 102kB 4.8MB/s eta 0:00:01\r\u001b[K     |█████████████████████████       | 112kB 4.8MB/s eta 0:00:01\r\u001b[K     |███████████████████████████▎    | 122kB 4.8MB/s eta 0:00:01\r\u001b[K     |█████████████████████████████▋  | 133kB 4.8MB/s eta 0:00:01\r\u001b[K     |███████████████████████████████▉| 143kB 4.8MB/s eta 0:00:01\r\u001b[K     |████████████████████████████████| 153kB 4.8MB/s \n",
            "\u001b[?25hInstalling collected packages: xlsxwriter\n",
            "Successfully installed xlsxwriter-1.3.3\n"
          ],
          "name": "stdout"
        }
      ]
    },
    {
      "cell_type": "code",
      "metadata": {
        "id": "K0kiI703EL8w"
      },
      "source": [
        "figs.savefig('tesla_whole_1.eps',format='eps', dpi=1200)"
      ],
      "execution_count": null,
      "outputs": []
    },
    {
      "cell_type": "code",
      "metadata": {
        "id": "mPScaDUHsm_I"
      },
      "source": [
        "from google.colab import drive\n",
        "drive.mount('/content/gdrive')"
      ],
      "execution_count": null,
      "outputs": []
    },
    {
      "cell_type": "code",
      "metadata": {
        "id": "kkFtouStt4hw"
      },
      "source": [
        "from sklearn.metrics import r2_score\n",
        "from sklearn.metrics import mean_absolute_error\n",
        "import collections"
      ],
      "execution_count": null,
      "outputs": []
    },
    {
      "cell_type": "code",
      "metadata": {
        "id": "-7L6b9vNMeKe"
      },
      "source": [
        "def cal_mape(actual, pred): \n",
        "    actual, pred = np.array(actual), np.array(pred)\n",
        "    return np.mean(np.abs((actual - pred) / actual)) * 100"
      ],
      "execution_count": null,
      "outputs": []
    },
    {
      "cell_type": "code",
      "metadata": {
        "id": "7kyzL0y3Slov"
      },
      "source": [
        "com_1 = 'EXXON MOBIL'\n",
        "com_2 = 'TESLA'\n",
        "com_3 = 'APPLE'\n",
        "com_4 = 'ADOBE'"
      ],
      "execution_count": null,
      "outputs": []
    },
    {
      "cell_type": "code",
      "metadata": {
        "id": "2uZ0ezAcr9nq"
      },
      "source": [
        "r2 = collections.defaultdict(list)\n",
        "mape = collections.defaultdict(list)\n",
        "mae = collections.defaultdict(list)\n",
        "opts_name = ['act','abc','boa','ga','pso','ssa','ssa-abhc']"
      ],
      "execution_count": null,
      "outputs": []
    },
    {
      "cell_type": "code",
      "metadata": {
        "id": "KPl5mosDqGRg"
      },
      "source": [
        "xls = pd.ExcelFile('result_metadata.xlsx')"
      ],
      "execution_count": null,
      "outputs": []
    },
    {
      "cell_type": "code",
      "metadata": {
        "id": "0ZBKA5Xjs5wH"
      },
      "source": [
        "comp = com_4"
      ],
      "execution_count": null,
      "outputs": []
    },
    {
      "cell_type": "code",
      "metadata": {
        "id": "a6cjHHT2quhu"
      },
      "source": [
        "act = pd.read_excel(xls,comp +'_test_act')"
      ],
      "execution_count": null,
      "outputs": []
    },
    {
      "cell_type": "code",
      "metadata": {
        "id": "9mMFZkXptF7N"
      },
      "source": [
        "abc = pd.read_excel(xls,comp +'_test_abc')"
      ],
      "execution_count": null,
      "outputs": []
    },
    {
      "cell_type": "code",
      "metadata": {
        "id": "_NaVTnTstF-5"
      },
      "source": [
        "boa = pd.read_excel(xls,comp +'_test_boa')"
      ],
      "execution_count": null,
      "outputs": []
    },
    {
      "cell_type": "code",
      "metadata": {
        "id": "lRVMD0yhtGIV"
      },
      "source": [
        "ga = pd.read_excel(xls,comp +'_test_ga')"
      ],
      "execution_count": null,
      "outputs": []
    },
    {
      "cell_type": "code",
      "metadata": {
        "id": "p4cevlZftGGA"
      },
      "source": [
        "pso = pd.read_excel(xls,comp +'_test_pso')"
      ],
      "execution_count": null,
      "outputs": []
    },
    {
      "cell_type": "code",
      "metadata": {
        "id": "drgT5nTTtFzT"
      },
      "source": [
        "ssa = pd.read_excel(xls,comp +'_test_ssa')"
      ],
      "execution_count": null,
      "outputs": []
    },
    {
      "cell_type": "code",
      "metadata": {
        "id": "JEdCdX-ftda_"
      },
      "source": [
        "ssa_abhc = pd.read_excel(xls,comp +'_test_ssa-abhc')"
      ],
      "execution_count": null,
      "outputs": []
    },
    {
      "cell_type": "code",
      "metadata": {
        "id": "TonnjUThTQBc"
      },
      "source": [
        "opts_file = [act,abc,boa,ga,pso,ssa,ssa_abhc]"
      ],
      "execution_count": null,
      "outputs": []
    },
    {
      "cell_type": "code",
      "metadata": {
        "id": "eaTZBlKJu9uW"
      },
      "source": [
        "for i,opz in enumerate(opts_name):\n",
        "  \n",
        "  r2[opz].append(r2_score(opts_file[0]['Close'],opts_file[i]['Close']))\n",
        "  mape[opz].append(cal_mape(opts_file[0]['Close'],opts_file[i]['Close']))\n",
        "  mae[opz].append(mean_absolute_error(opts_file[0]['Close'],opts_file[i]['Close']))"
      ],
      "execution_count": null,
      "outputs": []
    },
    {
      "cell_type": "code",
      "metadata": {
        "id": "GUeZ5MuOvhoX",
        "colab": {
          "base_uri": "https://localhost:8080/",
          "height": 459
        },
        "outputId": "d837074a-75b4-45cf-f088-2a478c64eb80"
      },
      "source": [
        "r2"
      ],
      "execution_count": null,
      "outputs": [
        {
          "output_type": "execute_result",
          "data": {
            "text/plain": [
              "defaultdict(list,\n",
              "            {'abc': [-4.097749863371965,\n",
              "              -4.487200988051602,\n",
              "              -2.8530168232332804,\n",
              "              -4.35973522547145],\n",
              "             'act': [1.0, 1.0, 1.0, 1.0],\n",
              "             'boa': [-4.636984471280107,\n",
              "              -4.632511222802299,\n",
              "              -4.504371531971643,\n",
              "              -4.600768008834022],\n",
              "             'ga': [-4.527121427344513,\n",
              "              -4.501545560998191,\n",
              "              -4.5025880216071235,\n",
              "              -4.53739378498074],\n",
              "             'pso': [0.7208030112232474,\n",
              "              0.7209562066193014,\n",
              "              0.6599427209569324,\n",
              "              0.6128958186420794],\n",
              "             'ssa': [0.6871013685054729,\n",
              "              0.5375313021601715,\n",
              "              0.5315934854070685,\n",
              "              -0.0501490846449264],\n",
              "             'ssa-abhc': [0.5583907405905844,\n",
              "              0.7208024396668385,\n",
              "              0.6496705241535374,\n",
              "              -0.1344525394234084]})"
            ]
          },
          "metadata": {
            "tags": []
          },
          "execution_count": 156
        }
      ]
    },
    {
      "cell_type": "code",
      "metadata": {
        "id": "-tJLCCUcwMfT",
        "colab": {
          "base_uri": "https://localhost:8080/",
          "height": 459
        },
        "outputId": "52a316ab-c489-4db5-e8c6-20e7b5992609"
      },
      "source": [
        "mape"
      ],
      "execution_count": null,
      "outputs": [
        {
          "output_type": "execute_result",
          "data": {
            "text/plain": [
              "defaultdict(list,\n",
              "            {'abc': [101.77799239936449,\n",
              "              116.08384153635079,\n",
              "              72.78264961813512,\n",
              "              109.97137702247686],\n",
              "             'act': [0.0, 0.0, 0.0, 0.0],\n",
              "             'boa': [144.02051472263068,\n",
              "              143.86391493692233,\n",
              "              129.89066720793653,\n",
              "              142.37292835879515],\n",
              "             'ga': [135.85447495815126,\n",
              "              127.18430496544654,\n",
              "              128.79723234366742,\n",
              "              137.25793704231174],\n",
              "             'pso': [21.745114147624545,\n",
              "              21.746668898693493,\n",
              "              23.10448366234668,\n",
              "              24.305156854431857],\n",
              "             'ssa': [22.65675749131008,\n",
              "              26.246984671109434,\n",
              "              26.402399082392662,\n",
              "              34.900077679029714],\n",
              "             'ssa-abhc': [24.864359607992366,\n",
              "              21.76128194408887,\n",
              "              23.37444559529115,\n",
              "              36.944323930882454]})"
            ]
          },
          "metadata": {
            "tags": []
          },
          "execution_count": 157
        }
      ]
    },
    {
      "cell_type": "code",
      "metadata": {
        "id": "MAjrLnd7MvhJ",
        "colab": {
          "base_uri": "https://localhost:8080/",
          "height": 459
        },
        "outputId": "1a87dd94-1a44-4514-deae-92332fca9e4a"
      },
      "source": [
        "mae"
      ],
      "execution_count": null,
      "outputs": [
        {
          "output_type": "execute_result",
          "data": {
            "text/plain": [
              "defaultdict(list,\n",
              "            {'abc': [1.656660124289764,\n",
              "              1.7880092004629489,\n",
              "              1.3061187556198248,\n",
              "              1.7398126677651626],\n",
              "             'act': [0.0, 0.0, 0.0, 0.0],\n",
              "             'boa': [1.905193529857447,\n",
              "              1.9041070652513987,\n",
              "              1.8423671167227234,\n",
              "              1.895303906161753],\n",
              "             'ga': [1.8650056340202954,\n",
              "              1.8327587462741948,\n",
              "              1.8384367717501193,\n",
              "              1.8708708292386769],\n",
              "             'pso': [0.3403164064455122,\n",
              "              0.34027512369718316,\n",
              "              0.37267740676978,\n",
              "              0.3975113792744939],\n",
              "             'ssa': [0.3592391881145512,\n",
              "              0.43554965024690384,\n",
              "              0.438479880661519,\n",
              "              0.6231654635118141],\n",
              "             'ssa-abhc': [0.4151989756088855,\n",
              "              0.3404640242384196,\n",
              "              0.37822103645454175,\n",
              "              0.6583693485335916]})"
            ]
          },
          "metadata": {
            "tags": []
          },
          "execution_count": 158
        }
      ]
    },
    {
      "cell_type": "code",
      "metadata": {
        "id": "-itCoa84RZPz"
      },
      "source": [
        "r2 = pd.DataFrame(r2,index = [com_1,com_2,com_3,com_4])"
      ],
      "execution_count": null,
      "outputs": []
    },
    {
      "cell_type": "code",
      "metadata": {
        "id": "nkP_o-usTzTr"
      },
      "source": [
        "mape = pd.DataFrame(mape,index = [com_1,com_2,com_3,com_4])"
      ],
      "execution_count": null,
      "outputs": []
    },
    {
      "cell_type": "code",
      "metadata": {
        "id": "LO25_6_eUQ2U"
      },
      "source": [
        "mae = pd.DataFrame(mae,index = [com_1,com_2,com_3,com_4])"
      ],
      "execution_count": null,
      "outputs": []
    },
    {
      "cell_type": "code",
      "metadata": {
        "id": "2tuvOjPYUX0s",
        "colab": {
          "base_uri": "https://localhost:8080/",
          "height": 173
        },
        "outputId": "96a83665-1eea-48ed-86d1-866f6b406147"
      },
      "source": [
        "r2"
      ],
      "execution_count": null,
      "outputs": [
        {
          "output_type": "execute_result",
          "data": {
            "text/html": [
              "<div>\n",
              "<style scoped>\n",
              "    .dataframe tbody tr th:only-of-type {\n",
              "        vertical-align: middle;\n",
              "    }\n",
              "\n",
              "    .dataframe tbody tr th {\n",
              "        vertical-align: top;\n",
              "    }\n",
              "\n",
              "    .dataframe thead th {\n",
              "        text-align: right;\n",
              "    }\n",
              "</style>\n",
              "<table border=\"1\" class=\"dataframe\">\n",
              "  <thead>\n",
              "    <tr style=\"text-align: right;\">\n",
              "      <th></th>\n",
              "      <th>act</th>\n",
              "      <th>abc</th>\n",
              "      <th>boa</th>\n",
              "      <th>ga</th>\n",
              "      <th>pso</th>\n",
              "      <th>ssa</th>\n",
              "      <th>ssa-abhc</th>\n",
              "    </tr>\n",
              "  </thead>\n",
              "  <tbody>\n",
              "    <tr>\n",
              "      <th>EXXON MOBIL</th>\n",
              "      <td>1.0</td>\n",
              "      <td>-4.097750</td>\n",
              "      <td>-4.636984</td>\n",
              "      <td>-4.527121</td>\n",
              "      <td>0.720803</td>\n",
              "      <td>0.687101</td>\n",
              "      <td>0.558391</td>\n",
              "    </tr>\n",
              "    <tr>\n",
              "      <th>TESLA</th>\n",
              "      <td>1.0</td>\n",
              "      <td>-4.487201</td>\n",
              "      <td>-4.632511</td>\n",
              "      <td>-4.501546</td>\n",
              "      <td>0.720956</td>\n",
              "      <td>0.537531</td>\n",
              "      <td>0.720802</td>\n",
              "    </tr>\n",
              "    <tr>\n",
              "      <th>APPLE</th>\n",
              "      <td>1.0</td>\n",
              "      <td>-2.853017</td>\n",
              "      <td>-4.504372</td>\n",
              "      <td>-4.502588</td>\n",
              "      <td>0.659943</td>\n",
              "      <td>0.531593</td>\n",
              "      <td>0.649671</td>\n",
              "    </tr>\n",
              "    <tr>\n",
              "      <th>ADOBE</th>\n",
              "      <td>1.0</td>\n",
              "      <td>-4.359735</td>\n",
              "      <td>-4.600768</td>\n",
              "      <td>-4.537394</td>\n",
              "      <td>0.612896</td>\n",
              "      <td>-0.050149</td>\n",
              "      <td>-0.134453</td>\n",
              "    </tr>\n",
              "  </tbody>\n",
              "</table>\n",
              "</div>"
            ],
            "text/plain": [
              "             act       abc       boa        ga       pso       ssa  ssa-abhc\n",
              "EXXON MOBIL  1.0 -4.097750 -4.636984 -4.527121  0.720803  0.687101  0.558391\n",
              "TESLA        1.0 -4.487201 -4.632511 -4.501546  0.720956  0.537531  0.720802\n",
              "APPLE        1.0 -2.853017 -4.504372 -4.502588  0.659943  0.531593  0.649671\n",
              "ADOBE        1.0 -4.359735 -4.600768 -4.537394  0.612896 -0.050149 -0.134453"
            ]
          },
          "metadata": {
            "tags": []
          },
          "execution_count": 164
        }
      ]
    },
    {
      "cell_type": "code",
      "metadata": {
        "id": "qjvtSBzXUaJc",
        "colab": {
          "base_uri": "https://localhost:8080/",
          "height": 173
        },
        "outputId": "2309de2e-f1aa-47dd-b9f9-26bd1182ff8a"
      },
      "source": [
        "mape"
      ],
      "execution_count": null,
      "outputs": [
        {
          "output_type": "execute_result",
          "data": {
            "text/html": [
              "<div>\n",
              "<style scoped>\n",
              "    .dataframe tbody tr th:only-of-type {\n",
              "        vertical-align: middle;\n",
              "    }\n",
              "\n",
              "    .dataframe tbody tr th {\n",
              "        vertical-align: top;\n",
              "    }\n",
              "\n",
              "    .dataframe thead th {\n",
              "        text-align: right;\n",
              "    }\n",
              "</style>\n",
              "<table border=\"1\" class=\"dataframe\">\n",
              "  <thead>\n",
              "    <tr style=\"text-align: right;\">\n",
              "      <th></th>\n",
              "      <th>act</th>\n",
              "      <th>abc</th>\n",
              "      <th>boa</th>\n",
              "      <th>ga</th>\n",
              "      <th>pso</th>\n",
              "      <th>ssa</th>\n",
              "      <th>ssa-abhc</th>\n",
              "    </tr>\n",
              "  </thead>\n",
              "  <tbody>\n",
              "    <tr>\n",
              "      <th>EXXON MOBIL</th>\n",
              "      <td>0.0</td>\n",
              "      <td>101.777992</td>\n",
              "      <td>144.020515</td>\n",
              "      <td>135.854475</td>\n",
              "      <td>21.745114</td>\n",
              "      <td>22.656757</td>\n",
              "      <td>24.864360</td>\n",
              "    </tr>\n",
              "    <tr>\n",
              "      <th>TESLA</th>\n",
              "      <td>0.0</td>\n",
              "      <td>116.083842</td>\n",
              "      <td>143.863915</td>\n",
              "      <td>127.184305</td>\n",
              "      <td>21.746669</td>\n",
              "      <td>26.246985</td>\n",
              "      <td>21.761282</td>\n",
              "    </tr>\n",
              "    <tr>\n",
              "      <th>APPLE</th>\n",
              "      <td>0.0</td>\n",
              "      <td>72.782650</td>\n",
              "      <td>129.890667</td>\n",
              "      <td>128.797232</td>\n",
              "      <td>23.104484</td>\n",
              "      <td>26.402399</td>\n",
              "      <td>23.374446</td>\n",
              "    </tr>\n",
              "    <tr>\n",
              "      <th>ADOBE</th>\n",
              "      <td>0.0</td>\n",
              "      <td>109.971377</td>\n",
              "      <td>142.372928</td>\n",
              "      <td>137.257937</td>\n",
              "      <td>24.305157</td>\n",
              "      <td>34.900078</td>\n",
              "      <td>36.944324</td>\n",
              "    </tr>\n",
              "  </tbody>\n",
              "</table>\n",
              "</div>"
            ],
            "text/plain": [
              "             act         abc         boa  ...        pso        ssa   ssa-abhc\n",
              "EXXON MOBIL  0.0  101.777992  144.020515  ...  21.745114  22.656757  24.864360\n",
              "TESLA        0.0  116.083842  143.863915  ...  21.746669  26.246985  21.761282\n",
              "APPLE        0.0   72.782650  129.890667  ...  23.104484  26.402399  23.374446\n",
              "ADOBE        0.0  109.971377  142.372928  ...  24.305157  34.900078  36.944324\n",
              "\n",
              "[4 rows x 7 columns]"
            ]
          },
          "metadata": {
            "tags": []
          },
          "execution_count": 165
        }
      ]
    },
    {
      "cell_type": "code",
      "metadata": {
        "id": "AUFCI1QlUbVf",
        "colab": {
          "base_uri": "https://localhost:8080/",
          "height": 173
        },
        "outputId": "0fd03e88-5625-42eb-bedf-cd2e476b320e"
      },
      "source": [
        "mae"
      ],
      "execution_count": null,
      "outputs": [
        {
          "output_type": "execute_result",
          "data": {
            "text/html": [
              "<div>\n",
              "<style scoped>\n",
              "    .dataframe tbody tr th:only-of-type {\n",
              "        vertical-align: middle;\n",
              "    }\n",
              "\n",
              "    .dataframe tbody tr th {\n",
              "        vertical-align: top;\n",
              "    }\n",
              "\n",
              "    .dataframe thead th {\n",
              "        text-align: right;\n",
              "    }\n",
              "</style>\n",
              "<table border=\"1\" class=\"dataframe\">\n",
              "  <thead>\n",
              "    <tr style=\"text-align: right;\">\n",
              "      <th></th>\n",
              "      <th>act</th>\n",
              "      <th>abc</th>\n",
              "      <th>boa</th>\n",
              "      <th>ga</th>\n",
              "      <th>pso</th>\n",
              "      <th>ssa</th>\n",
              "      <th>ssa-abhc</th>\n",
              "    </tr>\n",
              "  </thead>\n",
              "  <tbody>\n",
              "    <tr>\n",
              "      <th>EXXON MOBIL</th>\n",
              "      <td>0.0</td>\n",
              "      <td>1.656660</td>\n",
              "      <td>1.905194</td>\n",
              "      <td>1.865006</td>\n",
              "      <td>0.340316</td>\n",
              "      <td>0.359239</td>\n",
              "      <td>0.415199</td>\n",
              "    </tr>\n",
              "    <tr>\n",
              "      <th>TESLA</th>\n",
              "      <td>0.0</td>\n",
              "      <td>1.788009</td>\n",
              "      <td>1.904107</td>\n",
              "      <td>1.832759</td>\n",
              "      <td>0.340275</td>\n",
              "      <td>0.435550</td>\n",
              "      <td>0.340464</td>\n",
              "    </tr>\n",
              "    <tr>\n",
              "      <th>APPLE</th>\n",
              "      <td>0.0</td>\n",
              "      <td>1.306119</td>\n",
              "      <td>1.842367</td>\n",
              "      <td>1.838437</td>\n",
              "      <td>0.372677</td>\n",
              "      <td>0.438480</td>\n",
              "      <td>0.378221</td>\n",
              "    </tr>\n",
              "    <tr>\n",
              "      <th>ADOBE</th>\n",
              "      <td>0.0</td>\n",
              "      <td>1.739813</td>\n",
              "      <td>1.895304</td>\n",
              "      <td>1.870871</td>\n",
              "      <td>0.397511</td>\n",
              "      <td>0.623165</td>\n",
              "      <td>0.658369</td>\n",
              "    </tr>\n",
              "  </tbody>\n",
              "</table>\n",
              "</div>"
            ],
            "text/plain": [
              "             act       abc       boa        ga       pso       ssa  ssa-abhc\n",
              "EXXON MOBIL  0.0  1.656660  1.905194  1.865006  0.340316  0.359239  0.415199\n",
              "TESLA        0.0  1.788009  1.904107  1.832759  0.340275  0.435550  0.340464\n",
              "APPLE        0.0  1.306119  1.842367  1.838437  0.372677  0.438480  0.378221\n",
              "ADOBE        0.0  1.739813  1.895304  1.870871  0.397511  0.623165  0.658369"
            ]
          },
          "metadata": {
            "tags": []
          },
          "execution_count": 166
        }
      ]
    },
    {
      "cell_type": "code",
      "metadata": {
        "id": "r9fXaNKEV2dq",
        "colab": {
          "base_uri": "https://localhost:8080/",
          "height": 500
        },
        "outputId": "5b51cbed-a486-4abb-b7ba-4d20a4e51310"
      },
      "source": [
        "r2.transpose().plot(figsize= (12,8))"
      ],
      "execution_count": null,
      "outputs": [
        {
          "output_type": "execute_result",
          "data": {
            "text/plain": [
              "<matplotlib.axes._subplots.AxesSubplot at 0x7fd8d00ed748>"
            ]
          },
          "metadata": {
            "tags": []
          },
          "execution_count": 170
        },
        {
          "output_type": "display_data",
          "data": {
            "image/png": "[encoded data removed]",
            "text/plain": [
              "<Figure size 864x576 with 1 Axes>"
            ]
          },
          "metadata": {
            "tags": [],
            "needs_background": "light"
          }
        }
      ]
    },
    {
      "cell_type": "code",
      "metadata": {
        "id": "qrB6D1pqV2VS",
        "colab": {
          "base_uri": "https://localhost:8080/",
          "height": 500
        },
        "outputId": "ae1b7a32-4102-4296-e737-427e37de835f"
      },
      "source": [
        "mape.transpose().plot(figsize= (12,8))"
      ],
      "execution_count": null,
      "outputs": [
        {
          "output_type": "execute_result",
          "data": {
            "text/plain": [
              "<matplotlib.axes._subplots.AxesSubplot at 0x7fd8d00d2908>"
            ]
          },
          "metadata": {
            "tags": []
          },
          "execution_count": 171
        },
        {
          "output_type": "display_data",
          "data": {
            "image/png": "[encoded data removed]",
            "text/plain": [
              "<Figure size 864x576 with 1 Axes>"
            ]
          },
          "metadata": {
            "tags": [],
            "needs_background": "light"
          }
        }
      ]
    },
    {
      "cell_type": "code",
      "metadata": {
        "id": "w3PDYkzwUcUY",
        "colab": {
          "base_uri": "https://localhost:8080/",
          "height": 504
        },
        "outputId": "f059d983-10e8-4593-9337-be1c58c87809"
      },
      "source": [
        "mae.transpose().plot(figsize= (12,8))"
      ],
      "execution_count": null,
      "outputs": [
        {
          "output_type": "execute_result",
          "data": {
            "text/plain": [
              "<matplotlib.axes._subplots.AxesSubplot at 0x7fd8d00d29e8>"
            ]
          },
          "metadata": {
            "tags": []
          },
          "execution_count": 173
        },
        {
          "output_type": "display_data",
          "data": {
            "image/png": "[encoded data removed]",
            "text/plain": [
              "<Figure size 864x576 with 1 Axes>"
            ]
          },
          "metadata": {
            "tags": [],
            "needs_background": "light"
          }
        }
      ]
    },
    {
      "cell_type": "code",
      "metadata": {
        "id": "sQHqS8b2Veni"
      },
      "source": [
        "plt.rc('grid', color='w', linestyle='solid')"
      ],
      "execution_count": null,
      "outputs": []
    },
    {
      "cell_type": "code",
      "metadata": {
        "id": "6aMJ2_1PXH_Y"
      },
      "source": [
        ""
      ],
      "execution_count": null,
      "outputs": []
    }
  ]
}